{
 "cells": [
  {
   "cell_type": "markdown",
   "metadata": {},
   "source": [
    "## Задача 1\n",
    "Мы разрабатываем софт для магазина программистов. Покупатели вводят названия товаров в терминал и таким образом совершают покупки.\n",
    "\n",
    "В словаре products хранятся названия и стоимость товаров."
   ]
  },
  {
   "cell_type": "code",
   "execution_count": 1,
   "metadata": {},
   "outputs": [],
   "source": [
    "products = {\n",
    "    \"ноутбук\": 5000,\n",
    "    \"смартфон\": 20000,\n",
    "    \"наушники\": 1000,\n",
    "    \"монитор\": 10000,\n",
    "    \"клавиатура\": 500,\n",
    "    \"мышь\": 200,\n",
    "    \"роутер\": 1500,\n",
    "    \"принтер\": 5000,\n",
    "    \"флешка\": 1000,\n",
    "    \"жесткий диск\": 3000\n",
    "}"
   ]
  },
  {
   "cell_type": "code",
   "execution_count": 2,
   "metadata": {},
   "outputs": [],
   "source": [
    "def calculate_order_cost(product_dict, *selected_items):\n",
    "    total_cost = 0\n",
    "    orders_info ={}\n",
    "\n",
    "    for item in selected_items:\n",
    "        if item in product_dict:\n",
    "            total_cost += product_dict[item]\n",
    "            orders_info[item] = orders_info.get(item, 0) + 1\n",
    "    \n",
    "    return total_cost, orders_info\n",
    "\n",
    " \n",
    "# def calculate_order_cost(products, *args):\n",
    "#     total_price = 0\n",
    "#     orders_info = {}\n",
    "#     for product in args:\n",
    "#         product_price = products.get(product)\n",
    "#         if not product_price:\n",
    "#             continue\n",
    "#         total_price += product_price\n",
    "#         order_info = orders_info.get(product)\n",
    "#         if order_info:\n",
    "#             orders_info[product] += 1\n",
    "#         else:\n",
    "#             orders_info[product] = 1\n",
    "#     return total_price, orders_info"
   ]
  },
  {
   "cell_type": "markdown",
   "metadata": {},
   "source": [
    "Создайте функцию calculate_order_cost, которая получает на вход словарь с товарами, а далее неограниченное количество аргументов: название товаров, которые выбрал покупатель. Если товара нет в products, просто не учитываем этот товар. Функция возвращает два значения: суммарную стоимость заказа, словарь купленных товаров, где ключ — название товара, значение число единиц товара. "
   ]
  },
  {
   "cell_type": "code",
   "execution_count": 3,
   "metadata": {},
   "outputs": [
    {
     "name": "stdout",
     "output_type": "stream",
     "text": [
      "6500\n",
      "{'ноутбук': 1, 'роутер': 1}\n",
      "11400\n",
      "{'мышь': 2, 'флешка': 1, 'монитор': 1}\n"
     ]
    }
   ],
   "source": [
    "total_cost, orders_info = calculate_order_cost(products, 'ноутбук', 'роутер') \n",
    "print(total_cost) # 6500\n",
    "print(orders_info) # {'ноутбук': 1, 'роутер': 1}\n",
    "\n",
    "total_cost, orders_info = calculate_order_cost(products , 'мышь', 'флешка', 'монитор', 'кабель', 'мышь') \n",
    "print(total_cost) # 11400\n",
    "print(orders_info) # {'мышь': 2, 'флешка': 1, 'монитор': 1}"
   ]
  },
  {
   "cell_type": "markdown",
   "metadata": {},
   "source": [
    "## Задача 2\n",
    "Напишите функцию calculator, принимающую 3 аргумента: первый — операция, вторые два — числа, над которыми должна быть произведена операция.\n",
    "\n",
    "Например: если первый аргумент +, то нужно сложить числа a и b; если —, то вычесть.\n",
    "\n",
    "Функция должна вернуть одно число — результат выполнения операции. Если операцию выполнить не удалось — вернуть строку “Error”."
   ]
  },
  {
   "cell_type": "code",
   "execution_count": 4,
   "metadata": {},
   "outputs": [],
   "source": [
    "# result = 0\n",
    "\n",
    "def calculator(op, a, b):\n",
    "    ...\n",
    "        \n",
    "\n",
    "# calculator('+', 2, 4) # -> 6\n",
    "# calculator('^', 2, 4) # -> 16\n",
    "# calculator('', 2, 4) # -> 'Error'"
   ]
  },
  {
   "cell_type": "code",
   "execution_count": 5,
   "metadata": {},
   "outputs": [],
   "source": [
    "result = 0\n",
    "\n",
    "def calculator(op, a, b):\n",
    "    if op == '+':\n",
    "        result = a + b\n",
    "    elif op == '-':\n",
    "        result = a - b\n",
    "    elif op == '*':\n",
    "        result = a * b\n",
    "    elif op == '/':\n",
    "        if b != 0:\n",
    "            result = a / b\n",
    "        else:\n",
    "            return 'Error'\n",
    "    elif op == '**' or op == '^':\n",
    "        result = a ** b\n",
    "    elif op == '%':\n",
    "        result = a % b\n",
    "    elif op == '//':\n",
    "        if b != 0:\n",
    "            result = a // b\n",
    "        else:\n",
    "            return 'Error'\n",
    "    else:\n",
    "        return 'Error'\n",
    "\n",
    "    return result\n",
    "\n",
    "\n",
    "# def calculator(op, a, b):\n",
    "#     if op == '+':\n",
    "#         return a + b\n",
    "#     elif op == '-':\n",
    "#         return a - b \n",
    "#     elif op == '*':\n",
    "#         return a * b\n",
    "#     elif op == '/':\n",
    "#         if b != 0:\n",
    "#             return a / b\n",
    "#         else: \n",
    "#             return 'Error'\n",
    "#     elif op == '^':\n",
    "#         return a ** b\n",
    "#     else:\n",
    "#         return 'Error'"
   ]
  },
  {
   "cell_type": "markdown",
   "metadata": {},
   "source": [
    "## Задача 3\n",
    "В Хогвартсе начинается новый учебный год, идет церемония распределения. На голову каждого нового ученика надевают распределяющую шляпу. В зависимости от качеств, которые шляпа увидит в ребенке, он будет зачислен на соответствующий факультет:\n",
    "\n",
    " - Гриффиндор — храбрость, благородство, честь;\n",
    " - Пуффендуй — трудолюбие, верность, честность;\n",
    " - Когтевран — ум, любознательность, творчество;\n",
    " - Слизерин — хитрость, амбициозность, находчивость.\n",
    "Напишите функцию sorting_hat(), которая в качестве аргумента будет принимать словарь вида:\n",
    "\n",
    "new_students = {‘Сириус Блэк’: ‘храбрость’}, где ключ — имя ученика, значение — качество, которым он обладает. \n",
    "\n",
    "Функция должна вернуть 2 переменные:\n",
    "\n",
    "sorted_students — словарь вида: ключ — имя ученика, значение — факультет, на который он был зачислен. Данные в словаре должны быть отсортированы по названию факультета и по имени ученика. \n",
    "\n",
    "department — словарь вида: ключ - факультет, значение — количество зачисленных на него учеников. Отсортируйте словарь по ключу. "
   ]
  },
  {
   "cell_type": "code",
   "execution_count": 52,
   "metadata": {},
   "outputs": [],
   "source": [
    "new_students = {'Сириус Блэк': 'храбрость', 'Аманда Коршун': 'любознательность', \n",
    "                'Пенелопа Вулпинголд': 'находчивость', 'Артур Поттер': 'храбрость', 'Тесая Блэк': 'ум'}\n",
    "\n",
    "def sorting_hat(new_students):\n",
    "    faculties = {\n",
    "        'храбрость': 'Гриффиндор',\n",
    "        'благородство': 'Гриффиндор',\n",
    "        'честь': 'Гриффиндор',\n",
    "        'трудолюбие': 'Пуффендуй',\n",
    "        'верность': 'Пуффендуй',\n",
    "        'честность': 'Пуффендуй',\n",
    "        'ум': 'Когтевран',\n",
    "        'любознательность': 'Когтевран',\n",
    "        'творчество': 'Когтевран',\n",
    "        'хитрость': 'Слизерин',\n",
    "        'амбициозность': 'Слизерин',\n",
    "        'находчивость': 'Слизерин'\n",
    "    }\n",
    "\n",
    "    sorted_students = {}\n",
    "    departments = {'Гриффиндор': 0, 'Когтевран': 0, 'Пуффендуй': 0, 'Слизерин': 0}\n",
    "\n",
    "    # Заполняем словари sorted_students и departments в соответствии с распределением\n",
    "    for student, quality in sorted(new_students.items()):\n",
    "        faculty = faculties.get(quality, 'Неопределенный факультет')\n",
    "        sorted_students[student] = faculty\n",
    "        departments[faculty] += 1\n",
    "\n",
    "    return sorted_students, departments\n",
    "    \n",
    "\n",
    "\n",
    "# def sorting_hat(new_students):\n",
    "#     sorted_students = list(new_students.items())\n",
    "#     sorted_students = list(map(lambda x: (x[0], \n",
    "#                                           'Гриффиндор' if x[1] in ['храбрость', 'благородство', 'честь'] else x[1]), sorted_students))\n",
    "#     sorted_students = list(map(lambda x: (x[0], \n",
    "#                                           'Пуффендуй' if x[1] in ['трудолюбие', 'верность', 'честность'] else x[1]), sorted_students))\n",
    "#     sorted_students = list(map(lambda x: (x[0], \n",
    "#                                           'Когтевран' if x[1] in ['ум', 'любознательность', 'творчество'] else x[1]), sorted_students))\n",
    "#     sorted_students = list(map(lambda x: (x[0], \n",
    "#                                           'Слизерин' if x[1] in ['хитрость', 'амбициозность', 'находчивость'] else x[1]), sorted_students))\n",
    "    \n",
    "#     sorted_students.sort(key=lambda a: (a[1], a[0]))\n",
    "    \n",
    "#     departments = []\n",
    "#     for d in ['Гриффиндор', 'Пуффендуй', 'Когтевран', 'Слизерин']:\n",
    "#         d_students = len(list(filter(lambda x: x[1] == d, sorted_students)))\n",
    "#         departments.append((d, d_students))\n",
    "#     departments.sort(key=lambda a: a[0])\n",
    "    \n",
    "#     return dict(sorted_students), dict(departments)\n"
   ]
  },
  {
   "cell_type": "code",
   "execution_count": 53,
   "metadata": {},
   "outputs": [
    {
     "data": {
      "text/plain": [
       "({'Аманда Коршун': 'Когтевран',\n",
       "  'Артур Поттер': 'Гриффиндор',\n",
       "  'Пенелопа Вулпинголд': 'Слизерин',\n",
       "  'Сириус Блэк': 'Гриффиндор',\n",
       "  'Тесая Блэк': 'Когтевран'},\n",
       " {'Гриффиндор': 2, 'Когтевран': 2, 'Пуффендуй': 0, 'Слизерин': 1})"
      ]
     },
     "execution_count": 53,
     "metadata": {},
     "output_type": "execute_result"
    }
   ],
   "source": [
    "sorting_hat(new_students)"
   ]
  },
  {
   "cell_type": "code",
   "execution_count": null,
   "metadata": {},
   "outputs": [],
   "source": [
    "# sorting_hat(new_students) # ->\n",
    "# sorted_students = {'Артур Поттер': 'Гриффиндор', 'Сириус Блэк': 'Гриффиндор', 'Аманда Коршун': 'Когтевран', \n",
    "#                    'Тесая Блэк': 'Когтевран', 'Пенелопа Вулпинголд': 'Слизерин'}\n",
    "# departments = {'Гриффиндор': 2, 'Когтевран': 2, 'Пуффендуй': 0, 'Слизерин': 1}"
   ]
  },
  {
   "cell_type": "markdown",
   "metadata": {},
   "source": [
    "## Задача 4\n",
    "Дан список кортежей input_list. Отсортируйте input_list по 2 элементу кортежа в порядке убывания. Отфильтруйте список так, чтобы остались только те элементы, второе значение в кортеже у которых кратно 5. \n",
    "\n",
    "Результат сохраните в result. \n",
    "\n",
    "Для решения задачи используйте lambda-функцию. "
   ]
  },
  {
   "cell_type": "code",
   "execution_count": 7,
   "metadata": {},
   "outputs": [],
   "source": [
    "input_list = [('Anna', 13), ('Ivan', 20), ('Irina', 23), ('Olga', 25), \n",
    "              ('Ivan', 30), ('Oleg', 24), ('Olga', 26)]\n",
    "# result = [('Ivan', 30), ('Olga', 25), ('Ivan', 20)]"
   ]
  },
  {
   "cell_type": "code",
   "execution_count": 21,
   "metadata": {},
   "outputs": [],
   "source": [
    "sorted_list = sorted(input_list, key = lambda x: x[1], reverse=True)\n",
    "result = list(filter(lambda x: x[1] % 5 == 0, sorted_list))\n",
    "\n",
    "# input_list.sort(key=lambda a: a[1], reverse=True)\n",
    "result = list(filter(lambda x: x[1] % 5 == 0, input_list))"
   ]
  },
  {
   "cell_type": "code",
   "execution_count": 22,
   "metadata": {},
   "outputs": [
    {
     "data": {
      "text/plain": [
       "[('Ivan', 30), ('Olga', 25), ('Ivan', 20)]"
      ]
     },
     "execution_count": 22,
     "metadata": {},
     "output_type": "execute_result"
    }
   ],
   "source": [
    "result"
   ]
  },
  {
   "cell_type": "markdown",
   "metadata": {},
   "source": [
    "## Задача 5\n",
    "Гипотеза Коллатца: какое бы начальное натуральное число n мы ни взяли, рано или поздно мы получим единицу, если выполняем следующие преобразования:\n",
    "\n",
    "Если n чётное, то делим его на 2;\n",
    "Если n нечётное, то умножаем на 3 и прибавляем 1 (получаем 3n + 1).\n",
    "Напишите функцию def collatz_conjecture(), которая будет принимать натуральное число n и возвращать последовательность чисел, полученных указанными выше преобразованиями. "
   ]
  },
  {
   "cell_type": "code",
   "execution_count": 39,
   "metadata": {},
   "outputs": [
    {
     "data": {
      "text/plain": [
       "[3, 10, 5, 16, 8, 4, 2, 1]"
      ]
     },
     "execution_count": 39,
     "metadata": {},
     "output_type": "execute_result"
    }
   ],
   "source": [
    "def collatz_conjecture(n):\n",
    "    sequence = [n]\n",
    "    while n != 1:\n",
    "        if n % 2 == 0:\n",
    "            n //= 2\n",
    "        else:\n",
    "            n = 3 * n + 1\n",
    "        sequence.append(n)\n",
    "    return sequence\n",
    "\n",
    "\n",
    "# def collatz_conjecture(n):\n",
    "    res = [n]\n",
    "    while n != 1:\n",
    "        n = n * 3 + 1 if n % 2 else n // 2\n",
    "        res.append(n)\n",
    "    return res\n"
   ]
  },
  {
   "cell_type": "code",
   "execution_count": 41,
   "metadata": {},
   "outputs": [
    {
     "data": {
      "text/plain": [
       "[8, 4, 2, 1]"
      ]
     },
     "execution_count": 41,
     "metadata": {},
     "output_type": "execute_result"
    }
   ],
   "source": [
    "collatz_conjecture(8) # -> [8, 4, 2, 1]\n",
    "# collatz_conjecture(3) # -> [3, 10, 5, 16, 8, 4, 2, 1]"
   ]
  },
  {
   "cell_type": "markdown",
   "metadata": {},
   "source": [
    "## Задача 6\n",
    "Напишите функцию reverse_tuple(), которая будет принимать список целых чисел. В результате выполнения этой функции будет получен кортеж уникальных элементов списка в обратном порядке."
   ]
  },
  {
   "cell_type": "code",
   "execution_count": 28,
   "metadata": {},
   "outputs": [],
   "source": [
    "def reverse_tuple(lst):\n",
    "    unique_elements = []\n",
    "    for item in reversed(lst):\n",
    "        if item not in unique_elements:\n",
    "            unique_elements.append(item)\n",
    "    return tuple(unique_elements)\n",
    "\n",
    "# def reverse_tuple(lst):\n",
    "    uniq_elems = []\n",
    "    [uniq_elems.append(i) for i in reversed(lst) if i not in uniq_elems]\n",
    "    return tuple(uniq_elems)\n"
   ]
  },
  {
   "cell_type": "code",
   "execution_count": 31,
   "metadata": {},
   "outputs": [
    {
     "data": {
      "text/plain": [
       "(3, 1, 6, 5, 4)"
      ]
     },
     "execution_count": 31,
     "metadata": {},
     "output_type": "execute_result"
    }
   ],
   "source": [
    "# reverse_tuple([1, 3, 4]) # -> (4, 3, 1)\n",
    "# reverse_tuple([1, 3, 4, 4, 5, 2]) # -> (2, 5, 4, 3, 1)\n",
    "reverse_tuple([4, 5, 3, 5, 5, 6, 1, 3])"
   ]
  },
  {
   "cell_type": "markdown",
   "metadata": {},
   "source": [
    "## Задача 7\n",
    "Напишите функцию update_tuple(), которая будет принимать кортеж  input_tuple, удалять первое появление определенного элемента el_del из кортежа по значению и возвращать кортеж без него. \n",
    "\n",
    "Удаляемого элемента в кортеже может не быть, в этом случае кортеж вернется функцией в исходном виде."
   ]
  },
  {
   "cell_type": "code",
   "execution_count": 38,
   "metadata": {},
   "outputs": [],
   "source": [
    "def update_tuple(input_tuple, el_del):\n",
    "    # Проверяем, есть ли удаляемый элемент в кортеже\n",
    "    if el_del in input_tuple:\n",
    "        # Ищем индекс первого появления элемента\n",
    "        index = input_tuple.index(el_del)\n",
    "        # Создаем новый кортеж без удаляемого элемента\n",
    "        updated_tuple = tuple(input_tuple[:index] + input_tuple[index+1:])\n",
    "        return updated_tuple\n",
    "    else:\n",
    "        # Если удаляемого элемента нет, возвращаем исходный кортеж\n",
    "        return input_tuple\n",
    "\n",
    "\n",
    "# def update_tuple(input_tuple, el_del):\n",
    "#     if el_del in input_tuple:\n",
    "#         elem_index = input_tuple.index(el_del)\n",
    "#         return input_tuple[:elem_index] + input_tuple[elem_index + 1:]\n",
    "#     return input_tuple"
   ]
  },
  {
   "cell_type": "code",
   "execution_count": null,
   "metadata": {},
   "outputs": [],
   "source": [
    "# update_tuple((1, 2, 3), 1) #-> (2, 3)\n",
    "# update_tuple((1, 2, 3, 3, 9, 5), 3) #-> (1, 2, 3, 9, 5)\n",
    "update_tuple((1, 2, 3), 9) #-> (1, 2, 3)"
   ]
  }
 ],
 "metadata": {
  "kernelspec": {
   "display_name": "base",
   "language": "python",
   "name": "python3"
  },
  "language_info": {
   "codemirror_mode": {
    "name": "ipython",
    "version": 3
   },
   "file_extension": ".py",
   "mimetype": "text/x-python",
   "name": "python",
   "nbconvert_exporter": "python",
   "pygments_lexer": "ipython3",
   "version": "3.11.3"
  }
 },
 "nbformat": 4,
 "nbformat_minor": 2
}
