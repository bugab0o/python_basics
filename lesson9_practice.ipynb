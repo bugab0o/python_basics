{
 "cells": [
  {
   "cell_type": "markdown",
   "metadata": {},
   "source": [
    "## Задача 1\n",
    "Мы разрабатываем софт для магазина программистов. Покупатели вводят названия товаров в терминал и таким образом совершают покупки.\n",
    "\n",
    "В словаре products хранятся названия и стоимость товаров."
   ]
  },
  {
   "cell_type": "code",
   "execution_count": 38,
   "metadata": {},
   "outputs": [],
   "source": [
    "products = {\n",
    "    \"ноутбук\": 5000,\n",
    "    \"смартфон\": 20000,\n",
    "    \"наушники\": 1000,\n",
    "    \"монитор\": 10000,\n",
    "    \"клавиатура\": 500,\n",
    "    \"мышь\": 200,\n",
    "    \"роутер\": 1500,\n",
    "    \"принтер\": 5000,\n",
    "    \"флешка\": 1000,\n",
    "    \"жесткий диск\": 3000\n",
    "}"
   ]
  },
  {
   "cell_type": "code",
   "execution_count": 39,
   "metadata": {},
   "outputs": [],
   "source": [
    "def calculate_order_cost(product_dict, *selected_items):\n",
    "    total_cost = 0\n",
    "    orders_info ={}\n",
    "\n",
    "    for item in selected_items:\n",
    "        if item in product_dict:\n",
    "            total_cost += product_dict[item]\n",
    "            orders_info[item] = orders_info.get(item, 0) + 1\n",
    "    \n",
    "    return total_cost, orders_info\n",
    "\n",
    " \n",
    "# def calculate_order_cost(products, *args):\n",
    "#     total_price = 0\n",
    "#     orders_info = {}\n",
    "#     for product in args:\n",
    "#         product_price = products.get(product)\n",
    "#         if not product_price:\n",
    "#             continue\n",
    "#         total_price += product_price\n",
    "#         order_info = orders_info.get(product)\n",
    "#         if order_info:\n",
    "#             orders_info[product] += 1\n",
    "#         else:\n",
    "#             orders_info[product] = 1\n",
    "#     return total_price, orders_info"
   ]
  },
  {
   "cell_type": "markdown",
   "metadata": {},
   "source": [
    "Создайте функцию calculate_order_cost, которая получает на вход словарь с товарами, а далее неограниченное количество аргументов: название товаров, которые выбрал покупатель. Если товара нет в products, просто не учитываем этот товар. Функция возвращает два значения: суммарную стоимость заказа, словарь купленных товаров, где ключ — название товара, значение число единиц товара. "
   ]
  },
  {
   "cell_type": "code",
   "execution_count": 40,
   "metadata": {},
   "outputs": [
    {
     "name": "stdout",
     "output_type": "stream",
     "text": [
      "6500\n",
      "{'ноутбук': 1, 'роутер': 1}\n",
      "11400\n",
      "{'мышь': 2, 'флешка': 1, 'монитор': 1}\n"
     ]
    }
   ],
   "source": [
    "total_cost, orders_info = calculate_order_cost(products, 'ноутбук', 'роутер') \n",
    "print(total_cost) # 6500\n",
    "print(orders_info) # {'ноутбук': 1, 'роутер': 1}\n",
    "\n",
    "total_cost, orders_info = calculate_order_cost(products , 'мышь', 'флешка', 'монитор', 'кабель', 'мышь') \n",
    "print(total_cost) # 11400\n",
    "print(orders_info) # {'мышь': 2, 'флешка': 1, 'монитор': 1}"
   ]
  },
  {
   "cell_type": "markdown",
   "metadata": {},
   "source": [
    "## Задача 2\n",
    "Напишите функцию calculator, принимающую 3 аргумента: первый — операция, вторые два — числа, над которыми должна быть произведена операция.\n",
    "\n",
    "Например: если первый аргумент +, то нужно сложить числа a и b; если —, то вычесть.\n",
    "\n",
    "Функция должна вернуть одно число — результат выполнения операции. Если операцию выполнить не удалось — вернуть строку “Error”."
   ]
  },
  {
   "cell_type": "code",
   "execution_count": 64,
   "metadata": {},
   "outputs": [
    {
     "data": {
      "text/plain": [
       "'(<function calculator.<locals>.<lambda> at 0x0000020EB3B63D80>, 6)'"
      ]
     },
     "execution_count": 64,
     "metadata": {},
     "output_type": "execute_result"
    }
   ],
   "source": [
    "# result = 0\n",
    "\n",
    "def calculator(op, a, b):\n",
    "    ...\n",
    "        \n",
    "\n",
    "# calculator('+', 2, 4) # -> 6\n",
    "# calculator('^', 2, 4) # -> 16\n",
    "# calculator('', 2, 4) # -> 'Error'"
   ]
  },
  {
   "cell_type": "code",
   "execution_count": 68,
   "metadata": {},
   "outputs": [],
   "source": [
    "result = 0\n",
    "\n",
    "def calculator(op, a, b):\n",
    "    if op == '+':\n",
    "        result = a + b\n",
    "    elif op == '-':\n",
    "        result = a - b\n",
    "    elif op == '*':\n",
    "        result = a * b\n",
    "    elif op == '/':\n",
    "        if b != 0:\n",
    "            result = a / b\n",
    "        else:\n",
    "            return 'Error'\n",
    "    elif op == '**' or op == '^':\n",
    "        result = a ** b\n",
    "    elif op == '%':\n",
    "        result = a % b\n",
    "    elif op == '//':\n",
    "        if b != 0:\n",
    "            result = a // b\n",
    "        else:\n",
    "            return 'Error'\n",
    "    else:\n",
    "        return 'Error'\n",
    "\n",
    "    return result\n",
    "\n",
    "\n",
    "# def calculator(op, a, b):\n",
    "#     if op == '+':\n",
    "#         return a + b\n",
    "#     elif op == '-':\n",
    "#         return a - b \n",
    "#     elif op == '*':\n",
    "#         return a * b\n",
    "#     elif op == '/':\n",
    "#         if b != 0:\n",
    "#             return a / b\n",
    "#         else: \n",
    "#             return 'Error'\n",
    "#     elif op == '^':\n",
    "#         return a ** b\n",
    "#     else:\n",
    "#         return 'Error'"
   ]
  },
  {
   "cell_type": "markdown",
   "metadata": {},
   "source": [
    "## Задача 3\n",
    "В Хогвартсе начинается новый учебный год, идет церемония распределения. На голову каждого нового ученика надевают распределяющую шляпу. В зависимости от качеств, которые шляпа увидит в ребенке, он будет зачислен на соответствующий факультет:\n",
    "\n",
    " - Гриффиндор — храбрость, благородство, честь;\n",
    " - Пуффендуй — трудолюбие, верность, честность;\n",
    " - Когтевран — ум, любознательность, творчество;\n",
    " - Слизерин — хитрость, амбициозность, находчивость.\n",
    "Напишите функцию sorting_hat(), которая в качестве аргумента будет принимать словарь вида:\n",
    "\n",
    "new_students = {‘Сириус Блэк’: ‘храбрость’}, где ключ — имя ученика, значение — качество, которым он обладает. \n",
    "\n",
    "Функция должна вернуть 2 переменные:\n",
    "\n",
    "sorted_students — словарь вида: ключ — имя ученика, значение — факультет, на который он был зачислен. Данные в словаре должны быть отсортированы по названию факультета и по имени ученика. \n",
    "\n",
    "department — словарь вида: ключ - факультет, значение — количество зачисленных на него учеников. Отсортируйте словарь по ключу. "
   ]
  },
  {
   "cell_type": "code",
   "execution_count": null,
   "metadata": {},
   "outputs": [],
   "source": [
    "def sorting_hat(new_students):\n",
    "    ...\n",
    "    return sorted_students, departments\n",
    "\n",
    "new_students = {'Сириус Блэк': 'храбрость', 'Аманда Коршун': 'любознательность', \n",
    "                'Пенелопа Вулпинголд': 'находчивость', 'Артур Поттер': 'храбрость', 'Тесая Блэк': 'ум'}\n",
    "sorting_hat(new_students) # ->\n",
    "# sorted_students = {'Артур Поттер': 'Гриффиндор', 'Сириус Блэк': 'Гриффиндор', 'Аманда Коршун': 'Когтевран', \n",
    "#                    'Тесая Блэк': 'Когтевран', 'Пенелопа Вулпинголд': 'Слизерин'}\n",
    "# departments = {'Гриффиндор': 2, 'Когтевран': 2, 'Пуффендуй': 0, 'Слизерин': 1}"
   ]
  },
  {
   "cell_type": "code",
   "execution_count": null,
   "metadata": {},
   "outputs": [],
   "source": []
  },
  {
   "cell_type": "code",
   "execution_count": null,
   "metadata": {},
   "outputs": [],
   "source": []
  },
  {
   "cell_type": "markdown",
   "metadata": {},
   "source": [
    "## Задача 4\n",
    "Дан список кортежей input_list. Отсортируйте input_list по 2 элементу кортежа в порядке убывания. Отфильтруйте список так, чтобы остались только те элементы, второе значение в кортеже у которых кратно 5. \n",
    "\n",
    "Результат сохраните в result. \n",
    "\n",
    "Для решения задачи используйте lambda-функцию. "
   ]
  },
  {
   "cell_type": "code",
   "execution_count": null,
   "metadata": {},
   "outputs": [],
   "source": [
    "input_list = [('Anna', 13), ('Ivan', 20), ('Irina', 23), ('Olga', 25), \n",
    "              ('Ivan', 30), ('Oleg', 24), ('Olga', 26)]\n",
    "result = [('Ivan', 30), ('Olga', 25), ('Ivan', 20)]"
   ]
  },
  {
   "cell_type": "code",
   "execution_count": null,
   "metadata": {},
   "outputs": [],
   "source": []
  },
  {
   "cell_type": "code",
   "execution_count": null,
   "metadata": {},
   "outputs": [],
   "source": []
  },
  {
   "cell_type": "markdown",
   "metadata": {},
   "source": [
    "## Задача 5\n",
    "Гипотеза Коллатца: какое бы начальное натуральное число n мы ни взяли, рано или поздно мы получим единицу, если выполняем следующие преобразования:\n",
    "\n",
    "Если n чётное, то делим его на 2;\n",
    "Если n нечётное, то умножаем на 3 и прибавляем 1 (получаем 3n + 1).\n",
    "Напишите функцию def collatz_conjecture(), которая будет принимать натуральное число n и возвращать последовательность чисел, полученных указанными выше преобразованиями. "
   ]
  },
  {
   "cell_type": "code",
   "execution_count": null,
   "metadata": {},
   "outputs": [],
   "source": [
    "def collatz_conjecture(n):\n",
    "    ...\n",
    "\n",
    "collatz_conjecture(8) # -> [8, 4, 2, 1]\n",
    "collatz_conjecture(3) # -> [3, 10, 5, 16, 8, 4, 2, 1]"
   ]
  },
  {
   "cell_type": "code",
   "execution_count": null,
   "metadata": {},
   "outputs": [],
   "source": []
  },
  {
   "cell_type": "code",
   "execution_count": null,
   "metadata": {},
   "outputs": [],
   "source": []
  },
  {
   "cell_type": "markdown",
   "metadata": {},
   "source": [
    "## Задача 6\n",
    "Напишите функцию reverse_tuple(), которая будет принимать список целых чисел. В результате выполнения этой функции будет получен кортеж уникальных элементов списка в обратном порядке."
   ]
  },
  {
   "cell_type": "code",
   "execution_count": null,
   "metadata": {},
   "outputs": [],
   "source": [
    "def reverse_tuple(lst):\n",
    "    ...\n",
    "\n",
    "reverse_tuple([1, 3, 4]) # -> (4, 3, 1)\n",
    "reverse_tuple([1, 3, 4, 4, 5, 2]) # -> (2, 5, 4, 3, 1)"
   ]
  },
  {
   "cell_type": "code",
   "execution_count": null,
   "metadata": {},
   "outputs": [],
   "source": []
  },
  {
   "cell_type": "code",
   "execution_count": null,
   "metadata": {},
   "outputs": [],
   "source": []
  },
  {
   "cell_type": "markdown",
   "metadata": {},
   "source": [
    "## Задача 7\n",
    "Напишите функцию update_tuple(), которая будет принимать кортеж  input_tuple, удалять первое появление определенного элемента el_del из кортежа по значению и возвращать кортеж без него. \n",
    "\n",
    "Удаляемого элемента в кортеже может не быть, в этом случае кортеж вернется функцией в исходном виде."
   ]
  },
  {
   "cell_type": "code",
   "execution_count": null,
   "metadata": {},
   "outputs": [],
   "source": [
    "def update_tuple(input_tuple, el_del):\n",
    "    ...\n",
    "\n",
    "\n",
    "update_tuple((1, 2, 3), 1) #-> (2, 3)\n",
    "update_tuple((1, 2, 3, 3, 9, 5), 3) #-> (1, 2, 3, 9, 5)\n",
    "update_tuple((1, 2, 3), 9) #-> (1, 2, 3)"
   ]
  },
  {
   "cell_type": "code",
   "execution_count": null,
   "metadata": {},
   "outputs": [],
   "source": []
  },
  {
   "cell_type": "code",
   "execution_count": null,
   "metadata": {},
   "outputs": [],
   "source": []
  }
 ],
 "metadata": {
  "kernelspec": {
   "display_name": "base",
   "language": "python",
   "name": "python3"
  },
  "language_info": {
   "codemirror_mode": {
    "name": "ipython",
    "version": 3
   },
   "file_extension": ".py",
   "mimetype": "text/x-python",
   "name": "python",
   "nbconvert_exporter": "python",
   "pygments_lexer": "ipython3",
   "version": "3.11.3"
  }
 },
 "nbformat": 4,
 "nbformat_minor": 2
}
