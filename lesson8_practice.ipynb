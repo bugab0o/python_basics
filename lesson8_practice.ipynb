{
 "cells": [
  {
   "cell_type": "markdown",
   "metadata": {},
   "source": [
    "## Задача 1\n",
    "В переменных a и b сохранено два целых положительных числа, таких что a <= b. Напишите программу, которая находит сумму всех чисел от a до b, кратных 3 или 5. Сохраните сумму в переменную result. Если между a и b нет таких чисел, то сохраните в result 0."
   ]
  },
  {
   "cell_type": "code",
   "execution_count": 1,
   "metadata": {},
   "outputs": [],
   "source": [
    "# Пример 1\n",
    "# a = 1\n",
    "# b = 10\n",
    "# result = 33\n",
    "\n",
    "# # Пример 2\n",
    "# a = 9\n",
    "# b = 9\n",
    "# result = 9\n",
    "\n",
    "# # Пример 3\n",
    "# a = 1\n",
    "# b = 2\n",
    "# result = 0\n"
   ]
  },
  {
   "cell_type": "code",
   "execution_count": 2,
   "metadata": {},
   "outputs": [],
   "source": [
    "a = 1\n",
    "b = 10\n",
    "\n",
    "result = 0\n",
    "\n",
    "for number in range(a, b + 1):\n",
    "    if number % 3 == 0 or number % 5 == 0:\n",
    "        result += number"
   ]
  },
  {
   "cell_type": "code",
   "execution_count": 3,
   "metadata": {},
   "outputs": [
    {
     "data": {
      "text/plain": [
       "33"
      ]
     },
     "execution_count": 3,
     "metadata": {},
     "output_type": "execute_result"
    }
   ],
   "source": [
    "result"
   ]
  },
  {
   "cell_type": "markdown",
   "metadata": {},
   "source": [
    "## Задача 2\n",
    "Напишите программу на Python, которая определяет, является ли заданное число num простым.\n",
    "\n",
    "Если num — простое число, то сохраните в переменную result строку \"это простое число\". Если число не простое, то сохраните в переменную result строку \"это не простое число\".\n",
    "\n",
    "Используйте цикл для решения этой задачи."
   ]
  },
  {
   "cell_type": "code",
   "execution_count": 4,
   "metadata": {},
   "outputs": [],
   "source": [
    "# Пример 1\n",
    "num = 7\n",
    "result = \"это простое число\"\n",
    "\n",
    "# Пример 2\n",
    "num = 8\n",
    "result = \"это не простое число\""
   ]
  },
  {
   "cell_type": "code",
   "execution_count": 5,
   "metadata": {},
   "outputs": [],
   "source": [
    "num = 8\n",
    "result = 'это простое число'\n",
    "\n",
    "for i in range(2, int(num ** 0.5) + 1):\n",
    "    if num % i == 0:\n",
    "        result = 'это не простое число'\n",
    "        break\n",
    "\n",
    "\n",
    "#     d = 0\n",
    "# for i in range(2, num // 2+1):\n",
    "#     if (num % i == 0):\n",
    "#         d += 1\n",
    "#         break\n",
    "# result = \"это простое число\" if d == 0 else \"это не простое число\"\n"
   ]
  },
  {
   "cell_type": "code",
   "execution_count": 6,
   "metadata": {},
   "outputs": [
    {
     "data": {
      "text/plain": [
       "'это не простое число'"
      ]
     },
     "execution_count": 6,
     "metadata": {},
     "output_type": "execute_result"
    }
   ],
   "source": [
    "result"
   ]
  },
  {
   "cell_type": "markdown",
   "metadata": {},
   "source": [
    "## Задача 3\n",
    "Чтение и понимание чужого кода — это важный навык для программиста. Перед тем, как изменять или расширять функциональность программы, вам нужно хорошо понимать первоначальный замысел автора. Чтение и исправление кода других разработчиков помогает улучшить навыки осмысления кода и разбора его на части.\n",
    "\n",
    "Вы вместе с коллегой Петром разрабатываете программу. Вам нужно написать скрипт, который будет проверять, является ли число степенью двойки. Петр прислал вам код, который возвращает неверный результат, помогите Петру исправить скрипт.\n",
    "\n",
    "### Задача:\n",
    "\n",
    "В переменной number сохранено число, напишите код, который проверят, является ли number степенью двойки? Ряд степеней двойки:\n",
    "\n",
    "1, 2, 4, 8, 16, 32, 64 ...\n",
    "\n",
    "Результат проверки True или False сохраните в переменную is_two_power."
   ]
  },
  {
   "cell_type": "code",
   "execution_count": 7,
   "metadata": {},
   "outputs": [],
   "source": [
    "number = 16 # число для теста\n",
    "is_two_power = False\n",
    "\n",
    "if number > 0:\n",
    "    is_two_power = False\n",
    "\n",
    "    while number % 2 == 0:\n",
    "        number = number // 2\n",
    "    is_two_power = number == True\n",
    "\n",
    "#     if number < 1:\n",
    "#     is_two_power = False\n",
    "# elif number == 1:\n",
    "#     is_two_power = True    \n",
    "# else:\n",
    "#     while number % 2 == 0:\n",
    "#         number = number / 2\n",
    "#     is_two_power = number == 1"
   ]
  },
  {
   "cell_type": "code",
   "execution_count": 8,
   "metadata": {},
   "outputs": [
    {
     "data": {
      "text/plain": [
       "True"
      ]
     },
     "execution_count": 8,
     "metadata": {},
     "output_type": "execute_result"
    }
   ],
   "source": [
    "is_two_power"
   ]
  },
  {
   "cell_type": "markdown",
   "metadata": {},
   "source": [
    "## Задача 4\n",
    "Для приготовления одной порции эспрессо требуется примерно 7 г молотого кофе. Для приготовления латте необходимо взбить 180 мл молока и добавить к эспрессо, а для приготовления капучино — 100 мл молока.\n",
    "\n",
    "Заданы две переменные:\n",
    "\n",
    "coffee — запас молотого кофе в кофейне (в килограммах);\n",
    "milk — запас молока в кофейне (в литрах).\n",
    "Напишите программу, которая посчитает, сколько посетителей сможет обслужить кофейня, если известно, что:\n",
    "\n",
    "В кофейне готовят три напитка на выбор: американо (эспрессо + вода), латте и капучино.\n",
    "Каждый посетитель заказывает только один напиток.\n",
    "Известно, что каждый третий заказанный напиток — капучино, а каждый пятый — латте.\n",
    "Если молоко закончилось, то кофейня работает, пока не придет посетитель, желающий заказать кофе с молоком.\n",
    "Запас воды для американо не ограничен.\n",
    "Результат сохраните в переменную visitors. "
   ]
  },
  {
   "cell_type": "code",
   "execution_count": 9,
   "metadata": {},
   "outputs": [],
   "source": [
    "# Пример 1\n",
    "coffee = 0.1\n",
    "milk = 1\n",
    "visitors = 14\n",
    "\n",
    "# Пример 2\n",
    "coffee = 0.07\n",
    "milk = 0.1\n",
    "visitors = 4"
   ]
  },
  {
   "cell_type": "code",
   "execution_count": null,
   "metadata": {},
   "outputs": [],
   "source": []
  },
  {
   "cell_type": "code",
   "execution_count": null,
   "metadata": {},
   "outputs": [],
   "source": []
  },
  {
   "cell_type": "markdown",
   "metadata": {},
   "source": [
    "## Задача 5\n",
    "Дан список чисел a.  Напишите программу, которая вернет True, если в списке больше нечетных чисел, и False — во всех остальных случаях. Результат сохраните в result. "
   ]
  },
  {
   "cell_type": "code",
   "execution_count": 10,
   "metadata": {},
   "outputs": [],
   "source": [
    "# Пример 1\n",
    "a = [1, 2, 3, 4, 5, 6, 7, 8, 9]\n",
    "result = True\n",
    "\n",
    "# Пример 2\n",
    "a = [1, 2, 3, 4, 5, 6, 7, 8, 10]\n",
    "result = False\n",
    "\n",
    "# Пример 3\n",
    "a = [1, 2, 3, 4]\n",
    "result = False"
   ]
  },
  {
   "cell_type": "code",
   "execution_count": 11,
   "metadata": {},
   "outputs": [],
   "source": [
    "a = [1, 2, 3, 4, 5, 6, 7, 8, 9]\n",
    "count_1 = 0  # nechet\n",
    "count_2 = 0\n",
    "\n",
    "result = False\n",
    "\n",
    "for i in a:\n",
    "    if i % 2 != 0:\n",
    "        count_1 += 1\n",
    "    elif i % 2 == 0:\n",
    "        count_2 += 1\n",
    "if count_1 > count_2:\n",
    "    result = True\n",
    "\n",
    "    # result = sum(1 if int(i) % 2 else -1 for i in a) > 0\n",
    "    "
   ]
  },
  {
   "cell_type": "code",
   "execution_count": 12,
   "metadata": {},
   "outputs": [
    {
     "data": {
      "text/plain": [
       "True"
      ]
     },
     "execution_count": 12,
     "metadata": {},
     "output_type": "execute_result"
    }
   ],
   "source": [
    "result"
   ]
  },
  {
   "cell_type": "markdown",
   "metadata": {},
   "source": [
    "## Задача 6\n",
    "Есть словарь grades, содержащий информацию о школьных предметах и их оценках. В список good_subjects  сохраните названия всех предметов, у которых оценка больше или равна 4. "
   ]
  },
  {
   "cell_type": "code",
   "execution_count": 13,
   "metadata": {},
   "outputs": [],
   "source": [
    "grades = {\"Математика\": 4, \"История\": 3, \"Биология\": 3, \"География\": 4}\n",
    "good_subjects = [\"Математика\", \"География\"]\n",
    "\n",
    "grades = {\"Алгебра\": 3, \"ИЗО\": 2}\n",
    "good_subjects = []\n",
    "\n"
   ]
  },
  {
   "cell_type": "code",
   "execution_count": 14,
   "metadata": {},
   "outputs": [],
   "source": [
    "good_subjects = [subject for subject, grade in grades.items() if grade >=4]"
   ]
  },
  {
   "cell_type": "code",
   "execution_count": 15,
   "metadata": {},
   "outputs": [
    {
     "data": {
      "text/plain": [
       "[]"
      ]
     },
     "execution_count": 15,
     "metadata": {},
     "output_type": "execute_result"
    }
   ],
   "source": [
    "good_subjects"
   ]
  },
  {
   "cell_type": "markdown",
   "metadata": {},
   "source": [
    "## Задача 7\n",
    "Иногда для решения задачи нам нужно создать переменную и сохранить в нее бесконечность в математическом смысле слова. Для этого нам поможет следующая форма записи: x = float('inf')\n",
    "\n",
    "Аналогично положительной бесконечности float('inf'), float('-inf') представляет собой специальное значение для чисел с плавающей точкой с отрицательной бесконечностью.\n",
    "\n",
    "Задание:\n",
    "\n",
    "Напишите программу, которая будет принимать список чисел nums и возвращать два числа, абсолютная разность которых минимальна. Пару чисел сохраните в переменную result в виде списка, отсортированного по возрастанию.\n",
    "\n",
    "Если несколько пар дают минимальную абсолютную разность, выберете ту пару элементов, сумма которых больше."
   ]
  },
  {
   "cell_type": "code",
   "execution_count": 16,
   "metadata": {},
   "outputs": [],
   "source": [
    "# Пример 1\n",
    "nums = [40, 16, 8, 17, 15]\n",
    "result = [16, 17]\n",
    "# пара 16 и 15 не подходит, так как сумма 16 и 17 больше\n",
    "\n",
    "# Пример 2\n",
    "nums = [0, 2, 35, 42, 45, 14, -6, -1]\n",
    "result = [-1, 0]\n",
    "\n"
   ]
  },
  {
   "cell_type": "code",
   "execution_count": 58,
   "metadata": {},
   "outputs": [
    {
     "name": "stdout",
     "output_type": "stream",
     "text": [
      "[16, 17]\n"
     ]
    }
   ],
   "source": [
    "# Пример использования\n",
    "nums = [40, 16, 8, 17, 15]\n",
    "\n",
    "# Сортировка списка\n",
    "nums.sort()\n",
    "\n",
    "min_diff = float('inf')\n",
    "result = []\n",
    "\n",
    "# Проход по отсортированному списку\n",
    "for i in range(len(nums) - 1):\n",
    "    current_diff = abs(nums[i] - nums[i + 1])\n",
    "\n",
    "    # Обновление результата, если найдена меньшая абсолютная разность\n",
    "    if current_diff < min_diff:\n",
    "        min_diff = current_diff\n",
    "        result = [nums[i], nums[i + 1]]\n",
    "    # Если разность равна текущей минимальной, выбираем ту пару, сумма которой больше\n",
    "    elif current_diff == min_diff and sum(result) < nums[i] + nums[i + 1]:\n",
    "        result = [nums[i], nums[i + 1]]\n",
    "\n",
    "# Вывод результата\n",
    "print(result)"
   ]
  },
  {
   "cell_type": "markdown",
   "metadata": {},
   "source": [
    "## Задача 8\n",
    "Напишите программу, принимающую в виде аргументов два списка lst_1 и lst_2 и определяющую, являются ли они противоположными друг другу. Результат проверки сохраните в result в формате True или False.\n",
    "\n",
    "Каждая пара списков будет состоять из одинаковых элементов (типа a и b). Список считается анти-списком, если все элементы в нем противоположны соответствующим элементам в первом списке."
   ]
  },
  {
   "cell_type": "code",
   "execution_count": 60,
   "metadata": {},
   "outputs": [],
   "source": [
    "lst_1 = [\"1\", \"0\", \"0\", \"1\"]\n",
    "lst_2 = [\"0\", \"1\", \"1\", \"0\"]\n",
    "# result = True\n",
    "\n",
    "# lst_1 = [\"1\", \"0\", \"0\", \"1\"]\n",
    "# lst_2 = [\"0\", \"1\", \"1\", \"1\"]\n",
    "# result = False\n",
    "\n"
   ]
  },
  {
   "cell_type": "code",
   "execution_count": 61,
   "metadata": {},
   "outputs": [
    {
     "name": "stdout",
     "output_type": "stream",
     "text": [
      "True\n"
     ]
    }
   ],
   "source": [
    "result = all(x != y for x, y in zip(lst_1, lst_2))\n",
    "\n",
    "# result = all({a, b} == set(lst_1) for a, b in zip(lst_1, lst_2))"
   ]
  },
  {
   "cell_type": "code",
   "execution_count": 62,
   "metadata": {},
   "outputs": [
    {
     "data": {
      "text/plain": [
       "True"
      ]
     },
     "execution_count": 62,
     "metadata": {},
     "output_type": "execute_result"
    }
   ],
   "source": [
    "result"
   ]
  },
  {
   "cell_type": "markdown",
   "metadata": {},
   "source": [
    "## Задача 9\n",
    "Задана переменная m — список из списков одинаковой длины. Проверьте, что суммы элементов  на диагоналях равны.\n",
    "\n",
    "Результат проверки сохраните в result в формате True или False. "
   ]
  },
  {
   "cell_type": "code",
   "execution_count": 18,
   "metadata": {},
   "outputs": [],
   "source": [
    "# Пример 1\n",
    "m = [[1, 23, 4], \n",
    "     [3, 2, 1],\n",
    "     [6, 3, 4]]\n",
    "# result = False\n",
    "\n",
    "# Пример 2\n",
    "# m = [[1, 23, 4], \n",
    "#      [3, 2, 1],\n",
    "#      [1, 3, 4]]\n",
    "# result = True\n",
    "\n"
   ]
  },
  {
   "cell_type": "code",
   "execution_count": 63,
   "metadata": {},
   "outputs": [
    {
     "name": "stdout",
     "output_type": "stream",
     "text": [
      "True\n"
     ]
    }
   ],
   "source": [
    "result = sum(m[i][i] for i in range(len(m))) == sum(m[i][len(m) - 1 - i] for i in range(len(m)))\n",
    "\n",
    "print(result)"
   ]
  },
  {
   "cell_type": "markdown",
   "metadata": {},
   "source": [
    "## Задача 10\n",
    "Напишите программу, которая принимает словарь input_dict и возвращает строку вида: ключ=значение&ключ=значение \n",
    "\n",
    "Строка должна быть лексикографически отсортирована по ключам исходного словаря. Сохраните полученный ответ в result. "
   ]
  },
  {
   "cell_type": "code",
   "execution_count": 64,
   "metadata": {},
   "outputs": [],
   "source": [
    "input_dict = {'lesson': 2, 'task': 21, 'course': 'python'}\n",
    "# result = 'course=python&lesson=2&task=21'"
   ]
  },
  {
   "cell_type": "code",
   "execution_count": 65,
   "metadata": {},
   "outputs": [
    {
     "name": "stdout",
     "output_type": "stream",
     "text": [
      "course=python&lesson=2&task=21\n"
     ]
    }
   ],
   "source": [
    "result = '&'.join(f'{key}={input_dict[key]}' for key in sorted(input_dict))\n",
    "\n",
    "print(result)"
   ]
  },
  {
   "cell_type": "markdown",
   "metadata": {},
   "source": [
    "## Задача 11\n",
    "Напишите программу, которая принимает одну строку input_str и возвращает другую result, в которой каждая буква исходной строки повторяется дважды."
   ]
  },
  {
   "cell_type": "code",
   "execution_count": 71,
   "metadata": {},
   "outputs": [],
   "source": [
    "input_str = \"String\"\n",
    "# result = \"SSttrriinngg\"\n"
   ]
  },
  {
   "cell_type": "code",
   "execution_count": 73,
   "metadata": {},
   "outputs": [
    {
     "name": "stdout",
     "output_type": "stream",
     "text": [
      "SSttrriinngg\n"
     ]
    }
   ],
   "source": [
    "result = ''.join(char * 2 for char in input_str)\n",
    "print(result)"
   ]
  },
  {
   "cell_type": "markdown",
   "metadata": {},
   "source": [
    "## Задача 12\n",
    "Напишите программу, которая будет принимать число n и проверять, кратна ли каждая его цифра цифре, стоящей слева от нее. Ответ сохраните в result в виде массива булевых значений результатов проверок.\n",
    "\n",
    "result всегда должен начинаться с False, так как слева от первой цифры ничего нет. "
   ]
  },
  {
   "cell_type": "code",
   "execution_count": 77,
   "metadata": {},
   "outputs": [],
   "source": [
    "n = 54412\n",
    "result = [False, False, True, False, True]"
   ]
  },
  {
   "cell_type": "code",
   "execution_count": 78,
   "metadata": {},
   "outputs": [
    {
     "name": "stdout",
     "output_type": "stream",
     "text": [
      "[False, False, True, False, True]\n"
     ]
    }
   ],
   "source": [
    "n_str = str(n)\n",
    "\n",
    "result = [False] + [int(n_str[i]) % int(n_str[i - 1]) == 0 if int(n_str[i - 1]) != 0 else False for i in range(1, len(n_str))]\n",
    "\n",
    "print(result)\n",
    "\n",
    "\n",
    "# n_str = str(n)\n",
    "# result = [False]\n",
    "# for i in range(1,len(n_str)):\n",
    "#     if int(n_str[i-1]) == 0 or int(n_str[i]) % int(n_str[i-1]) != 0:\n",
    "#         result.append(False)\n",
    "#     else:\n",
    "#         result.append(True)\n",
    "        "
   ]
  },
  {
   "cell_type": "markdown",
   "metadata": {},
   "source": [
    "## Задача 13\n",
    "Представим, что мы организуем экзамен, у нас есть список студентов, которые должны выступить с устным докладом. Для выступления отбираются только те студенты, которые набрали более 90 баллов за письменную работу. Наша задача сделать так, чтобы студенты выступали по очереди, отсортированные по фамилии.\n",
    "\n",
    "Например, если у нас есть участники  Бабаков, Антонов, Волгов,, то выступать они должны в следующем порядке Антонов, Бабаков, Волгов.\n",
    "\n",
    "Задача:\n",
    "\n",
    "В словаре students сохранены данные про студентов, ключ — фамилия, значение — число баллов за экзамен, создайте список students_order, в котором каждый элемент это кортеж (tuple) с номером выступления студента и его фамилией. В students_order должны быть только те студенты, у которых более 90 баллов. Порядок определяется сортировкой по фамилии."
   ]
  },
  {
   "cell_type": "code",
   "execution_count": 91,
   "metadata": {},
   "outputs": [],
   "source": [
    "students = {'Бабаков': 80, 'Антонов': 99, 'Волгов': 100}\n",
    "students_order = [(1, 'Антонов'), (2, 'Волгов')]"
   ]
  },
  {
   "cell_type": "code",
   "execution_count": 94,
   "metadata": {},
   "outputs": [
    {
     "name": "stdout",
     "output_type": "stream",
     "text": [
      "[(1, 'Антонов'), (2, 'Волгов')]\n"
     ]
    }
   ],
   "source": [
    "selected_students = [(surname, score) for surname, score in students.items() if score > 90]\n",
    "\n",
    "sorted_students = sorted(selected_students, key=lambda x: x[0])\n",
    "\n",
    "students_order = [(i + 1, surname) for i, (surname, _) in enumerate(sorted_students)]\n",
    "\n",
    "print(students_order)\n",
    "\n",
    "# students_order = [name for name in sorted(students.keys()) if students[name] > 90]\n",
    "# students_order = list(enumerate(students_order, 1))"
   ]
  },
  {
   "cell_type": "markdown",
   "metadata": {},
   "source": [
    "## Задача 14\n",
    "Давайте научимся разгадывать тайные шифры! В my_string  хранится зашифрованная строка, например: my_string = 'qircxfcgwxeciscwgwvzlfrciclibecpfvqzg'\n",
    "\n",
    "В словаре secret_dict хранится ключ к шифру, набор символов, которые нужно заменить: \n",
    "secret_dict = {\n",
    " 'b': 'k',\n",
    " 'c': ' ',\n",
    " 'g': 'n',\n",
    " 'q': 'h',\n",
    " 'z': 'o',\n",
    " 'v': 't',\n",
    " 'w': 'a',\n",
    " 'f': 'y',\n",
    " 'x': 'm',\n",
    " 'r': ','}\n",
    "\n",
    " Таким образом, словарь secret_dict говорит нам, что в строке my_string букву b нужно заменить на k, c на пробел и т. д. Если мы сделаем такие замены в строке my_string, то 'qircxfcgwxeciscwgwvzlfrciclibecpfvqzg' превратится в 'hi, my name is anatoly, i like python'.\n",
    "\n",
    "Напишите программу, которая расшифровывает строку my_string при помощи словаря secret_dict. Расшифрованную строку сохраните в переменную decrypted_string."
   ]
  },
  {
   "cell_type": "code",
   "execution_count": 96,
   "metadata": {},
   "outputs": [],
   "source": [
    "my_string = 'qircxfcgwxeciscwgwvzlfrciclibecpfvqzg'\n",
    "\n",
    "secret_dict = {\n",
    " 'b': 'k',\n",
    " 'c': ' ',\n",
    " 'g': 'n',\n",
    " 'q': 'h',\n",
    " 'z': 'o',\n",
    " 'v': 't',\n",
    " 'w': 'a',\n",
    " 'f': 'y',\n",
    " 'x': 'm',\n",
    " 'r': ','}"
   ]
  },
  {
   "cell_type": "code",
   "execution_count": 97,
   "metadata": {},
   "outputs": [],
   "source": [
    "decrypted_string = ''.join(secret_dict.get(char, char) for char in my_string)\n",
    "\n",
    "# decrypted_string = ''\n",
    "# for i in my_string:\n",
    "#     if secret_dict.get(i):\n",
    "#         decrypted_string += secret_dict[i]\n",
    "#     else:\n",
    "#         decrypted_string += i"
   ]
  },
  {
   "cell_type": "code",
   "execution_count": 98,
   "metadata": {},
   "outputs": [
    {
     "data": {
      "text/plain": [
       "'hi, my name is anatoly, i like python'"
      ]
     },
     "execution_count": 98,
     "metadata": {},
     "output_type": "execute_result"
    }
   ],
   "source": [
    "decrypted_string"
   ]
  }
 ],
 "metadata": {
  "kernelspec": {
   "display_name": "base",
   "language": "python",
   "name": "python3"
  },
  "language_info": {
   "codemirror_mode": {
    "name": "ipython",
    "version": 3
   },
   "file_extension": ".py",
   "mimetype": "text/x-python",
   "name": "python",
   "nbconvert_exporter": "python",
   "pygments_lexer": "ipython3",
   "version": "3.11.3"
  }
 },
 "nbformat": 4,
 "nbformat_minor": 2
}
