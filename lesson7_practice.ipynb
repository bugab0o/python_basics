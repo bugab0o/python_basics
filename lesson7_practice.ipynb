{
 "cells": [
  {
   "cell_type": "markdown",
   "metadata": {},
   "source": [
    "### Конструкция if-else"
   ]
  },
  {
   "cell_type": "markdown",
   "metadata": {},
   "source": [
    "В Python \"if-else\" используется для выполнения различных блоков кода в зависимости от условия. Если условие истинно, выполняется блок кода, следующий за оператором \"if\". В противном случае, если условие ложно, выполняется блок кода, следующий за оператором \"else\".\n",
    "\n",
    "Вот пример:"
   ]
  },
  {
   "cell_type": "code",
   "execution_count": 1,
   "metadata": {},
   "outputs": [
    {
     "name": "stdout",
     "output_type": "stream",
     "text": [
      "x меньше или равно 10\n"
     ]
    }
   ],
   "source": [
    "x = 5\n",
    "if x > 10:\n",
    "    print(\"x больше 10\")\n",
    "else:\n",
    "    print(\"x меньше или равно 10\")"
   ]
  },
  {
   "cell_type": "markdown",
   "metadata": {},
   "source": [
    "В данном примере переменная \"x\" сравнивается со значением 10. Если \"x\" больше 10, выводится сообщение \"x больше 10\". Если \"x\" меньше или равно 10, выводится сообщение \"x меньше или равно 10\".\n",
    "\n",
    "Иногда может возникнуть необходимость проверить несколько условий, используя дополнительные операторы условий, такие как \"and\" и \"or\".\n",
    "\n",
    "Вот пример:\n"
   ]
  },
  {
   "cell_type": "code",
   "execution_count": 2,
   "metadata": {},
   "outputs": [
    {
     "name": "stdout",
     "output_type": "stream",
     "text": [
      "x или y больше 10\n"
     ]
    }
   ],
   "source": [
    "x = 5\n",
    "y = 12\n",
    "if x > 10 and y > 10:\n",
    "    print(\"x и y больше 10\")\n",
    "elif x > 10 or y > 10:\n",
    "    print(\"x или y больше 10\")\n",
    "else:\n",
    "    print(\"x и y меньше или равны 10\")"
   ]
  },
  {
   "cell_type": "markdown",
   "metadata": {},
   "source": [
    "\n",
    "В данном примере проверяется, являются ли \"x\" и \"y\" больше 10. Если оба условия истинны, выводится сообщение \"x и y больше 10\". Если хотя бы одно из условий истинно, выводится сообщение \"x или y больше 10\". Если оба условия ложны, выводится сообщение \"x и y меньше или равны 10\".\n",
    "\n",
    "Если нужно проверить, что переменная находится в диапазоне значений, можно использовать цепочку операторов сравнения.\n",
    "\n",
    "Например:"
   ]
  },
  {
   "cell_type": "code",
   "execution_count": 3,
   "metadata": {},
   "outputs": [
    {
     "name": "stdout",
     "output_type": "stream",
     "text": [
      "Число находится в диапазоне от 0 до 10\n"
     ]
    }
   ],
   "source": [
    "num = 5\n",
    "if 0 <= num <= 10:\n",
    "    print(\"Число находится в диапазоне от 0 до 10\")\n",
    "else:\n",
    "    print(\"Число находится вне диапазона от 0 до 10\")"
   ]
  },
  {
   "cell_type": "markdown",
   "metadata": {},
   "source": [
    "### Тернарный оператор"
   ]
  },
  {
   "cell_type": "markdown",
   "metadata": {},
   "source": [
    "Тернарный оператор в Python — это упрощенная форма условного выражения \"if-else\". Он позволяет нам записать простое условие в одной строке кода. Синтаксис тернарного оператора выглядит следующим образом: значение1 if условие else значение2"
   ]
  },
  {
   "cell_type": "markdown",
   "metadata": {},
   "source": [
    "Если условие истинно, переменной будет присвоено значение 1, в противном случае — значение 2.Вот примеры использования тернарного оператора:"
   ]
  },
  {
   "cell_type": "code",
   "execution_count": 4,
   "metadata": {},
   "outputs": [
    {
     "name": "stdout",
     "output_type": "stream",
     "text": [
      "x больше 5\n"
     ]
    }
   ],
   "source": [
    "x = 10\n",
    "result = \"x больше 5\" if x > 5 else \"x меньше или равно 5\"\n",
    "print(result)"
   ]
  },
  {
   "cell_type": "markdown",
   "metadata": {},
   "source": [
    "В данном примере переменная \"x\" сравнивается со значением 5. Если \"x\" больше 5, переменной \"result\" будет присвоено значение \"x больше 5\", в противном случае — \"x меньше или равно 5\". Затем значение переменной \"result\" выводится на экран с помощью функции print().Тернарный оператор также может быть использован внутри других выражений:"
   ]
  },
  {
   "cell_type": "code",
   "execution_count": 5,
   "metadata": {},
   "outputs": [
    {
     "name": "stdout",
     "output_type": "stream",
     "text": [
      "x - четное\n"
     ]
    }
   ],
   "source": [
    "x = 4\n",
    "result = \"четное\" if x % 2 == 0 else \"нечетное\"\n",
    "print(f\"x - {result}\")"
   ]
  },
  {
   "cell_type": "markdown",
   "metadata": {},
   "source": [
    "В данном примере мы проверяем, является ли значение переменной \"x\" четным. Если \"x\" делится без остатка на 2, переменной \"result\" будет присвоено значение \"четное\", в противном случае — \"нечетное\". Затем мы выводим на экран сообщение в форматированной строке. Тернарный оператор особенно полезен, когда требуется присвоить переменной значение в зависимости от некоторого условия в одной строке кода. Он позволяет сделать код более компактным и понятным."
   ]
  },
  {
   "cell_type": "markdown",
   "metadata": {},
   "source": [
    "## Задача 1 \n",
    "В переменных a и b заданы значения длины и ширины прямоугольника соответственно. Проверьте, является ли этот прямоугольник квадратом.\n",
    "\n",
    "Сохраните в переменную result значение True, если это квадрат, иначе False. "
   ]
  },
  {
   "cell_type": "code",
   "execution_count": 14,
   "metadata": {},
   "outputs": [
    {
     "data": {
      "text/plain": [
       "True"
      ]
     },
     "execution_count": 14,
     "metadata": {},
     "output_type": "execute_result"
    }
   ],
   "source": [
    "#Пример 1\n",
    "a = 121 \n",
    "b = 100 \n",
    "result = False\n",
    "#Пример 2\n",
    "# a = 10 \n",
    "# b = 10 \n",
    "# result = True\n",
    "\n",
    "result = True if a == b else False\n",
    "result"
   ]
  },
  {
   "cell_type": "markdown",
   "metadata": {},
   "source": [
    "## Задача 2\n",
    "В переменных a и b заданы два числа. Квадрат какого числа больше? Сохраните это число в result.  "
   ]
  },
  {
   "cell_type": "code",
   "execution_count": 18,
   "metadata": {},
   "outputs": [
    {
     "data": {
      "text/plain": [
       "2"
      ]
     },
     "execution_count": 18,
     "metadata": {},
     "output_type": "execute_result"
    }
   ],
   "source": [
    "# Пример 1\n",
    "a = 1 \n",
    "b = 2 \n",
    "# result = 2\n",
    "\n",
    "result = a if a ** 2 > b ** 2 else b\n",
    "result\n",
    "\n",
    "# Пример 2\n",
    "# a = 2 \n",
    "# b = -3 \n",
    "# result = -3\n"
   ]
  },
  {
   "cell_type": "markdown",
   "metadata": {},
   "source": [
    "## Задача 3\n",
    "\n",
    "Катя и Дима решили купить квартиру в Москве. Семейный бюджет ограничен, поэтому им подходят следующие варианты:\n",
    "\n",
    "1. Стоимость не более 15 млн, площадь не менее 50 квадратных метров, удаленность от метро не более 25 минут пешком.\n",
    "2. Стоимость не более 13 млн, площадь не менее 35 квадратных метров, удаленность от метро не более 5 минут пешком.\n",
    "\n",
    "Напишите программу, которая получает на вход стоимость квартиры p, площадь s и удаленность от метро d, и сохраняет в переменную result сообщение о том, подходит квартира или нет в формате True или False."
   ]
  },
  {
   "cell_type": "code",
   "execution_count": 32,
   "metadata": {},
   "outputs": [],
   "source": [
    "#Пример 1\n",
    "p = 12950000 #стоимость\n",
    "s = 32 #площадь\n",
    "d = 13 #удаленность от метро\n",
    "\n",
    "# result = False\n",
    "\n",
    "#Пример 2\n",
    "# p = 14980000 #стоимость\n",
    "# s = 51.9 #площадь\n",
    "# d = 23 #удаленность от метро\n",
    "\n",
    "# result = True\n",
    "\n",
    "if p <= 15000000 and s >= 50 and d <= 25:\n",
    "    result = True\n",
    "\n",
    "elif p <= 13000000 and s >= 35 and d <= 5:\n",
    "    result = True\n",
    "        \n",
    "else: result = False\n"
   ]
  },
  {
   "cell_type": "code",
   "execution_count": 31,
   "metadata": {},
   "outputs": [
    {
     "data": {
      "text/plain": [
       "True"
      ]
     },
     "execution_count": 31,
     "metadata": {},
     "output_type": "execute_result"
    }
   ],
   "source": [
    "\n",
    "result"
   ]
  },
  {
   "cell_type": "markdown",
   "metadata": {},
   "source": [
    "## Задача 4\n",
    "Катя завершила обучение на курсе Hard ML и набрала K баллов за решение задач. Чтобы получить сертификат о прохождении курса, необходимо набрать не менее M баллов. Если Катя набрала от L баллов, то получит сертификат с отличием. \n",
    "\n",
    "Переменные K, M и L уже определены. \n",
    "\n",
    "Напишите программу, которая сохранит в переменную result информацию о результатах прохождения курса в следующем формате:\n",
    "“Недостаточно баллов”, если Кате не хватило баллов для получения сертификата,\n",
    "“Сертификат выдан”, если Катя набрала количество баллов, необходимое для получения сертификата,\n",
    "“Выдан сертификат с отличием” если Катя набрала ≥ L баллов."
   ]
  },
  {
   "cell_type": "code",
   "execution_count": 36,
   "metadata": {},
   "outputs": [
    {
     "data": {
      "text/plain": [
       "'Выдан сертификат с отличием'"
      ]
     },
     "execution_count": 36,
     "metadata": {},
     "output_type": "execute_result"
    }
   ],
   "source": [
    "#Пример 1\n",
    "# K = 121 #количество баллов, полученных Катей\n",
    "# M = 100 #количество баллов, необходимое для получения сертификата\n",
    "# L = 150 #количество баллов, необходимое для получения сертификата с отличием\n",
    "\n",
    "# result = \"Сертификат выдан\"\n",
    "\n",
    "\n",
    "#Пример 2\n",
    "K = 148 \n",
    "M = 110 \n",
    "L = 145 \n",
    "\n",
    "# result = \"Выдан сертификат с отличием\"\n",
    "\n",
    "\n",
    "if M <= K < L:\n",
    "    result = \"Сертификат выдан\"\n",
    "elif K >= L:\n",
    "    result = \"Выдан сертификат с отличием\"\n",
    "else:\n",
    "    result = \"Недостаточно баллов\""
   ]
  },
  {
   "cell_type": "code",
   "execution_count": 37,
   "metadata": {},
   "outputs": [
    {
     "data": {
      "text/plain": [
       "'Выдан сертификат с отличием'"
      ]
     },
     "execution_count": 37,
     "metadata": {},
     "output_type": "execute_result"
    }
   ],
   "source": [
    "result"
   ]
  },
  {
   "cell_type": "markdown",
   "metadata": {},
   "source": [
    "## Задача 5\n",
    "Компания решила выплатить сотрудникам премию в размере:\n",
    "\n",
    " - 2 оклада, если его стаж работы ≥ 2 года\n",
    " - 5 окладов, если стаж работы ≥ 5 лет\n",
    " - 10 окладов, если стаж работы ≥ 15 лет\n",
    " \n",
    "В переменной x — зарплата сотрудника, в переменной y — стаж. Вычислите размер премии, результат сохраните в переменную result. "
   ]
  },
  {
   "cell_type": "code",
   "execution_count": 48,
   "metadata": {},
   "outputs": [],
   "source": [
    "# Пример 1\n",
    "x = 150000\n",
    "y = 3\n",
    "# result = 300000\n",
    "\n",
    "# Пример 2\n",
    "# x = 100000\n",
    "# y = 1\n",
    "# result = 0\n",
    "\n",
    "# # Пример 3\n",
    "# x = 200000\n",
    "# y = 16\n",
    "# result = 2000000\n",
    "\n",
    "\n",
    "if 2 <= y < 5:\n",
    "    result = x * 2\n",
    "elif 5 <= y < 15:\n",
    "    result = x * 5\n",
    "elif y >= 15:\n",
    "    result = x * 10\n",
    "else: result = 0"
   ]
  },
  {
   "cell_type": "code",
   "execution_count": 49,
   "metadata": {},
   "outputs": [
    {
     "data": {
      "text/plain": [
       "0"
      ]
     },
     "execution_count": 49,
     "metadata": {},
     "output_type": "execute_result"
    }
   ],
   "source": [
    "result"
   ]
  },
  {
   "cell_type": "markdown",
   "metadata": {},
   "source": [
    "## Задача 6\n",
    "Дан словарь dict_age, в котором хранится информация о возрасте трех братьев в формате:\n",
    " - ключ — имя\n",
    " - значение — возраст, число целых лет.\n",
    "\n",
    "Если возраст у братьев разный и получается однозначно определить среднего брата, сохраните имя среднего брата в переменную result.  \n",
    "\n",
    "Если хотя бы у двух братьев возраст одинаковый, то сохраните в переменную result пустую строку."
   ]
  },
  {
   "cell_type": "code",
   "execution_count": 178,
   "metadata": {},
   "outputs": [
    {
     "name": "stdout",
     "output_type": "stream",
     "text": [
      "Исак\n"
     ]
    }
   ],
   "source": [
    "# dict_age = {'Антон': 5, \n",
    "#             'Денис': 14, \n",
    "#             'Борис': 9}\n",
    "# result = 'Борис'\n",
    "\n",
    "# dict_age = {'Марк': 5, \n",
    "#             'Авель': 5, \n",
    "#             'Карп': 9}\n",
    "# result = ''\n",
    "\n",
    "dict_age = {'Анатолий': 50, \n",
    "            'Исак': 54, \n",
    "            'Авель': 56}\n",
    "# result = 'Исак'\n",
    "\n",
    "ages = list(dict_age.values())\n",
    "\n",
    "for name, age in dict_age.items():\n",
    "    if age != max(ages) and age != min(ages):\n",
    "        result = name\n",
    "        break\n",
    "    else:\n",
    "        result = ''\n",
    "\n",
    "# ages = list(dict_age.values())\n",
    "# if len(set(ages)) == 3:\n",
    "#     middle_index = ages.index(sorted(ages)[1])\n",
    "#     result = list(dict_age.keys())[middle_index]    \n",
    "# else:\n",
    "#     result = ''"
   ]
  },
  {
   "cell_type": "code",
   "execution_count": 179,
   "metadata": {},
   "outputs": [
    {
     "data": {
      "text/plain": [
       "'Исак'"
      ]
     },
     "execution_count": 179,
     "metadata": {},
     "output_type": "execute_result"
    }
   ],
   "source": [
    "result"
   ]
  },
  {
   "cell_type": "markdown",
   "metadata": {},
   "source": [
    "## Задача 7\n",
    "Напишите программу, которая будет принимать длины сторон треугольника a, b и c, определять, является ли он прямоугольным и сохранять результат проверки в result в формате True или False. \n",
    "\n",
    "Прямоугольный треугольник — это треугольник, в котором один угол прямой (то есть 90 градусов).\n",
    "Самая длинная сторона (гипотенуза) не обязательно будет последним аргументом.\n",
    "Все аргументы будут целыми числами.\n"
   ]
  },
  {
   "cell_type": "code",
   "execution_count": 120,
   "metadata": {},
   "outputs": [],
   "source": [
    "# a = 3\n",
    "# b = 5\n",
    "# c = 4\n",
    "# result = True\n",
    "\n",
    "a = 70\n",
    "b = 130\n",
    "c = 110\n",
    "# result = False\n",
    "\n",
    "if ((c ** 2 == (a ** 2) + (b ** 2))) or ((b ** 2 == (a ** 2) + (c ** 2))) or ((a ** 2 == (b ** 2) + (c ** 2))):\n",
    "    result = True\n",
    "else: result = False"
   ]
  },
  {
   "cell_type": "code",
   "execution_count": 121,
   "metadata": {},
   "outputs": [
    {
     "data": {
      "text/plain": [
       "False"
      ]
     },
     "execution_count": 121,
     "metadata": {},
     "output_type": "execute_result"
    }
   ],
   "source": [
    "result"
   ]
  },
  {
   "cell_type": "markdown",
   "metadata": {},
   "source": [
    "## Задача 8\n",
    "Напишите программу, которая будет высчитывать либо длину окружности, либо периметр квадрата, исходя из переданных аргументов.\n",
    "\n",
    "На вход подаются буква в переменной f и число в переменной v.\n",
    "\n",
    "Буква будет определять геометрическую фигуру:\n",
    "\n",
    "'S' — квадрат\n",
    "'С' — круг\n",
    "Если буквой задан квадрат, то второй аргумент, число v, считается длиной стороны квадрата. В противном случае число считается радиусом круга.\n",
    "\n",
    "Результат сохраните в result\n",
    "\n",
    "Число pi возмите равным 3.14. "
   ]
  },
  {
   "cell_type": "code",
   "execution_count": 131,
   "metadata": {},
   "outputs": [],
   "source": [
    "# f = 'S'\n",
    "# v = 12\n",
    "# pi = 3.14\n",
    "# result = 48\n",
    "\n",
    "f = 'C' \n",
    "v = 9\n",
    "pi = 3.14\n",
    "# result = 56.52\n",
    "\n",
    "result = (v * 4) if f == 'S' else (2 *(pi * v))"
   ]
  },
  {
   "cell_type": "code",
   "execution_count": 132,
   "metadata": {},
   "outputs": [
    {
     "data": {
      "text/plain": [
       "56.52"
      ]
     },
     "execution_count": 132,
     "metadata": {},
     "output_type": "execute_result"
    }
   ],
   "source": [
    "result"
   ]
  }
 ],
 "metadata": {
  "kernelspec": {
   "display_name": "base",
   "language": "python",
   "name": "python3"
  },
  "language_info": {
   "codemirror_mode": {
    "name": "ipython",
    "version": 3
   },
   "file_extension": ".py",
   "mimetype": "text/x-python",
   "name": "python",
   "nbconvert_exporter": "python",
   "pygments_lexer": "ipython3",
   "version": "3.11.3"
  }
 },
 "nbformat": 4,
 "nbformat_minor": 2
}
