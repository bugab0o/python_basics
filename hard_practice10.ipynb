{
 "cells": [
  {
   "cell_type": "markdown",
   "metadata": {},
   "source": [
    "## Задача\n",
    "### Навигатор\n",
    "Давайте представим, что у нас есть город, 5 на 5 районов, каждый район — это квадрат со стороной 1. Часть районов представляет из себя реку — 0, часть землю — 1. Тогда мы могли бы сохранить карту такого города используя список из списков:"
   ]
  },
  {
   "cell_type": "code",
   "execution_count": 1,
   "metadata": {},
   "outputs": [],
   "source": [
    "city_map_list = [\n",
    "[1, 1, 0, 0, 1], \n",
    "[1, 1, 0, 0, 1],\n",
    "[1, 1, 1, 1, 1],\n",
    "[0, 0, 0, 0, 1],\n",
    "[0, 0, 0, 0, 1]\n",
    "]"
   ]
  },
  {
   "cell_type": "markdown",
   "metadata": {},
   "source": [
    "Как на уроках геометрии, мы могли бы расположить наш город на координатах X и Y. Для записи координат будем использовать формат (x, y). Район в верхнем левом углу имеет координаты (0, 0) city_map[0][0]. А правый нижний район имел бы координаты (4, 4) city_map[4][4]. Таким образом каждый район закодирован двумя индексами, которые соответствуют его координатам. Например, район (0, 2) это земля city_map[2][0], а район (3, 4) вода city_map[4][3]. \n",
    "\n",
    "Таким образом, чтобы получить значение карты по индексам x и y, нужно использовать запись:\n",
    "\n",
    "city_map[y][x]\n",
    "\n",
    "Надеюсь, мы разобрались, как можно закодировать карту города при помощи списка из списков, и теперь давайте отправимся в настоящий мегаполис 100 на 100:\n",
    "\n"
   ]
  },
  {
   "cell_type": "markdown",
   "metadata": {},
   "source": [
    "### В нашем городе есть большая река с 4-мя мостами. Карта города также закодирована при помощи списка из списков. Чтобы скачать карту на ваш компьютер, выполните следующий код:\n"
   ]
  },
  {
   "cell_type": "markdown",
   "metadata": {},
   "source": [
    "Теперь в переменной city_map_list  cписок из списков 100 на 100 — карта города. Недавно в городе запустилась служба доставки, но курьеры жалуются, что из-за сложной географии мостов и улиц тяжело найти дорогу. Поэтому нам нужно написать программу для навигатора.\n",
    "\n",
    "#### Задача:\n",
    "\n",
    "В переменных courier_location, orders_location  city_map_list  сохранены позиции курьера, координаты доставок и карта города.\n",
    "\n",
    "courier_location — tuple из двух целых чисел. \n",
    "Координаты стартового местоположения курьера в формате (x, y). Где x и y — это целые числа от 0 до 99. \n",
    "\n",
    "Пример courier_location = (10, 10) \n",
    "\n",
    "orders_location — список как минимум из одного tuple с координатами. \n",
    "Координаты, по которым курьер должен доставить заказы. В списке хранится произвольное число tuple с координатами точек назначения, которые должен посетить курьер.\n",
    "\n",
    "Пример orders_location = [(1, 1), (92, 13), (46, 33)]\n",
    "\n",
    "city_map_list — список из списков 100 на 100, карта города, которую мы загрузили выше.\n",
    "Вам известно местоположение курьера, набор координат мест назначения и карта города. Теперь нужно написать скрипт, который создаст переменную route и сохранит в нее маршрут, по которому должен пройти курьер, чтобы разнести все доставки. При формировании маршрута необходимо выполнить следующие условия:\n",
    "\n",
    "Маршрут должен проходить только по земле, по воде ходить нельзя. \n",
    "Курьеры могут перемещаться на один шаг из текущего района вправо, влево, вниз или вверх. \n",
    "Маршрут должен быть сохранен в список, где каждый элемент, это tuple с координатами каждого шага курьера.\n",
    "Курьер проходит один шаг за 10 минут и может доставлять заказы в любом порядке.\n",
    "Пример:\n",
    "\n",
    "Рассмотрим работу навигатора на нашем городе 5 на 5."
   ]
  },
  {
   "cell_type": "code",
   "execution_count": 3,
   "metadata": {},
   "outputs": [],
   "source": [
    "city_map_list = [\n",
    "[1, 1, 0, 0, 1], \n",
    "[1, 1, 0, 0, 1],\n",
    "[1, 1, 1, 1, 1],\n",
    "[0, 0, 0, 0, 1],\n",
    "[0, 0, 0, 0, 1]\n",
    "]"
   ]
  },
  {
   "cell_type": "code",
   "execution_count": 4,
   "metadata": {},
   "outputs": [],
   "source": [
    "import pandas as pd\n",
    "\n",
    "url='https://drive.google.com/uc?id=1-crPzL6qMinByPzsrEHhGn1EJ1MfD3GX'\n",
    "df = pd.read_csv(url, names=list(range(0, 100, 1)))\n",
    "city_map_list = df.values.tolist()"
   ]
  },
  {
   "cell_type": "code",
   "execution_count": null,
   "metadata": {},
   "outputs": [],
   "source": []
  },
  {
   "cell_type": "code",
   "execution_count": null,
   "metadata": {},
   "outputs": [],
   "source": [
    "city_map_list = [\n",
    "[1, 1, 0, 0, 1], \n",
    "[1, 1, 0, 0, 1],\n",
    "[1, 1, 1, 1, 1],\n",
    "[0, 0, 0, 0, 1],\n",
    "[0, 0, 0, 0, 1]\n",
    "]\n",
    "\n",
    "courier_location = (2, 2) # стартовая позиция курьера\n",
    "orders_location = [(4, 0), (0, 2), (4, 3)] # координаты для доставки трех товаров\n",
    "\n",
    "# route = [\n",
    "# (3, 2),\n",
    "# (4, 2),\n",
    "# (4, 1),\n",
    "# (4, 0), # адрес доставки\n",
    "# (4, 1),\n",
    "# (4, 2),\n",
    "# (3, 2),\n",
    "# (2, 2),\n",
    "# (1, 2),\n",
    "# (0, 2), # адрес доставки\n",
    "# (1, 2),\n",
    "# (2, 2),\n",
    "# (3, 2),\n",
    "# (4, 2),\n",
    "# (4, 3) # адрес доставки\n",
    "# ]\n"
   ]
  },
  {
   "cell_type": "code",
   "execution_count": 7,
   "metadata": {},
   "outputs": [],
   "source": [
    "city_map_list = [\n",
    "[1, 1, 0, 0, 1], \n",
    "[1, 1, 0, 0, 1],\n",
    "[1, 1, 1, 1, 1],\n",
    "[0, 0, 0, 0, 1],\n",
    "[0, 0, 0, 0, 1]\n",
    "]\n",
    "\n",
    "courier_location = (2, 2) # стартовая позиция курьера\n",
    "orders_location = [(4, 0), (0, 2), (4, 3)] # координаты для доставки трех товаров\n",
    "\n",
    "route = []\n",
    "\n",
    "for x, y in city_map_list:\n",
    "    if city_map_list[x]\n"
   ]
  },
  {
   "cell_type": "code",
   "execution_count": 8,
   "metadata": {},
   "outputs": [
    {
     "data": {
      "text/plain": [
       "5"
      ]
     },
     "execution_count": 8,
     "metadata": {},
     "output_type": "execute_result"
    }
   ],
   "source": [
    "len(city_map_list)"
   ]
  },
  {
   "cell_type": "code",
   "execution_count": 11,
   "metadata": {},
   "outputs": [
    {
     "data": {
      "text/plain": [
       "[1, 1, 1, 1, 1]"
      ]
     },
     "execution_count": 11,
     "metadata": {},
     "output_type": "execute_result"
    }
   ],
   "source": [
    "city_map_list[2]"
   ]
  },
  {
   "cell_type": "code",
   "execution_count": 13,
   "metadata": {},
   "outputs": [
    {
     "ename": "AttributeError",
     "evalue": "'list' object has no attribute 'keys'",
     "output_type": "error",
     "traceback": [
      "\u001b[1;31m---------------------------------------------------------------------------\u001b[0m",
      "\u001b[1;31mAttributeError\u001b[0m                            Traceback (most recent call last)",
      "\u001b[1;32md:\\education\\DA(Karpov)\\trial\\python_basics\\hard_practice10.ipynb Cell 13\u001b[0m line \u001b[0;36m1\n\u001b[1;32m----> <a href='vscode-notebook-cell:/d%3A/education/DA%28Karpov%29/trial/python_basics/hard_practice10.ipynb#X12sZmlsZQ%3D%3D?line=0'>1</a>\u001b[0m city_map_list\u001b[39m.\u001b[39mkeys()\n",
      "\u001b[1;31mAttributeError\u001b[0m: 'list' object has no attribute 'keys'"
     ]
    }
   ],
   "source": [
    "city_map_list.keys()"
   ]
  },
  {
   "cell_type": "code",
   "execution_count": null,
   "metadata": {},
   "outputs": [],
   "source": []
  },
  {
   "cell_type": "code",
   "execution_count": null,
   "metadata": {},
   "outputs": [],
   "source": []
  }
 ],
 "metadata": {
  "kernelspec": {
   "display_name": "base",
   "language": "python",
   "name": "python3"
  },
  "language_info": {
   "codemirror_mode": {
    "name": "ipython",
    "version": 3
   },
   "file_extension": ".py",
   "mimetype": "text/x-python",
   "name": "python",
   "nbconvert_exporter": "python",
   "pygments_lexer": "ipython3",
   "version": "3.11.3"
  }
 },
 "nbformat": 4,
 "nbformat_minor": 2
}
