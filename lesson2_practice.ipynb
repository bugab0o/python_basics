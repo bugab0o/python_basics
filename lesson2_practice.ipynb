{
 "cells": [
  {
   "cell_type": "markdown",
   "metadata": {},
   "source": [
    "#    Lesson 2. Practice"
   ]
  },
  {
   "cell_type": "markdown",
   "metadata": {},
   "source": [
    "### Задание 1:\n",
    "\n",
    "Давайте запрограммируем кота! Создайте три переменные: \n",
    "\n",
    "cat_name  со строкой как минимум из двух символов\n",
    "\n",
    "cat_age с неотрицательным числом\n",
    "\n",
    "is_fluffy с True или False"
   ]
  },
  {
   "cell_type": "code",
   "execution_count": 1,
   "metadata": {},
   "outputs": [],
   "source": [
    "cat_name = \"Shegan\"\n",
    "cat_age = 5\n",
    "is_fluffy = True"
   ]
  },
  {
   "cell_type": "code",
   "execution_count": 2,
   "metadata": {},
   "outputs": [
    {
     "name": "stdout",
     "output_type": "stream",
     "text": [
      "Shegan\n",
      "5\n",
      "True\n"
     ]
    }
   ],
   "source": [
    "print(cat_name)\n",
    "print(cat_age)\n",
    "print(is_fluffy)"
   ]
  },
  {
   "cell_type": "markdown",
   "metadata": {},
   "source": [
    "### Задание 2:\n",
    "\n",
    "Давайте напишем программу для поиска длины гипотенузы. В переменных a и b уже записаны длины катетов прямоугольного треугольника. Создайте новую переменную c и сохраните в нее длину гипотенузы этого треугольника. "
   ]
  },
  {
   "cell_type": "code",
   "execution_count": 3,
   "metadata": {
    "scrolled": false
   },
   "outputs": [
    {
     "name": "stdout",
     "output_type": "stream",
     "text": [
      "5.0\n"
     ]
    }
   ],
   "source": [
    "a, b = 3, 4\n",
    "\n",
    "c = (a**2 + b**2)**0.5\n",
    "\n",
    "print(c)"
   ]
  },
  {
   "cell_type": "markdown",
   "metadata": {},
   "source": [
    "### Задание 3:\n",
    "В переменной father_age хранится возраст отца, а в переменной son_age — возраст сына. Посчитайте, через сколько лет отец будет вдвое старше сына. Результат сохраните в переменную result."
   ]
  },
  {
   "cell_type": "code",
   "execution_count": 4,
   "metadata": {},
   "outputs": [],
   "source": [
    "# father_age = 20\n",
    "# son_age = 3\n",
    "# result = 14\n",
    "\n",
    "# father_age = 30.5\n",
    "# son_age = 5.1\n",
    "# result = 20.3\n",
    "\n",
    "\n",
    "# while father_age / son_age != 2:\n",
    "#     father_age += 1\n",
    "#     son_age += 1\n",
    "#     result += 1\n",
    "\n",
    "# father_age = 20\n",
    "# son_age = 3\n",
    "\n",
    "father_age = 30.5\n",
    "son_age = 5.1\n",
    "# result = 20.3\n",
    "\n",
    "age_difference = father_age - son_age\n",
    "result = (age_difference * 2) - father_age"
   ]
  },
  {
   "cell_type": "code",
   "execution_count": 5,
   "metadata": {},
   "outputs": [
    {
     "name": "stdout",
     "output_type": "stream",
     "text": [
      "20.299999999999997\n"
     ]
    }
   ],
   "source": [
    "print(result)"
   ]
  },
  {
   "cell_type": "markdown",
   "metadata": {},
   "source": [
    "### Задача 4\n",
    "Заданы вещественные числа a, b и с – стороны треугольника. Вычислите периметр и площадь треугольника. Результат сохраните в переменные perimeter и area соответственно."
   ]
  },
  {
   "cell_type": "code",
   "execution_count": 6,
   "metadata": {},
   "outputs": [
    {
     "name": "stdout",
     "output_type": "stream",
     "text": [
      "12\n",
      "6.0\n"
     ]
    }
   ],
   "source": [
    "a, b, c = 3, 4, 5\n",
    "\n",
    "perimeter = a + b + c\n",
    "p = perimeter / 2\n",
    "area = (p*(p - a)*(p - b)*(p - c))**0.5\n",
    "\n",
    "print(perimeter)\n",
    "print(area)"
   ]
  },
  {
   "cell_type": "markdown",
   "metadata": {},
   "source": [
    "### Задача 5\n",
    "В переменную n сохранено целое число — количество секунд. Напишите программу, которая конвертирует заданное количество секунд n в часы, минуты и секунды. Результат сохраните в переменные hours, minutes, seconds.\n",
    "\n",
    "То есть сначала нужно посчитать, сколько в число n поместилось целых часов, целых минут и сколько после этого осталось секунд.  Рассмотрим пример:"
   ]
  },
  {
   "cell_type": "code",
   "execution_count": 7,
   "metadata": {},
   "outputs": [],
   "source": [
    "n = 23810\n",
    "\n",
    "seconds = n % 60\n",
    "hours = (n // 60) // 60\n",
    "minutes = (n // 60) % 60"
   ]
  },
  {
   "cell_type": "code",
   "execution_count": 8,
   "metadata": {
    "scrolled": true
   },
   "outputs": [
    {
     "name": "stdout",
     "output_type": "stream",
     "text": [
      "6\n",
      "36\n",
      "50\n"
     ]
    }
   ],
   "source": [
    "print(hours)\n",
    "print(minutes)\n",
    "print(seconds)"
   ]
  },
  {
   "cell_type": "markdown",
   "metadata": {},
   "source": [
    "### Задача 6\n",
    "\n",
    "В переменной price_new хранится цена килограмма бананов в числовом формате, а в переменной price_old — цена килограмма бананов год назад. Вычислите, на сколько процентов по модулю изменилась цена за год. Результат сохраните в переменную result. Результат округлите до двух знаков после запятой."
   ]
  },
  {
   "cell_type": "code",
   "execution_count": 9,
   "metadata": {},
   "outputs": [],
   "source": [
    "# price_new = 89.99 \n",
    "# price_old = 75.50\n",
    "# result = 19.19\n",
    "\n",
    "\n",
    "# price_new = 24\n",
    "# price_old = 72\n",
    "# result = 66.67\n",
    "\n",
    "price_new = 54\n",
    "price_old = 94\n",
    "# result = 42.55\n",
    "\n",
    "result = round(abs((price_new - price_old) / price_old) * 100, 2)"
   ]
  },
  {
   "cell_type": "code",
   "execution_count": 10,
   "metadata": {
    "scrolled": true
   },
   "outputs": [
    {
     "data": {
      "text/plain": [
       "42.55"
      ]
     },
     "execution_count": 10,
     "metadata": {},
     "output_type": "execute_result"
    }
   ],
   "source": [
    "result"
   ]
  },
  {
   "cell_type": "markdown",
   "metadata": {},
   "source": [
    "### Задание 7:\n",
    "\n",
    "Создайте переменные:\n",
    "\n",
    "a со значением 5 типа int,\n",
    "\n",
    "b со значением \"10\" типа str,\n",
    "\n",
    "c со значением True типа bool.\n",
    "\n",
    "В переменную my_sum сохраните сумму трех переменных, которые вы создали, преобразовав b и с к типу int. "
   ]
  },
  {
   "cell_type": "code",
   "execution_count": 11,
   "metadata": {},
   "outputs": [],
   "source": [
    "a = int(5)\n",
    "b = \"10\"\n",
    "c = True\n",
    "\n",
    "my_sum = a + int(b) + int(c)"
   ]
  },
  {
   "cell_type": "code",
   "execution_count": 12,
   "metadata": {
    "scrolled": false
   },
   "outputs": [
    {
     "name": "stdout",
     "output_type": "stream",
     "text": [
      "16\n"
     ]
    }
   ],
   "source": [
    "print(my_sum)"
   ]
  },
  {
   "cell_type": "markdown",
   "metadata": {},
   "source": [
    "### Задача 8\n",
    "В переменной a сохранено число с десятичной частью но в формате строки, например '3.14'. В переменную с сохраните целую часть из числа в переменной a."
   ]
  },
  {
   "cell_type": "code",
   "execution_count": 13,
   "metadata": {},
   "outputs": [],
   "source": [
    "a = '3.14'\n",
    "# c = 3\n",
    "\n",
    "# a = '99.9'\n",
    "# c = 99\n",
    "\n",
    "# a = '0.33'\n",
    "# c = 0\n",
    "\n",
    "c = round(float(a))"
   ]
  },
  {
   "cell_type": "code",
   "execution_count": 14,
   "metadata": {},
   "outputs": [
    {
     "name": "stdout",
     "output_type": "stream",
     "text": [
      "3\n"
     ]
    }
   ],
   "source": [
    "print(c)"
   ]
  },
  {
   "cell_type": "markdown",
   "metadata": {},
   "source": [
    "### Задача 9\n",
    "В переменной х уже сохранено целое положительное число. Вычислите x + x0x0x. Результат сохраните в переменную result.\n",
    "То есть, если x = 2, то нужно вычислить 2 + 20202."
   ]
  },
  {
   "cell_type": "code",
   "execution_count": 15,
   "metadata": {},
   "outputs": [],
   "source": [
    "x = 2\n",
    "mid = str(x) + str(0) + str(x) + str(0) + str(x)\n",
    "result = x + int(mid)"
   ]
  },
  {
   "cell_type": "code",
   "execution_count": 16,
   "metadata": {
    "scrolled": true
   },
   "outputs": [
    {
     "name": "stdout",
     "output_type": "stream",
     "text": [
      "20204\n"
     ]
    }
   ],
   "source": [
    "print(result)"
   ]
  },
  {
   "cell_type": "markdown",
   "metadata": {},
   "source": [
    "### Задание 10:\n",
    "\n",
    "Укажите все сравнения, в результате которых мы получим True."
   ]
  },
  {
   "cell_type": "code",
   "execution_count": 17,
   "metadata": {},
   "outputs": [
    {
     "data": {
      "text/plain": [
       "False"
      ]
     },
     "execution_count": 17,
     "metadata": {},
     "output_type": "execute_result"
    }
   ],
   "source": [
    "'ИВАН' < 'иван'\n",
    "# Размер букв играет роль при сравнении, хоть это и одинаковое слово, но маленький \"иван\" больше.\n",
    "\n",
    "'Python' < 'R'\n",
    "# Сравнение происходит по первому символу, 'R' стоит в алфавите правее, значит 'R' > 'P', получаем True\n",
    "\n",
    "'big number' != 'bug number'\n",
    "# Строки различаются в одном символе, получаем True\n",
    "\n",
    "'ЯЯЯ' == 'Я Я'\n",
    "# Пробелы играют роль при сравнении, пробел будет меньше любого символа. Получаем False.\n",
    "\n",
    "'игра' >= 'икра'\n",
    "# Сравнение происходит по второму символу, 'к' больше чем 'г', получаем False"
   ]
  },
  {
   "cell_type": "markdown",
   "metadata": {},
   "source": [
    "### Задача 11:\n",
    "\n",
    "В переменной m хранится целое положительное число — продолжительность сна в минутах. Если продолжительность сна составит от 7 до 9 часов включительно, то в переменную optimal_sleep_duration сохраните значение True. В противном случае присвойте это переменной значение False."
   ]
  },
  {
   "cell_type": "code",
   "execution_count": 18,
   "metadata": {},
   "outputs": [],
   "source": [
    "m = 410  \n",
    "# optimal_sleep_duration = False\n",
    "\n",
    "# m = 500\n",
    "# optimal_sleep_duration = True\n",
    "\n",
    "optimal_sleep_duration = bool()\n",
    "\n",
    "if 7*60 <= m <= 9*60:\n",
    "    optimal_sleep_duration = True\n",
    "else:\n",
    "    optimal_sleep_duration = False"
   ]
  },
  {
   "cell_type": "code",
   "execution_count": 19,
   "metadata": {
    "scrolled": false
   },
   "outputs": [
    {
     "name": "stdout",
     "output_type": "stream",
     "text": [
      "False\n"
     ]
    }
   ],
   "source": [
    "print(optimal_sleep_duration)"
   ]
  },
  {
   "cell_type": "markdown",
   "metadata": {},
   "source": [
    "### Задача 12\n",
    "В переменной x хранится целое число. Проверьте, делится ли это число без остатка на 3 и на 7. Результат сохраните в переменную result. Переменная result должна иметь логический тип данных. \n",
    "\n",
    "Если x = 7, то  result = False. Если x = 21, то result = True. "
   ]
  },
  {
   "cell_type": "code",
   "execution_count": 20,
   "metadata": {},
   "outputs": [],
   "source": [
    "x = 7\n",
    "\n",
    "if x % 3 == 0 and x % 7 == 0:\n",
    "    result = True\n",
    "else: result = False"
   ]
  },
  {
   "cell_type": "code",
   "execution_count": 21,
   "metadata": {
    "scrolled": true
   },
   "outputs": [
    {
     "name": "stdout",
     "output_type": "stream",
     "text": [
      "False\n"
     ]
    }
   ],
   "source": [
    "print(result)"
   ]
  },
  {
   "cell_type": "markdown",
   "metadata": {},
   "source": [
    "### Задача 13\n",
    "Хорошо ли вы умеете пользоваться логическим типом данных? Сопоставьте выражения и их значения.\n",
    "Будьте внимательны, у вас всего 5 попыток!"
   ]
  },
  {
   "cell_type": "code",
   "execution_count": 22,
   "metadata": {},
   "outputs": [],
   "source": [
    "b = True + 0\n",
    "d = True + 0.1\n",
    "c = bool(False + 1)\n",
    "f = False ** True\n",
    "e = True ** 0.5\n",
    "a = False - True\n",
    "g = 2 == True"
   ]
  },
  {
   "cell_type": "code",
   "execution_count": 23,
   "metadata": {},
   "outputs": [
    {
     "name": "stdout",
     "output_type": "stream",
     "text": [
      "1\n",
      "1.1\n",
      "True\n",
      "0\n",
      "1.0\n",
      "-1\n",
      "False\n"
     ]
    }
   ],
   "source": [
    "print(b)\n",
    "print(d)\n",
    "print(c)\n",
    "print(f)\n",
    "print(e)\n",
    "print(a)\n",
    "print(g)"
   ]
  },
  {
   "cell_type": "markdown",
   "metadata": {},
   "source": [
    "### Задание 14:\n",
    "\n",
    "Сохраните в переменную square строку, которая выводит на экран прямоугольник 4 х 4, сформированный из звездочек, разделенных пробелом.\n",
    "\n"
   ]
  },
  {
   "cell_type": "code",
   "execution_count": 24,
   "metadata": {},
   "outputs": [
    {
     "name": "stdout",
     "output_type": "stream",
     "text": [
      "'Манчестер Юнайтед' - чемпион Англии!\n",
      "2013\n"
     ]
    }
   ],
   "source": [
    "string1 = '\\'Манчестер Юнайтед\\' - чемпион Англии!\\n2013'\n",
    "print(string1)"
   ]
  },
  {
   "cell_type": "code",
   "execution_count": 25,
   "metadata": {},
   "outputs": [
    {
     "name": "stdout",
     "output_type": "stream",
     "text": [
      "Hello\n",
      "world!\n",
      "C:\\Users\\user\\Desktop\\file.txt\n",
      "Name:\tJohn\n",
      "It's a beautiful day!\n",
      "It's a beautiful day!\n"
     ]
    }
   ],
   "source": [
    "print(\"Hello\\nworld!\")\n",
    "print(\"C:\\\\Users\\\\user\\\\Desktop\\\\file.txt\")\n",
    "print(\"Name:\\tJohn\")\n",
    "print('It\\'s a beautiful day!')\n",
    "print(\"It's a beautiful day!\") # так тоже можно"
   ]
  },
  {
   "cell_type": "code",
   "execution_count": 26,
   "metadata": {},
   "outputs": [],
   "source": [
    "square = '* * * *\\n* * * *\\n* * * *\\n* * * *'"
   ]
  },
  {
   "cell_type": "code",
   "execution_count": 27,
   "metadata": {},
   "outputs": [
    {
     "name": "stdout",
     "output_type": "stream",
     "text": [
      "* * * *\n",
      "* * * *\n",
      "* * * *\n",
      "* * * *\n"
     ]
    }
   ],
   "source": [
    "print(square)"
   ]
  }
 ],
 "metadata": {
  "kernelspec": {
   "display_name": "Python 3 (ipykernel)",
   "language": "python",
   "name": "python3"
  },
  "language_info": {
   "codemirror_mode": {
    "name": "ipython",
    "version": 3
   },
   "file_extension": ".py",
   "mimetype": "text/x-python",
   "name": "python",
   "nbconvert_exporter": "python",
   "pygments_lexer": "ipython3",
   "version": "3.11.3"
  }
 },
 "nbformat": 4,
 "nbformat_minor": 2
}
