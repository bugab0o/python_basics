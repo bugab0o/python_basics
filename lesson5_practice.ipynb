{
 "cells": [
  {
   "cell_type": "markdown",
   "metadata": {},
   "source": [
    "### Задача 1\n",
    "В переменных str_1 и str_2 сохранены две строки. Если строки содержат одинаковые буквы, вам нужно сохранить в переменную is_the_same_letters значение True, если буквы в строках отличаются —сохраните в переменную значение False.\n",
    "\n",
    "Мы не учитываем порядок букв, их количество и регистр. Сами переменные уже созданы, начинайте сразу готовить код для работы с ними."
   ]
  },
  {
   "cell_type": "code",
   "execution_count": 44,
   "metadata": {},
   "outputs": [],
   "source": [
    "str_1 = 'AaB'\n",
    "str_2 = 'Ab'\n",
    "# is_the_same_letters = True \n",
    "\n",
    "# str_1 = 'Aa'\n",
    "# str_2 = 'AaB'\n",
    "# is_the_same_letters = False\n",
    "\n",
    "\n",
    "str_1 = set(str_1.lower())\n",
    "str_2 = set(str_2.lower())\n",
    "\n",
    "is_the_same_letters = str_1 == str_2    "
   ]
  },
  {
   "cell_type": "code",
   "execution_count": 45,
   "metadata": {},
   "outputs": [
    {
     "data": {
      "text/plain": [
       "True"
      ]
     },
     "execution_count": 45,
     "metadata": {},
     "output_type": "execute_result"
    }
   ],
   "source": [
    "is_the_same_letters"
   ]
  },
  {
   "cell_type": "markdown",
   "metadata": {},
   "source": [
    "### Задача 2\n",
    "В переменной x содержится число с десятичной частью но в формате строки. В переменную y сохраните целое число, которое равняется десятичной части числа x."
   ]
  },
  {
   "cell_type": "code",
   "execution_count": 42,
   "metadata": {},
   "outputs": [],
   "source": [
    "x = '3.14' \n",
    "y = 14 \n",
    "\n",
    "# x = 2.02 \n",
    "# y = 2\n",
    "\n",
    "y = int(x.split('.')[1])\n"
   ]
  },
  {
   "cell_type": "code",
   "execution_count": 43,
   "metadata": {},
   "outputs": [
    {
     "data": {
      "text/plain": [
       "14"
      ]
     },
     "execution_count": 43,
     "metadata": {},
     "output_type": "execute_result"
    }
   ],
   "source": [
    "y"
   ]
  },
  {
   "cell_type": "markdown",
   "metadata": {},
   "source": [
    "### Задача 3\n",
    "Даны две строки str_1 и str_2. Сохраните в result True, если str_1 является анаграммой str_2, и False в противном случае. Регистр букв (большая или маленькая буква) не должен влиять на работу программы. То есть 'Кот' и 'Ток' 'это валидная анаграмма.\n",
    "\n",
    "Анаграмма — это слово или фраза, образованная путем перестановки букв другого слова или фразы, обычно с использованием всех исходных букв ровно один раз."
   ]
  },
  {
   "cell_type": "code",
   "execution_count": 76,
   "metadata": {},
   "outputs": [],
   "source": [
    "# str_1 = \"Привет\"\n",
    "# str_2 = \"Провал\"\n",
    "# result = False\n",
    "\n",
    "str_1 = \"Кот\"\n",
    "str_2 = \"Ток\"\n",
    "# result = True\n",
    "\n",
    "result = 0\n",
    "str_1 = str_1.lower()\n",
    "str_2 = str_2.lower()\n",
    "\n",
    "if sorted(str_1) == sorted(str_2):\n",
    "    result = True"
   ]
  },
  {
   "cell_type": "code",
   "execution_count": 77,
   "metadata": {},
   "outputs": [
    {
     "data": {
      "text/plain": [
       "True"
      ]
     },
     "execution_count": 77,
     "metadata": {},
     "output_type": "execute_result"
    }
   ],
   "source": [
    "result"
   ]
  },
  {
   "cell_type": "markdown",
   "metadata": {},
   "source": [
    "### Задача 4\n",
    "В переменную a сохранено некоторое предложение, в котором могут быть добавлены лишние пробелы.  Напишите программу, которая будет убирать из а лишние пробелы и сохранять результат в переменную result. \n",
    "Все слова должны быть разделены одним пробелом, а в начале и конце предложения пробелов быть не должно."
   ]
  },
  {
   "cell_type": "code",
   "execution_count": 90,
   "metadata": {},
   "outputs": [],
   "source": [
    "a = \"Я     изучаю   новый язык      программирования.   \"\n",
    "# result = \"Я изучаю новый язык программирования.\"\n",
    "\n",
    "words = a.split()\n",
    "\n",
    "result = \" \".join(words)"
   ]
  },
  {
   "cell_type": "code",
   "execution_count": 91,
   "metadata": {},
   "outputs": [
    {
     "data": {
      "text/plain": [
       "'Я изучаю новый язык программирования.'"
      ]
     },
     "execution_count": 91,
     "metadata": {},
     "output_type": "execute_result"
    }
   ],
   "source": [
    "result"
   ]
  },
  {
   "cell_type": "markdown",
   "metadata": {},
   "source": [
    "### Задача 5\n",
    "Напишите программу, основываясь на вводе и выводе в примерах. Вводом будет строка a. Результат сохраните в result.  "
   ]
  },
  {
   "cell_type": "code",
   "execution_count": 96,
   "metadata": {},
   "outputs": [],
   "source": [
    "a = \"div*2\"\n",
    "# result = \"<div></div><div></div>\"\n",
    "\n",
    "# a = \"p*1\" \n",
    "# result = \"<p></p>\"\n",
    "\n",
    "# a = \"li*3\"\n",
    "# result = \"<li></li><li></li><li></li>\"\n",
    "\n",
    "tag, count_str = a.split('*')\n",
    "count = int(count_str)\n",
    "\n",
    "result = f\"<{tag}></{tag}>\" * count\n"
   ]
  },
  {
   "cell_type": "code",
   "execution_count": 97,
   "metadata": {},
   "outputs": [
    {
     "data": {
      "text/plain": [
       "'<div></div><div></div>'"
      ]
     },
     "execution_count": 97,
     "metadata": {},
     "output_type": "execute_result"
    }
   ],
   "source": [
    "result"
   ]
  },
  {
   "cell_type": "markdown",
   "metadata": {},
   "source": [
    "### Задача 6\n",
    "Напишите программу, которая будет принимать строку из слов и возвращать строку, в которой эти слова будут отсортированы в лексикографическом порядке. Исходная строка содержится в переменной x, результат сохраните в result. "
   ]
  },
  {
   "cell_type": "code",
   "execution_count": 121,
   "metadata": {},
   "outputs": [],
   "source": [
    "x = 'У лукоморья дуб зелёный'\n",
    "# result = 'У дуб зелёный лукоморья'\n",
    "\n",
    "y = sorted(x.split(' '))\n",
    "result = ' '.join(y)\n"
   ]
  },
  {
   "cell_type": "code",
   "execution_count": 122,
   "metadata": {},
   "outputs": [
    {
     "data": {
      "text/plain": [
       "'У дуб зелёный лукоморья'"
      ]
     },
     "execution_count": 122,
     "metadata": {},
     "output_type": "execute_result"
    }
   ],
   "source": [
    "result"
   ]
  },
  {
   "cell_type": "markdown",
   "metadata": {},
   "source": [
    "### Задача 7\n",
    "Посчитайте, сколько раз в предложении x встречается строка y. Результат сохраните в переменную result. "
   ]
  },
  {
   "cell_type": "code",
   "execution_count": 123,
   "metadata": {},
   "outputs": [],
   "source": [
    "x = 'На подоконнике в гостиной у бабушки росли цветы, цветы были красные и желтые, очень красивые цветы.'\n",
    "y = 'цветы'\n",
    "# result = 3\n",
    "\n",
    "result = x.count(y)"
   ]
  },
  {
   "cell_type": "code",
   "execution_count": 124,
   "metadata": {},
   "outputs": [
    {
     "data": {
      "text/plain": [
       "3"
      ]
     },
     "execution_count": 124,
     "metadata": {},
     "output_type": "execute_result"
    }
   ],
   "source": [
    "result"
   ]
  },
  {
   "cell_type": "markdown",
   "metadata": {},
   "source": [
    "### Задача 8\n",
    "Напишите программу, которая будет принимать номер кредитной карты card и возвращать номер карты, в котором будут видны только последние 4 цифры. Остальные цифры должны заменяться звездочками. Результат сохраните в result."
   ]
  },
  {
   "cell_type": "code",
   "execution_count": 152,
   "metadata": {},
   "outputs": [],
   "source": [
    "card = '5468350018455833'\n",
    "# result = '************5833'\n",
    "\n",
    "hidden_digits = '*' * (len(card) - 4)\n",
    "visible_digits = card[-4:]\n",
    "result = hidden_digits + visible_digits"
   ]
  },
  {
   "cell_type": "code",
   "execution_count": 150,
   "metadata": {},
   "outputs": [
    {
     "data": {
      "text/plain": [
       "'************'"
      ]
     },
     "execution_count": 150,
     "metadata": {},
     "output_type": "execute_result"
    }
   ],
   "source": [
    "hidden_digits"
   ]
  },
  {
   "cell_type": "code",
   "execution_count": 151,
   "metadata": {},
   "outputs": [
    {
     "data": {
      "text/plain": [
       "'5833'"
      ]
     },
     "execution_count": 151,
     "metadata": {},
     "output_type": "execute_result"
    }
   ],
   "source": [
    "visible_digits"
   ]
  },
  {
   "cell_type": "code",
   "execution_count": 153,
   "metadata": {},
   "outputs": [
    {
     "data": {
      "text/plain": [
       "'************5833'"
      ]
     },
     "execution_count": 153,
     "metadata": {},
     "output_type": "execute_result"
    }
   ],
   "source": [
    "result"
   ]
  },
  {
   "cell_type": "markdown",
   "metadata": {},
   "source": [
    "### Задача 9\n",
    "В переменной а сохранено предложение. Удалите из предложения все вхождения слова или символа b. Результат сохраните в result.  "
   ]
  },
  {
   "cell_type": "code",
   "execution_count": 186,
   "metadata": {},
   "outputs": [],
   "source": [
    "a = 'Я помню чудное мгновенье'\n",
    "b = 'о'\n",
    "# result = 'Я пмню чудне мгнвенье'\n",
    "\n",
    "result = a.replace(b, '')\n"
   ]
  },
  {
   "cell_type": "code",
   "execution_count": 187,
   "metadata": {},
   "outputs": [
    {
     "data": {
      "text/plain": [
       "'Я пмню чудне мгнвенье'"
      ]
     },
     "execution_count": 187,
     "metadata": {},
     "output_type": "execute_result"
    }
   ],
   "source": [
    "result"
   ]
  }
 ],
 "metadata": {
  "kernelspec": {
   "display_name": "base",
   "language": "python",
   "name": "python3"
  },
  "language_info": {
   "codemirror_mode": {
    "name": "ipython",
    "version": 3
   },
   "file_extension": ".py",
   "mimetype": "text/x-python",
   "name": "python",
   "nbconvert_exporter": "python",
   "pygments_lexer": "ipython3",
   "version": "3.11.3"
  }
 },
 "nbformat": 4,
 "nbformat_minor": 2
}
