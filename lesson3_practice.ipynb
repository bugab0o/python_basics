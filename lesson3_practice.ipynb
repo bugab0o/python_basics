{
 "cells": [
  {
   "cell_type": "markdown",
   "id": "a3ab8120",
   "metadata": {},
   "source": [
    "### Задача 1\n",
    "В my_list сохранен список как минимум с двумя элементами.\n",
    "\n",
    "В переменную first_item сохраните первый элемент списка.\n",
    "\n",
    "В переменную last_item сохраните последний элемент списка.\n",
    "\n",
    "В переменную reversed_list сохраните все элементы списка my_list в обратном порядке.\n",
    "\n",
    "В переменную even_items сохраните все элементы my_list с четными индексами."
   ]
  },
  {
   "cell_type": "code",
   "execution_count": 1,
   "id": "b567240a",
   "metadata": {},
   "outputs": [],
   "source": [
    "my_list = ['Anatoly', 'Fedor', 1, 2, 3]\n",
    "\n",
    "# first_item = 'Anatoly'\n",
    "# last_item = 3\n",
    "# reversed_my_list = [3, 2, 1, 'Fedor', 'Anatoly']\n",
    "# even_items = ['Anatoly', 1, 3]\n",
    "\n",
    "first_item = my_list[0]\n",
    "last_item = my_list[-1]\n",
    "reversed_list = my_list[::-1]\n",
    "even_items = my_list[0:10:2]"
   ]
  },
  {
   "cell_type": "code",
   "execution_count": 2,
   "id": "0979cb83",
   "metadata": {
    "scrolled": false
   },
   "outputs": [
    {
     "data": {
      "text/plain": [
       "'Anatoly'"
      ]
     },
     "execution_count": 2,
     "metadata": {},
     "output_type": "execute_result"
    }
   ],
   "source": [
    "first_item"
   ]
  },
  {
   "cell_type": "code",
   "execution_count": 3,
   "id": "0b53e28e",
   "metadata": {},
   "outputs": [
    {
     "data": {
      "text/plain": [
       "3"
      ]
     },
     "execution_count": 3,
     "metadata": {},
     "output_type": "execute_result"
    }
   ],
   "source": [
    "last_item"
   ]
  },
  {
   "cell_type": "code",
   "execution_count": 4,
   "id": "0c750a7a",
   "metadata": {},
   "outputs": [
    {
     "data": {
      "text/plain": [
       "[3, 2, 1, 'Fedor', 'Anatoly']"
      ]
     },
     "execution_count": 4,
     "metadata": {},
     "output_type": "execute_result"
    }
   ],
   "source": [
    "reversed_list"
   ]
  },
  {
   "cell_type": "code",
   "execution_count": 5,
   "id": "37251742",
   "metadata": {
    "scrolled": true
   },
   "outputs": [
    {
     "data": {
      "text/plain": [
       "['Anatoly', 1, 3]"
      ]
     },
     "execution_count": 5,
     "metadata": {},
     "output_type": "execute_result"
    }
   ],
   "source": [
    "even_items"
   ]
  },
  {
   "cell_type": "markdown",
   "id": "3d200a3f",
   "metadata": {},
   "source": [
    "### Задача 2\n",
    "Задание:\n",
    "\n",
    "В переменную var_1 сохраните список с числами от -100 до 100 включительно с шагом в 1.\n",
    "\n",
    "В переменную var_2 сохраните список с числами от 250 до 0 включительно с шагом в 2.\n",
    "\n",
    "В переменную var_3 сохраните список со всеми нечетными числами от 100 до 200.\n",
    "\n"
   ]
  },
  {
   "cell_type": "code",
   "execution_count": 6,
   "id": "d174368b",
   "metadata": {},
   "outputs": [],
   "source": [
    "# от 0 до 4 с шагом 1\n",
    "# > list(range(5)) \n",
    "# [0, 1, 2, 3, 4]\n",
    "\n",
    "# от 2 до 9 с шагом 2\n",
    "# > list(range(2, 10, 2)) \n",
    "# [2, 4, 6, 8]\n",
    "\n",
    "# от 10 до 2 с шагом 1\n",
    "# list(range(10, 1, -1))\n",
    "# [10, 9, 8, 7, 6, 5, 4, 3, 2]\n",
    "\n",
    "var_1 = list(range(-100,101,1))\n",
    "var_2 = list(range(250,-2,-2))\n",
    "var_3 = list(range(101,200,2))"
   ]
  },
  {
   "cell_type": "code",
   "execution_count": 7,
   "id": "d58e06f1",
   "metadata": {
    "scrolled": true
   },
   "outputs": [
    {
     "data": {
      "text/plain": [
       "[101,\n",
       " 103,\n",
       " 105,\n",
       " 107,\n",
       " 109,\n",
       " 111,\n",
       " 113,\n",
       " 115,\n",
       " 117,\n",
       " 119,\n",
       " 121,\n",
       " 123,\n",
       " 125,\n",
       " 127,\n",
       " 129,\n",
       " 131,\n",
       " 133,\n",
       " 135,\n",
       " 137,\n",
       " 139,\n",
       " 141,\n",
       " 143,\n",
       " 145,\n",
       " 147,\n",
       " 149,\n",
       " 151,\n",
       " 153,\n",
       " 155,\n",
       " 157,\n",
       " 159,\n",
       " 161,\n",
       " 163,\n",
       " 165,\n",
       " 167,\n",
       " 169,\n",
       " 171,\n",
       " 173,\n",
       " 175,\n",
       " 177,\n",
       " 179,\n",
       " 181,\n",
       " 183,\n",
       " 185,\n",
       " 187,\n",
       " 189,\n",
       " 191,\n",
       " 193,\n",
       " 195,\n",
       " 197,\n",
       " 199]"
      ]
     },
     "execution_count": 7,
     "metadata": {},
     "output_type": "execute_result"
    }
   ],
   "source": [
    "var_3"
   ]
  },
  {
   "cell_type": "markdown",
   "id": "73b93566",
   "metadata": {},
   "source": [
    "### Задача 3\n",
    "В переменных  a и b хранятся числа — начало и конец диапазона. Напишите программу, которая вернет сумму всех чисел из этого диапазона. Сохраните значение в переменную result. "
   ]
  },
  {
   "cell_type": "code",
   "execution_count": 8,
   "id": "cb23f6ed",
   "metadata": {},
   "outputs": [],
   "source": [
    "a = 1\n",
    "b = 3 \n",
    "\n",
    "# result = 6\n",
    "\n",
    "result = sum(range(a, b + 1))"
   ]
  },
  {
   "cell_type": "code",
   "execution_count": 9,
   "id": "8d02b215",
   "metadata": {},
   "outputs": [
    {
     "data": {
      "text/plain": [
       "6"
      ]
     },
     "execution_count": 9,
     "metadata": {},
     "output_type": "execute_result"
    }
   ],
   "source": [
    "result"
   ]
  },
  {
   "cell_type": "markdown",
   "id": "e7448d86",
   "metadata": {},
   "source": [
    "### Задача 4\n",
    "Давайте потренируемся использовать различные методы списков. В переменной my_list сохранен не пустой список, в котором есть число 11. \n",
    "\n",
    "Найдите первый индекс числа 11 в my_list, сохраните индекс в переменную eleven_index.  \n",
    "\n",
    "В переменную ten_count сохраните, сколько раз в списке my_list встречается число 10."
   ]
  },
  {
   "cell_type": "code",
   "execution_count": 10,
   "id": "cd2672ef",
   "metadata": {},
   "outputs": [],
   "source": [
    "my_list = [1, 10, 0, 10, 11]\n",
    "# eleven_index = 4\n",
    "# ten_count = 2\n",
    "\n",
    "\n",
    "# my_list = [11, 2, 0, 6]\n",
    "# eleven_index = 0\n",
    "# ten_count = 0\n",
    "\n",
    "eleven_index = my_list.index(11)\n",
    "ten_count = my_list.count(10)"
   ]
  },
  {
   "cell_type": "code",
   "execution_count": 11,
   "id": "ce416ffc",
   "metadata": {},
   "outputs": [
    {
     "data": {
      "text/plain": [
       "4"
      ]
     },
     "execution_count": 11,
     "metadata": {},
     "output_type": "execute_result"
    }
   ],
   "source": [
    "eleven_index"
   ]
  },
  {
   "cell_type": "code",
   "execution_count": 12,
   "id": "87452afd",
   "metadata": {},
   "outputs": [
    {
     "data": {
      "text/plain": [
       "2"
      ]
     },
     "execution_count": 12,
     "metadata": {},
     "output_type": "execute_result"
    }
   ],
   "source": [
    "ten_count"
   ]
  },
  {
   "cell_type": "markdown",
   "id": "cea22fbe",
   "metadata": {},
   "source": [
    "### Задача 5\n",
    "В student_names сохранен список с именами студентов, добавьте в список два имени 'Anatoly' и 'Oksana'.\n",
    "\n",
    "В scores сохранен список из десяти целых чисел, удалите из него второй, пятый и последний элемент.\n",
    "\n",
    "В lessons сохранен список с названием уроков, отсортируйте названия уроков в списке по алфавиту. "
   ]
  },
  {
   "cell_type": "code",
   "execution_count": 13,
   "id": "397d6f16",
   "metadata": {},
   "outputs": [],
   "source": [
    "student_names = ['Ian', 'Ivan']\n",
    "scores = [0, 1, 2, 3, 4, 5, 6, 7, 8, 9, 10]\n",
    "lessons = ['Python', 'Analytics']\n",
    "\n",
    "# ===>\n",
    "\n",
    "# student_names = ['Ian', 'Ivan', 'Anatoly', 'Oksana']\n",
    "# scores = [0, 2, 3, 5, 6, 7, 8, 9]\n",
    "# lessons = ['Analytics', 'Python']\n",
    "\n",
    "student_names.append('Anatoly')\n",
    "student_names.append('Oksana')\n",
    "scores.pop(1)\n",
    "scores.pop(3)\n",
    "scores.pop(-1)\n",
    "lessons.sort()"
   ]
  },
  {
   "cell_type": "code",
   "execution_count": 14,
   "id": "8d44d6b6",
   "metadata": {
    "scrolled": false
   },
   "outputs": [
    {
     "data": {
      "text/plain": [
       "['Ian', 'Ivan', 'Anatoly', 'Oksana']"
      ]
     },
     "execution_count": 14,
     "metadata": {},
     "output_type": "execute_result"
    }
   ],
   "source": [
    "student_names"
   ]
  },
  {
   "cell_type": "code",
   "execution_count": 15,
   "id": "13f2ddf2",
   "metadata": {},
   "outputs": [
    {
     "data": {
      "text/plain": [
       "[0, 2, 3, 5, 6, 7, 8, 9]"
      ]
     },
     "execution_count": 15,
     "metadata": {},
     "output_type": "execute_result"
    }
   ],
   "source": [
    "scores"
   ]
  },
  {
   "cell_type": "code",
   "execution_count": 16,
   "id": "fd1bcba6",
   "metadata": {},
   "outputs": [
    {
     "data": {
      "text/plain": [
       "['Analytics', 'Python']"
      ]
     },
     "execution_count": 16,
     "metadata": {},
     "output_type": "execute_result"
    }
   ],
   "source": [
    "lessons"
   ]
  },
  {
   "cell_type": "markdown",
   "id": "fdc508a5",
   "metadata": {},
   "source": [
    "### Задача 6\n",
    "Создайте кортеж с названиями дней недели и сохраните его в переменную days_of_the_week."
   ]
  },
  {
   "cell_type": "code",
   "execution_count": 17,
   "id": "b4c169b4",
   "metadata": {},
   "outputs": [],
   "source": [
    "# 'Monday', 'Tuesday', 'Wednesday', 'Thursday', 'Friday', 'Saturday', 'Sunday'\n",
    "\n",
    "days_of_the_week = ('Monday', 'Tuesday', 'Wednesday', 'Thursday', 'Friday', 'Saturday', 'Sunday')"
   ]
  },
  {
   "cell_type": "code",
   "execution_count": 18,
   "id": "c44b6d75",
   "metadata": {},
   "outputs": [
    {
     "data": {
      "text/plain": [
       "('Monday', 'Tuesday', 'Wednesday', 'Thursday', 'Friday', 'Saturday', 'Sunday')"
      ]
     },
     "execution_count": 18,
     "metadata": {},
     "output_type": "execute_result"
    }
   ],
   "source": [
    "days_of_the_week"
   ]
  },
  {
   "cell_type": "markdown",
   "id": "3e7b25eb",
   "metadata": {},
   "source": [
    "### Задача 7 *\n",
    "В переменной numbers_list сохранен список с целыми числами. В списке минимум два разных целых числа.\n",
    "\n",
    "В переменную numbers_list_ordered сохраните все числа из списка numbers_list, отсортированные по убыванию. При этом сам список numbers_list не должен изменяться.\n",
    "\n",
    "В переменную numbers_set сохраните множество из уникальных чисел из списка numbers_list. Дополните это множество следующим целым числом после максимального числа из numbers_list.\n",
    "\n",
    "В переменную numbers_frozenset сохраните неизменяемое множество из всех уникальных чисел из списка numbers_list, кроме минимального числа."
   ]
  },
  {
   "cell_type": "code",
   "execution_count": 19,
   "id": "99f01e6f",
   "metadata": {},
   "outputs": [],
   "source": [
    "# Пример 1\n",
    "\n",
    "numbers_list = [-1, -5, 1, 1, -1, 4, 4, 2]\n",
    "# numbers_frozenset = frozenset({1, 2, 4, -1})\n",
    "\n",
    "# numbers_list = [1, 5, 3, 3, 5]\n",
    "# numbers_list_ordered = [5, 5, 3, 3, 1]\n",
    "# numbers_set = set([1, 3, 5, 6])\n",
    "# numbers_frozenset = frozenset([3, 5])\n",
    "\n",
    "\n",
    "# Пример 2\n",
    "# numbers_list = [-1, 0, 1]\n",
    "\n",
    "# numbers_list_ordered = [1, 0, -1]\n",
    "# numbers_set = set([-1, 0, 1, 2])\n",
    "# numbers_frozenset = frozenset([0, 1])\n",
    "\n",
    "\n",
    "# Пример 3\n",
    "# numbers_list [-1, -5, -1]\n",
    "\n",
    "# numbers_list_ordered = [-1, -1, -5]\n",
    "# numbers_set = set([-5, -1, 0])\n",
    "# numbers_frozenset = frozenset([-1])\n",
    "numbers_list2 = numbers_list.copy()\n",
    "numbers_list_ordered = sorted(numbers_list2)\n",
    "numbers_list_ordered.reverse()\n",
    "\n",
    "numbers_set = set(numbers_list)\n",
    "numbers_set.add(max(numbers_set) + 1)\n",
    "\n",
    "numbers_frozenset = set(numbers_list)\n",
    "numbers_frozenset.remove(min(numbers_list))\n",
    "numbers_frozenset = frozenset(numbers_frozenset)"
   ]
  },
  {
   "cell_type": "code",
   "execution_count": 20,
   "id": "67546fdc",
   "metadata": {
    "scrolled": true
   },
   "outputs": [
    {
     "name": "stdout",
     "output_type": "stream",
     "text": [
      "[4, 4, 2, 1, 1, -1, -1, -5]\n"
     ]
    }
   ],
   "source": [
    "print(numbers_list_ordered)"
   ]
  },
  {
   "cell_type": "code",
   "execution_count": 21,
   "id": "cd0f2fcb",
   "metadata": {},
   "outputs": [
    {
     "data": {
      "text/plain": [
       "[-1, -5, 1, 1, -1, 4, 4, 2]"
      ]
     },
     "execution_count": 21,
     "metadata": {},
     "output_type": "execute_result"
    }
   ],
   "source": [
    "numbers_list2"
   ]
  },
  {
   "cell_type": "code",
   "execution_count": 22,
   "id": "a3f3ac9e",
   "metadata": {},
   "outputs": [
    {
     "data": {
      "text/plain": [
       "[4, 4, 2, 1, 1, -1, -1, -5]"
      ]
     },
     "execution_count": 22,
     "metadata": {},
     "output_type": "execute_result"
    }
   ],
   "source": [
    "numbers_list_ordered "
   ]
  },
  {
   "cell_type": "code",
   "execution_count": 23,
   "id": "22e85705",
   "metadata": {
    "scrolled": false
   },
   "outputs": [
    {
     "data": {
      "text/plain": [
       "{-5, -1, 1, 2, 4, 5}"
      ]
     },
     "execution_count": 23,
     "metadata": {},
     "output_type": "execute_result"
    }
   ],
   "source": [
    "numbers_set "
   ]
  },
  {
   "cell_type": "code",
   "execution_count": 24,
   "id": "3c9e979d",
   "metadata": {
    "scrolled": true
   },
   "outputs": [
    {
     "data": {
      "text/plain": [
       "frozenset({-1, 1, 2, 4})"
      ]
     },
     "execution_count": 24,
     "metadata": {},
     "output_type": "execute_result"
    }
   ],
   "source": [
    "numbers_frozenset"
   ]
  },
  {
   "cell_type": "markdown",
   "id": "9fe51c20",
   "metadata": {},
   "source": [
    "### Задача 8\n",
    "Даны два списка list_1 и list_2. Отсортируйте list_1 по возрастанию, а list_2 по убыванию. \n",
    "Объедините list_1 и list_2 в один отсортированный по возрастанию список list_3.  \n",
    "В переменную list_3_len сохраните длину  list_3. "
   ]
  },
  {
   "cell_type": "code",
   "execution_count": 25,
   "id": "1f64cede",
   "metadata": {},
   "outputs": [],
   "source": [
    "list_1 = [1, 5, 3]\n",
    "list_2 = [2, 8]\n",
    "# # -> \n",
    "# list_1 = [1, 3, 5]\n",
    "# list_2 = [8, 2]\n",
    "# list_3 = [1, 2, 3, 5, 8]\n",
    "# list_3_len = 5\n",
    "list_1.sort()\n",
    "list_2.sort(reverse=True)\n",
    "list_3 = list_1.copy()\n",
    "list_3.extend(list_2)\n",
    "list_3.sort()\n",
    "list_3_len = len(list_3)"
   ]
  },
  {
   "cell_type": "code",
   "execution_count": 26,
   "id": "72b2071a",
   "metadata": {
    "scrolled": true
   },
   "outputs": [
    {
     "data": {
      "text/plain": [
       "[1, 3, 5]"
      ]
     },
     "execution_count": 26,
     "metadata": {},
     "output_type": "execute_result"
    }
   ],
   "source": [
    "list_1"
   ]
  },
  {
   "cell_type": "code",
   "execution_count": 27,
   "id": "631f1fbc",
   "metadata": {
    "scrolled": true
   },
   "outputs": [
    {
     "data": {
      "text/plain": [
       "[8, 2]"
      ]
     },
     "execution_count": 27,
     "metadata": {},
     "output_type": "execute_result"
    }
   ],
   "source": [
    "list_2"
   ]
  },
  {
   "cell_type": "code",
   "execution_count": 28,
   "id": "b51ff1fa",
   "metadata": {},
   "outputs": [
    {
     "data": {
      "text/plain": [
       "[1, 2, 3, 5, 8]"
      ]
     },
     "execution_count": 28,
     "metadata": {},
     "output_type": "execute_result"
    }
   ],
   "source": [
    "list_3"
   ]
  },
  {
   "cell_type": "code",
   "execution_count": 29,
   "id": "d4c3602a",
   "metadata": {
    "scrolled": true
   },
   "outputs": [
    {
     "data": {
      "text/plain": [
       "5"
      ]
     },
     "execution_count": 29,
     "metadata": {},
     "output_type": "execute_result"
    }
   ],
   "source": [
    "list_3_len "
   ]
  },
  {
   "cell_type": "markdown",
   "id": "f89665b0",
   "metadata": {},
   "source": [
    "### Задача 9\n",
    "В переменной menu хранится множество всех позиций меню кофейни, а в переменной stop — множество позиций меню кофейни, недоступных для заказа сегодня. Сохраните в переменную menu_today позиции меню, которые доступны для заказа сегодня.  "
   ]
  },
  {
   "cell_type": "code",
   "execution_count": 30,
   "id": "82305b7e",
   "metadata": {},
   "outputs": [],
   "source": [
    "menu = {'White Chocolate Mocha', 'Americano', 'Flat White', 'Latte', \n",
    "        'Blueberry Muffin', 'Chocolate Chip Cookie'}\n",
    "stop = {'White Chocolate Mocha', 'Blueberry Muffin'}\n",
    "\n",
    "# menu_today = {'Americano', 'Flat White', 'Latte', 'Chocolate Chip Cookie'}\n",
    "\n",
    "menu_today = menu.difference(stop)\n"
   ]
  },
  {
   "cell_type": "code",
   "execution_count": 31,
   "id": "69691f72",
   "metadata": {},
   "outputs": [
    {
     "data": {
      "text/plain": [
       "{'Americano', 'Chocolate Chip Cookie', 'Flat White', 'Latte'}"
      ]
     },
     "execution_count": 31,
     "metadata": {},
     "output_type": "execute_result"
    }
   ],
   "source": [
    "menu_today"
   ]
  },
  {
   "cell_type": "markdown",
   "id": "363bf62e",
   "metadata": {},
   "source": [
    "### Задача 10\n",
    "В переменной my_set множество (set) из чисел. В переменной to_delete число, которое нужно удалить из my_set, если оно там есть. Если такого числа нет в my_set ничего делать не надо."
   ]
  },
  {
   "cell_type": "code",
   "execution_count": 32,
   "id": "550d21fe",
   "metadata": {},
   "outputs": [],
   "source": [
    "my_set = {0, 10, 100}\n",
    "to_delete = 0\n",
    "# ====>\n",
    "# my_set = {10, 100} # удалили 0\n",
    "\n",
    "# my_set = {0, 10, 100}\n",
    "# to_delete = -2\n",
    "# ====>\n",
    "# my_set = {0, 10, 100} # ничего не сделали\n",
    "\n",
    "my_set.discard(to_delete)"
   ]
  },
  {
   "cell_type": "code",
   "execution_count": 33,
   "id": "085c3c95",
   "metadata": {},
   "outputs": [
    {
     "data": {
      "text/plain": [
       "{10, 100}"
      ]
     },
     "execution_count": 33,
     "metadata": {},
     "output_type": "execute_result"
    }
   ],
   "source": [
    "my_set"
   ]
  },
  {
   "cell_type": "markdown",
   "id": "24d8e4c5",
   "metadata": {},
   "source": [
    "### Задача 11\n",
    "В students хранится множество студентов it-центра МАИ. Студент, имя которого записано в new_student, перевелся в МАИ из другого института, его имя нужно добавить в students. В переменной churn_student — студент, который хочет перевестись из МАИ в другой институт, его имя нужно убрать из students. "
   ]
  },
  {
   "cell_type": "code",
   "execution_count": 34,
   "id": "bf6878a5",
   "metadata": {},
   "outputs": [],
   "source": [
    "students = {'Кравченко Виталий', 'Полякова Ольга', 'Некрасов Игорь', 'Дудочкин Илья', 'Захарова Мария'}\n",
    "new_student = 'Василенко Анна'\n",
    "churn_student = 'Полякова Ольга'\n",
    "# ->\n",
    "# students = {'Кравченко Виталий', 'Некрасов Игорь', 'Дудочкин Илья', 'Захарова Мария', 'Василенко Анна'}\n",
    "\n",
    "students.add(new_student)\n",
    "students.discard(churn_student)\n"
   ]
  },
  {
   "cell_type": "code",
   "execution_count": 35,
   "id": "38685a91",
   "metadata": {
    "scrolled": true
   },
   "outputs": [
    {
     "data": {
      "text/plain": [
       "{'Василенко Анна',\n",
       " 'Дудочкин Илья',\n",
       " 'Захарова Мария',\n",
       " 'Кравченко Виталий',\n",
       " 'Некрасов Игорь'}"
      ]
     },
     "execution_count": 35,
     "metadata": {},
     "output_type": "execute_result"
    }
   ],
   "source": [
    "students"
   ]
  },
  {
   "cell_type": "markdown",
   "id": "5dab61d6",
   "metadata": {},
   "source": [
    "### Задача 12\n",
    "В переменной da_students хранятся имена студентов курса \"Аналитик данных\", а в переменной dv_students — имена студентов курса \"Визуализация данных\". Сохраните в переменную students студентов, которые обучаются на обоих курсах.\n",
    "\n",
    "Порядок элементов в students не имеет значения."
   ]
  },
  {
   "cell_type": "code",
   "execution_count": 36,
   "id": "5030f529",
   "metadata": {},
   "outputs": [],
   "source": [
    "# студенты курса \"Аналитик данных\"\n",
    "da_students = {'Ivanov Alexander', 'Loginov Vladislav', 'Ershova Anna', 'Korneva Daria'}\n",
    "# студенты курса \"Визуализация данных\"\n",
    "dv_students = {'Ershova Anna', 'Egunov Andrey', 'Ignatov Alexey', 'Loginov Vladislav'}\n",
    "\n",
    "# результат\n",
    "# students = {'Loginov Vladislav', 'Ershova Anna'}\n",
    "\n",
    "students = da_students.intersection(dv_students)\n",
    "\n",
    "# более короткая запись метода intersection\n",
    "# students = da_students & dv_students\n",
    "\n",
    "# а метод difference можно заменить на знак '-'\n",
    "# da_students - dv_students"
   ]
  },
  {
   "cell_type": "code",
   "execution_count": 37,
   "id": "5d5bb0a8",
   "metadata": {},
   "outputs": [
    {
     "data": {
      "text/plain": [
       "{'Ershova Anna', 'Loginov Vladislav'}"
      ]
     },
     "execution_count": 37,
     "metadata": {},
     "output_type": "execute_result"
    }
   ],
   "source": [
    "students"
   ]
  },
  {
   "cell_type": "markdown",
   "id": "ac857c97",
   "metadata": {},
   "source": [
    "### Задача 13\n",
    "В переменной a хранится список целых неотрицательных чисел. Количество чисел четное.\n",
    "Напишите программу, которая будет делить этот список пополам, определять суммы чисел в половинах списка (sum_left и sum_right). Если sum_left равно sum_right, то сохраните в переменную result значение True,  в противном случае — False.  "
   ]
  },
  {
   "cell_type": "code",
   "execution_count": 38,
   "id": "8965aba1",
   "metadata": {},
   "outputs": [],
   "source": [
    "a = [1, 2, 4, 3]\n",
    "\n",
    "# sum_left = 3\n",
    "# sum_right = 7\n",
    "# result = False\n",
    "half = len(a) // 2\n",
    "left_half = a[:half]\n",
    "right_half = a[half:]\n",
    "\n",
    "sum_left = sum(left_half)\n",
    "sum_right = sum(right_half)\n",
    "\n",
    "if sum_left == sum_right:\n",
    "    result = True\n",
    "else:\n",
    "    result = False"
   ]
  },
  {
   "cell_type": "code",
   "execution_count": 39,
   "id": "aaec4128",
   "metadata": {
    "scrolled": false
   },
   "outputs": [
    {
     "data": {
      "text/plain": [
       "3"
      ]
     },
     "execution_count": 39,
     "metadata": {},
     "output_type": "execute_result"
    }
   ],
   "source": [
    "sum_left"
   ]
  },
  {
   "cell_type": "code",
   "execution_count": 40,
   "id": "c3627d48",
   "metadata": {},
   "outputs": [
    {
     "data": {
      "text/plain": [
       "7"
      ]
     },
     "execution_count": 40,
     "metadata": {},
     "output_type": "execute_result"
    }
   ],
   "source": [
    "sum_right"
   ]
  },
  {
   "cell_type": "code",
   "execution_count": 41,
   "id": "45f17aaf",
   "metadata": {},
   "outputs": [
    {
     "data": {
      "text/plain": [
       "False"
      ]
     },
     "execution_count": 41,
     "metadata": {},
     "output_type": "execute_result"
    }
   ],
   "source": [
    "result"
   ]
  },
  {
   "cell_type": "markdown",
   "id": "da2b4ce0",
   "metadata": {},
   "source": [
    "### Задача 14\n",
    "Даны список целых чисел a и число b. Удалите из a первое и последнее вхождение числа b."
   ]
  },
  {
   "cell_type": "code",
   "execution_count": 42,
   "id": "37874aa9",
   "metadata": {},
   "outputs": [],
   "source": [
    "a = [1, 2, 2, 1, 3, 2, 3]\n",
    "b = 1 \n",
    "# -> a = [2, 2, 3, 2, 3]\n",
    "\n",
    "# a = [1, 2, 2, 1, 3, 2, 3]\n",
    "# b = 2 \n",
    "# -> a = [1, 2, 1, 3, 3]\n",
    "\n",
    "a.remove(b)\n",
    "a.reverse()\n",
    "a.remove(b)\n",
    "a.reverse()\n"
   ]
  },
  {
   "cell_type": "code",
   "execution_count": 43,
   "id": "8eb268e3",
   "metadata": {},
   "outputs": [
    {
     "data": {
      "text/plain": [
       "[2, 2, 3, 2, 3]"
      ]
     },
     "execution_count": 43,
     "metadata": {},
     "output_type": "execute_result"
    }
   ],
   "source": [
    "a"
   ]
  }
 ],
 "metadata": {
  "kernelspec": {
   "display_name": "Python 3 (ipykernel)",
   "language": "python",
   "name": "python3"
  },
  "language_info": {
   "codemirror_mode": {
    "name": "ipython",
    "version": 3
   },
   "file_extension": ".py",
   "mimetype": "text/x-python",
   "name": "python",
   "nbconvert_exporter": "python",
   "pygments_lexer": "ipython3",
   "version": "3.11.3"
  }
 },
 "nbformat": 4,
 "nbformat_minor": 5
}
