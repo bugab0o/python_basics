{
 "cells": [
  {
   "cell_type": "markdown",
   "metadata": {},
   "source": [
    "### Lesson 3\n",
    "Списки и множества"
   ]
  },
  {
   "cell_type": "code",
   "execution_count": 1,
   "metadata": {},
   "outputs": [],
   "source": [
    "student_1 = 'Anatoly'\n",
    "student_2 = 'Ivan'\n",
    "student_3 = 'Fedor'\n",
    "\n",
    "student_4 = 'Beslan'\n",
    "student_5 = 'Ivan'\n",
    "student_6 = 'Oksana'"
   ]
  },
  {
   "cell_type": "code",
   "execution_count": 2,
   "metadata": {},
   "outputs": [],
   "source": [
    "python_students = [student_1, student_2, student_3]"
   ]
  },
  {
   "cell_type": "code",
   "execution_count": 3,
   "metadata": {},
   "outputs": [],
   "source": [
    "sql_students = [student_4, student_5, student_6]"
   ]
  },
  {
   "cell_type": "code",
   "execution_count": 4,
   "metadata": {},
   "outputs": [],
   "source": [
    "# my_list = [1, 2, 3, 'hi', True]"
   ]
  },
  {
   "cell_type": "code",
   "execution_count": 5,
   "metadata": {},
   "outputs": [
    {
     "data": {
      "text/plain": [
       "['Anatoly', 'Ivan', 'Fedor']"
      ]
     },
     "execution_count": 5,
     "metadata": {},
     "output_type": "execute_result"
    }
   ],
   "source": [
    "python_students"
   ]
  },
  {
   "cell_type": "code",
   "execution_count": 6,
   "metadata": {},
   "outputs": [
    {
     "data": {
      "text/plain": [
       "['Beslan', 'Ivan', 'Oksana']"
      ]
     },
     "execution_count": 6,
     "metadata": {},
     "output_type": "execute_result"
    }
   ],
   "source": [
    "sql_students"
   ]
  },
  {
   "cell_type": "code",
   "execution_count": 7,
   "metadata": {},
   "outputs": [
    {
     "data": {
      "text/plain": [
       "'Fedor'"
      ]
     },
     "execution_count": 7,
     "metadata": {},
     "output_type": "execute_result"
    }
   ],
   "source": [
    "python_students[2]"
   ]
  },
  {
   "cell_type": "code",
   "execution_count": 8,
   "metadata": {},
   "outputs": [
    {
     "data": {
      "text/plain": [
       "['Anatoly', 'Ivan']"
      ]
     },
     "execution_count": 8,
     "metadata": {},
     "output_type": "execute_result"
    }
   ],
   "source": [
    "python_students[0:2]"
   ]
  },
  {
   "cell_type": "code",
   "execution_count": 9,
   "metadata": {},
   "outputs": [],
   "source": [
    "# [0, 3) - from math"
   ]
  },
  {
   "cell_type": "code",
   "execution_count": 10,
   "metadata": {},
   "outputs": [
    {
     "data": {
      "text/plain": [
       "['Anatoly', 'Ivan', 'Fedor']"
      ]
     },
     "execution_count": 10,
     "metadata": {},
     "output_type": "execute_result"
    }
   ],
   "source": [
    "# 0, 1, 2\n",
    "python_students[0:3]"
   ]
  },
  {
   "cell_type": "code",
   "execution_count": 11,
   "metadata": {},
   "outputs": [
    {
     "data": {
      "text/plain": [
       "['Ivan', 'Fedor']"
      ]
     },
     "execution_count": 11,
     "metadata": {},
     "output_type": "execute_result"
    }
   ],
   "source": [
    "python_students[1:]"
   ]
  },
  {
   "cell_type": "code",
   "execution_count": 12,
   "metadata": {},
   "outputs": [
    {
     "data": {
      "text/plain": [
       "['Anatoly', 'Ivan', 'Fedor']"
      ]
     },
     "execution_count": 12,
     "metadata": {},
     "output_type": "execute_result"
    }
   ],
   "source": [
    "# [0, 10)\n",
    "python_students[0:10]"
   ]
  },
  {
   "cell_type": "code",
   "execution_count": 13,
   "metadata": {},
   "outputs": [
    {
     "data": {
      "text/plain": [
       "'Ivan'"
      ]
     },
     "execution_count": 13,
     "metadata": {},
     "output_type": "execute_result"
    }
   ],
   "source": [
    "# одна переменная является индексом для другой переменной, которая является списком\n",
    "my_index = 1\n",
    "python_students[my_index]"
   ]
  },
  {
   "cell_type": "code",
   "execution_count": 14,
   "metadata": {},
   "outputs": [],
   "source": [
    "start_i = 0\n",
    "end_i = 2"
   ]
  },
  {
   "cell_type": "code",
   "execution_count": 15,
   "metadata": {},
   "outputs": [
    {
     "data": {
      "text/plain": [
       "['Anatoly', 'Ivan']"
      ]
     },
     "execution_count": 15,
     "metadata": {},
     "output_type": "execute_result"
    }
   ],
   "source": [
    "python_students[start_i: end_i]"
   ]
  },
  {
   "cell_type": "code",
   "execution_count": 16,
   "metadata": {},
   "outputs": [
    {
     "data": {
      "text/plain": [
       "'Fedor'"
      ]
     },
     "execution_count": 16,
     "metadata": {},
     "output_type": "execute_result"
    }
   ],
   "source": [
    "# берем элемент с конца списка\n",
    "python_students[-1]"
   ]
  },
  {
   "cell_type": "code",
   "execution_count": 17,
   "metadata": {},
   "outputs": [
    {
     "data": {
      "text/plain": [
       "[0, 1, 2, 3, 4]"
      ]
     },
     "execution_count": 17,
     "metadata": {},
     "output_type": "execute_result"
    }
   ],
   "source": [
    "# range - функция, которая получает на вход числа и создает нам последовательность.\n",
    "my_list = list(range(5))\n",
    "my_list"
   ]
  },
  {
   "cell_type": "code",
   "execution_count": 18,
   "metadata": {},
   "outputs": [
    {
     "data": {
      "text/plain": [
       "[1, 2]"
      ]
     },
     "execution_count": 18,
     "metadata": {},
     "output_type": "execute_result"
    }
   ],
   "source": [
    "[1, 2]"
   ]
  },
  {
   "cell_type": "code",
   "execution_count": 19,
   "metadata": {},
   "outputs": [
    {
     "data": {
      "text/plain": [
       "[1, 2]"
      ]
     },
     "execution_count": 19,
     "metadata": {},
     "output_type": "execute_result"
    }
   ],
   "source": [
    "list([1, 2])"
   ]
  },
  {
   "cell_type": "code",
   "execution_count": 20,
   "metadata": {},
   "outputs": [],
   "source": [
    "my_list = list(range(0, 50))"
   ]
  },
  {
   "cell_type": "code",
   "execution_count": 21,
   "metadata": {},
   "outputs": [
    {
     "data": {
      "text/plain": [
       "15"
      ]
     },
     "execution_count": 21,
     "metadata": {},
     "output_type": "execute_result"
    }
   ],
   "source": [
    "my_list[15]"
   ]
  },
  {
   "cell_type": "code",
   "execution_count": 22,
   "metadata": {},
   "outputs": [],
   "source": [
    "my_list = list(range(50, 150))"
   ]
  },
  {
   "cell_type": "code",
   "execution_count": 23,
   "metadata": {},
   "outputs": [
    {
     "data": {
      "text/plain": [
       "[60, 61, 62, 63, 64, 65, 66, 67, 68, 69]"
      ]
     },
     "execution_count": 23,
     "metadata": {},
     "output_type": "execute_result"
    }
   ],
   "source": [
    "# 1 параметр - задает старт, 2 параметр - задает конец\n",
    "my_list[10:20]"
   ]
  },
  {
   "cell_type": "code",
   "execution_count": 24,
   "metadata": {},
   "outputs": [
    {
     "data": {
      "text/plain": [
       "[50, 52, 54, 56, 58]"
      ]
     },
     "execution_count": 24,
     "metadata": {},
     "output_type": "execute_result"
    }
   ],
   "source": [
    "# 3 параметр - шаг\n",
    "my_list[0:10:2]"
   ]
  },
  {
   "cell_type": "code",
   "execution_count": 25,
   "metadata": {},
   "outputs": [
    {
     "data": {
      "text/plain": [
       "[50, 54, 58]"
      ]
     },
     "execution_count": 25,
     "metadata": {},
     "output_type": "execute_result"
    }
   ],
   "source": [
    "my_list[0:10:4]"
   ]
  },
  {
   "cell_type": "code",
   "execution_count": 26,
   "metadata": {},
   "outputs": [
    {
     "data": {
      "text/plain": [
       "58"
      ]
     },
     "execution_count": 26,
     "metadata": {},
     "output_type": "execute_result"
    }
   ],
   "source": [
    "my_list[8]"
   ]
  },
  {
   "cell_type": "code",
   "execution_count": 27,
   "metadata": {},
   "outputs": [
    {
     "data": {
      "text/plain": [
       "[]"
      ]
     },
     "execution_count": 27,
     "metadata": {},
     "output_type": "execute_result"
    }
   ],
   "source": [
    "my_list[0:10:-1]"
   ]
  },
  {
   "cell_type": "code",
   "execution_count": 28,
   "metadata": {},
   "outputs": [
    {
     "data": {
      "text/plain": [
       "[60, 59, 58, 57, 56, 55, 54, 53, 52, 51]"
      ]
     },
     "execution_count": 28,
     "metadata": {},
     "output_type": "execute_result"
    }
   ],
   "source": [
    "# старт с 10 индекса, конец - 0 индекс, идем с шагом -1 (с конца в начало)\n",
    "# [10, 0)\n",
    "my_list[10:0:-1]"
   ]
  },
  {
   "cell_type": "code",
   "execution_count": 29,
   "metadata": {},
   "outputs": [
    {
     "data": {
      "text/plain": [
       "[149,\n",
       " 148,\n",
       " 147,\n",
       " 146,\n",
       " 145,\n",
       " 144,\n",
       " 143,\n",
       " 142,\n",
       " 141,\n",
       " 140,\n",
       " 139,\n",
       " 138,\n",
       " 137,\n",
       " 136,\n",
       " 135,\n",
       " 134,\n",
       " 133,\n",
       " 132,\n",
       " 131,\n",
       " 130,\n",
       " 129,\n",
       " 128,\n",
       " 127,\n",
       " 126,\n",
       " 125,\n",
       " 124,\n",
       " 123,\n",
       " 122,\n",
       " 121,\n",
       " 120,\n",
       " 119,\n",
       " 118,\n",
       " 117,\n",
       " 116,\n",
       " 115,\n",
       " 114,\n",
       " 113,\n",
       " 112,\n",
       " 111,\n",
       " 110,\n",
       " 109,\n",
       " 108,\n",
       " 107,\n",
       " 106,\n",
       " 105,\n",
       " 104,\n",
       " 103,\n",
       " 102,\n",
       " 101,\n",
       " 100,\n",
       " 99,\n",
       " 98,\n",
       " 97,\n",
       " 96,\n",
       " 95,\n",
       " 94,\n",
       " 93,\n",
       " 92,\n",
       " 91,\n",
       " 90,\n",
       " 89,\n",
       " 88,\n",
       " 87,\n",
       " 86,\n",
       " 85,\n",
       " 84,\n",
       " 83,\n",
       " 82,\n",
       " 81,\n",
       " 80,\n",
       " 79,\n",
       " 78,\n",
       " 77,\n",
       " 76,\n",
       " 75,\n",
       " 74,\n",
       " 73,\n",
       " 72,\n",
       " 71,\n",
       " 70,\n",
       " 69,\n",
       " 68,\n",
       " 67,\n",
       " 66,\n",
       " 65,\n",
       " 64,\n",
       " 63,\n",
       " 62,\n",
       " 61,\n",
       " 60,\n",
       " 59,\n",
       " 58,\n",
       " 57,\n",
       " 56,\n",
       " 55,\n",
       " 54,\n",
       " 53,\n",
       " 52,\n",
       " 51,\n",
       " 50]"
      ]
     },
     "execution_count": 29,
     "metadata": {},
     "output_type": "execute_result"
    }
   ],
   "source": [
    "# получаем развернутый с конца в начало список\n",
    "my_list[::-1]"
   ]
  },
  {
   "cell_type": "markdown",
   "metadata": {},
   "source": [
    "### Методы работы со списками (list)\n",
    "встроенные методы "
   ]
  },
  {
   "cell_type": "code",
   "execution_count": 30,
   "metadata": {},
   "outputs": [
    {
     "data": {
      "text/plain": [
       "['Anatoly', 'Ivan', 'Fedor', 'Masha']"
      ]
     },
     "execution_count": 30,
     "metadata": {},
     "output_type": "execute_result"
    }
   ],
   "source": [
    "# Добавляет в конец нашего списка новый элемент\n",
    "python_students.append('Masha')\n",
    "python_students"
   ]
  },
  {
   "cell_type": "code",
   "execution_count": 31,
   "metadata": {},
   "outputs": [
    {
     "data": {
      "text/plain": [
       "['Anatoly', 'Ivan', 'Fedor', 'Masha', 'Igor', 'Daniil']"
      ]
     },
     "execution_count": 31,
     "metadata": {},
     "output_type": "execute_result"
    }
   ],
   "source": [
    "# позволяет объединять несколько списков в один. Добавляет в конец списка\n",
    "python_students.extend(['Igor', 'Daniil'])\n",
    "python_students"
   ]
  },
  {
   "cell_type": "code",
   "execution_count": 32,
   "metadata": {},
   "outputs": [
    {
     "data": {
      "text/plain": [
       "['Anatoly',\n",
       " 'Ivan',\n",
       " 'Fedor',\n",
       " 'Masha',\n",
       " 'Igor',\n",
       " 'Daniil',\n",
       " 'Beslan',\n",
       " 'Ivan',\n",
       " 'Oksana']"
      ]
     },
     "execution_count": 32,
     "metadata": {},
     "output_type": "execute_result"
    }
   ],
   "source": [
    "python_students.extend(sql_students)\n",
    "python_students"
   ]
  },
  {
   "cell_type": "code",
   "execution_count": 33,
   "metadata": {},
   "outputs": [],
   "source": [
    "# метод принимает 2 аргумента и вставляет значение в указанное место (в данном случае в начаало нашего списка)\n",
    "python_students.insert(0, 'Vera')"
   ]
  },
  {
   "cell_type": "code",
   "execution_count": 34,
   "metadata": {},
   "outputs": [],
   "source": [
    "# Можно вставлять списки\n",
    "python_students.insert(0, ['Vera', 'Ignat'])"
   ]
  },
  {
   "cell_type": "code",
   "execution_count": 35,
   "metadata": {},
   "outputs": [
    {
     "data": {
      "text/plain": [
       "['Vera', 'Ignat']"
      ]
     },
     "execution_count": 35,
     "metadata": {},
     "output_type": "execute_result"
    }
   ],
   "source": [
    "# Позволяет удалять элементы из списка\n",
    "# не только удаляет, но и выводит удаленный элемент на печать\n",
    "python_students.pop(0)"
   ]
  },
  {
   "cell_type": "code",
   "execution_count": 36,
   "metadata": {},
   "outputs": [],
   "source": [
    "# Позволяет удалять элемент по названию. Удаляет именно первое вхождение элемента (!) \n",
    "python_students.remove('Ivan')"
   ]
  },
  {
   "cell_type": "code",
   "execution_count": 37,
   "metadata": {},
   "outputs": [
    {
     "data": {
      "text/plain": [
       "['Vera',\n",
       " 'Anatoly',\n",
       " 'Fedor',\n",
       " 'Masha',\n",
       " 'Igor',\n",
       " 'Daniil',\n",
       " 'Beslan',\n",
       " 'Ivan',\n",
       " 'Oksana']"
      ]
     },
     "execution_count": 37,
     "metadata": {},
     "output_type": "execute_result"
    }
   ],
   "source": [
    "python_students"
   ]
  },
  {
   "cell_type": "markdown",
   "metadata": {},
   "source": [
    "### Работа с множествами (set)\n",
    "встроенные методы"
   ]
  },
  {
   "cell_type": "code",
   "execution_count": 38,
   "metadata": {},
   "outputs": [],
   "source": [
    "# 1-й формат записи\n",
    "my_set = {1, 1, 2, 3}"
   ]
  },
  {
   "cell_type": "code",
   "execution_count": 39,
   "metadata": {},
   "outputs": [
    {
     "data": {
      "text/plain": [
       "{1, 2, 3}"
      ]
     },
     "execution_count": 39,
     "metadata": {},
     "output_type": "execute_result"
    }
   ],
   "source": [
    "# Попало только 3 элемента, так как можно хранить только уникальные элементы (!)\n",
    "my_set"
   ]
  },
  {
   "cell_type": "code",
   "execution_count": 40,
   "metadata": {},
   "outputs": [],
   "source": [
    "# 2-й формат записи\n",
    "students_set = set(python_students)"
   ]
  },
  {
   "cell_type": "code",
   "execution_count": 41,
   "metadata": {},
   "outputs": [
    {
     "data": {
      "text/plain": [
       "{'Anatoly',\n",
       " 'Beslan',\n",
       " 'Daniil',\n",
       " 'Fedor',\n",
       " 'Igor',\n",
       " 'Ivan',\n",
       " 'Masha',\n",
       " 'Oksana',\n",
       " 'Vera'}"
      ]
     },
     "execution_count": 41,
     "metadata": {},
     "output_type": "execute_result"
    }
   ],
   "source": [
    "# Тоже хранятся только уникальные элементы (!)\n",
    "# Вывод со скобочками {} дополнительно дает понять что мы работаем с множеством\n",
    "students_set"
   ]
  },
  {
   "cell_type": "markdown",
   "metadata": {},
   "source": [
    "#### Множество - не упорядоченный тип данных. Нельзя обращаться по индексам (!)\n",
    "#### Обеспечивает уникальность (!)\n",
    "#### Множество - изменяемый тип данных, так же как и список"
   ]
  },
  {
   "cell_type": "code",
   "execution_count": 42,
   "metadata": {},
   "outputs": [
    {
     "data": {
      "text/plain": [
       "[1, 1, 2]"
      ]
     },
     "execution_count": 42,
     "metadata": {},
     "output_type": "execute_result"
    }
   ],
   "source": [
    "[1, 1, 2]"
   ]
  },
  {
   "cell_type": "code",
   "execution_count": 43,
   "metadata": {},
   "outputs": [
    {
     "data": {
      "text/plain": [
       "{1, 2}"
      ]
     },
     "execution_count": 43,
     "metadata": {},
     "output_type": "execute_result"
    }
   ],
   "source": [
    "{1, 1, 2}"
   ]
  },
  {
   "cell_type": "code",
   "execution_count": 44,
   "metadata": {},
   "outputs": [],
   "source": [
    "python_students_set = set(python_students)"
   ]
  },
  {
   "cell_type": "code",
   "execution_count": 45,
   "metadata": {},
   "outputs": [
    {
     "data": {
      "text/plain": [
       "{'Anatoly',\n",
       " 'Beslan',\n",
       " 'Daniil',\n",
       " 'Fedor',\n",
       " 'Igor',\n",
       " 'Ivan',\n",
       " 'Masha',\n",
       " 'Oksana',\n",
       " 'Vera'}"
      ]
     },
     "execution_count": 45,
     "metadata": {},
     "output_type": "execute_result"
    }
   ],
   "source": [
    "python_students_set"
   ]
  },
  {
   "cell_type": "code",
   "execution_count": 46,
   "metadata": {},
   "outputs": [],
   "source": [
    "sql_students_set = set(sql_students)"
   ]
  },
  {
   "cell_type": "code",
   "execution_count": 47,
   "metadata": {},
   "outputs": [
    {
     "data": {
      "text/plain": [
       "{'Beslan', 'Ivan', 'Oksana'}"
      ]
     },
     "execution_count": 47,
     "metadata": {},
     "output_type": "execute_result"
    }
   ],
   "source": [
    "sql_students_set"
   ]
  },
  {
   "cell_type": "code",
   "execution_count": 48,
   "metadata": {},
   "outputs": [
    {
     "data": {
      "text/plain": [
       "{'Anatoly', 'Daniil', 'Fedor', 'Igor', 'Masha', 'Vera'}"
      ]
     },
     "execution_count": 48,
     "metadata": {},
     "output_type": "execute_result"
    }
   ],
   "source": [
    "# С помощью данного метода получаем различия между 2-мя множествами\n",
    "python_students_set.difference(sql_students_set)"
   ]
  },
  {
   "cell_type": "code",
   "execution_count": 49,
   "metadata": {},
   "outputs": [
    {
     "data": {
      "text/plain": [
       "{'Beslan', 'Ivan', 'Oksana'}"
      ]
     },
     "execution_count": 49,
     "metadata": {},
     "output_type": "execute_result"
    }
   ],
   "source": [
    "# Данный метод решает обратную задачу, получаем элементы, которые есть в обоих множествах\n",
    "# в нашем случае одно множество полностью входит в другое\n",
    "python_students_set.intersection(sql_students_set)"
   ]
  },
  {
   "cell_type": "markdown",
   "metadata": {},
   "source": [
    "## Встроенные методы множества (set)"
   ]
  },
  {
   "cell_type": "code",
   "execution_count": 50,
   "metadata": {},
   "outputs": [
    {
     "name": "stdout",
     "output_type": "stream",
     "text": [
      "{'orange', 'banana', 'apple', 'cherry'}\n"
     ]
    }
   ],
   "source": [
    "# add() - добавляет новый элемент в множество\n",
    "fruits = {\"apple\", \"banana\", \"cherry\"}\n",
    "fruits.add(\"orange\")\n",
    "print(fruits)  # выведет {'banana', 'cherry', 'orange', 'apple'}\n"
   ]
  },
  {
   "cell_type": "code",
   "execution_count": 51,
   "metadata": {},
   "outputs": [
    {
     "name": "stdout",
     "output_type": "stream",
     "text": [
      "{1, 2, 3, 4, 5}\n"
     ]
    }
   ],
   "source": [
    "# union() — объединяет два множества\n",
    "a = {1, 2, 3}\n",
    "b = {3, 4, 5}\n",
    "\n",
    "c = a.union(b)\n",
    "print(c)  # {1, 2, 3, 4, 5}"
   ]
  },
  {
   "cell_type": "code",
   "execution_count": 52,
   "metadata": {},
   "outputs": [
    {
     "name": "stdout",
     "output_type": "stream",
     "text": [
      "set()\n"
     ]
    }
   ],
   "source": [
    "# clear() — удаляет все элементы из множества.\n",
    "fruits = {\"apple\", \"banana\", \"cherry\"}\n",
    "fruits.clear()\n",
    "print(fruits)  # выведет set()\n"
   ]
  },
  {
   "cell_type": "code",
   "execution_count": 53,
   "metadata": {},
   "outputs": [
    {
     "name": "stdout",
     "output_type": "stream",
     "text": [
      "{'banana', 'apple', 'cherry'}\n"
     ]
    }
   ],
   "source": [
    "# copy() — создает копию множества.\n",
    "fruits = {\"apple\", \"banana\", \"cherry\"}\n",
    "new_fruits = fruits.copy()\n",
    "print(new_fruits)  # выведет {'banana', 'cherry', 'apple'}\n"
   ]
  },
  {
   "cell_type": "code",
   "execution_count": 54,
   "metadata": {},
   "outputs": [
    {
     "name": "stdout",
     "output_type": "stream",
     "text": [
      "{1, 2, 3}\n"
     ]
    }
   ],
   "source": [
    "# difference() — возвращает разность между двумя множествами.\n",
    "set1 = {1, 2, 3, 4, 5}\n",
    "set2 = {4, 5, 6, 7, 8}\n",
    "diff_set1_set2 = set1.difference(set2)\n",
    "print(diff_set1_set2)  # выведет {1, 2, 3}"
   ]
  },
  {
   "cell_type": "code",
   "execution_count": 55,
   "metadata": {},
   "outputs": [
    {
     "name": "stdout",
     "output_type": "stream",
     "text": [
      "{'apple', 'cherry'}\n",
      "{'banana', 'apple', 'cherry'}\n"
     ]
    }
   ],
   "source": [
    "# discard(element) — удаляет элемент из множества, если он присутствует. Если элемент отсутствует, то никаких ошибок не возникает. Просто ничего не происходит.\n",
    "fruits = {\"apple\", \"banana\", \"cherry\"}\n",
    "fruits.discard(\"banana\")\n",
    "print(fruits)  # выведет {'cherry', 'apple'}\n",
    "\n",
    "fruits = {\"apple\", \"banana\", \"cherry\"}\n",
    "fruits.discard(\"aaaaaaaa\")\n",
    "print(fruits)  # выведет {'cherry', 'banana', 'apple'}"
   ]
  },
  {
   "cell_type": "code",
   "execution_count": 56,
   "metadata": {},
   "outputs": [
    {
     "name": "stdout",
     "output_type": "stream",
     "text": [
      "{1, 3}\n"
     ]
    }
   ],
   "source": [
    "# remove(element) - Этот метод удаляет элемент из множества, если он присутствует. Если элемент отсутствует, то вызывается ошибка KeyError. \n",
    "my_set = {1, 2, 3}\n",
    "my_set.remove(2)\n",
    "print(my_set)  # Output: {1, 3}\n",
    "#  # Вызовет ошибку KeyError, так как элемент 5 отсутствует"
   ]
  },
  {
   "cell_type": "code",
   "execution_count": 57,
   "metadata": {},
   "outputs": [
    {
     "name": "stdout",
     "output_type": "stream",
     "text": [
      "{4, 5}\n"
     ]
    }
   ],
   "source": [
    "# intersection() — возвращает пересечение двух множеств.\n",
    "set1 = {1, 2, 3, 4, 5}\n",
    "set2 = {4, 5, 6, 7, 8}\n",
    "intersection_set = set1.intersection(set2)\n",
    "print(intersection_set)  # выведет {4, 5}\n",
    "\n",
    "# более короткая запись метода intersection\n",
    "# students = set1 & set2\n",
    "\n",
    "# # а метод difference можно заменить на знак '-'\n",
    "# set1 - set2"
   ]
  },
  {
   "cell_type": "code",
   "execution_count": 58,
   "metadata": {},
   "outputs": [
    {
     "name": "stdout",
     "output_type": "stream",
     "text": [
      "True\n"
     ]
    }
   ],
   "source": [
    "# isdisjoint() — возвращает True, если два множества не имеют общих элементов.\n",
    "set1 = {1, 2, 3}\n",
    "set2 = {4, 5, 6}\n",
    "disjoint_sets = set1.isdisjoint(set2)\n",
    "print(disjoint_sets)  # выведет True"
   ]
  },
  {
   "cell_type": "code",
   "execution_count": 59,
   "metadata": {},
   "outputs": [
    {
     "name": "stdout",
     "output_type": "stream",
     "text": [
      "True\n"
     ]
    }
   ],
   "source": [
    "# issubset() — возвращает True, если одно множество является подмножеством друг\n",
    "set1 = {1, 2, 3, 4, 5}\n",
    "set2 = {1, 2, 3}\n",
    "\n",
    "result = set2.issubset(set1)\n",
    "print(result) # выведет True\n"
   ]
  },
  {
   "cell_type": "markdown",
   "metadata": {},
   "source": [
    "## Встроенные методы списка (list)"
   ]
  },
  {
   "cell_type": "code",
   "execution_count": 60,
   "metadata": {},
   "outputs": [
    {
     "name": "stdout",
     "output_type": "stream",
     "text": [
      "[1, 2, 3, 4]\n"
     ]
    }
   ],
   "source": [
    "# append() — добавляет новый элемент в список.\n",
    "my_list = [1, 2, 3]\n",
    "my_list.append(4)\n",
    "print(my_list) # [1, 2, 3, 4]"
   ]
  },
  {
   "cell_type": "code",
   "execution_count": 61,
   "metadata": {},
   "outputs": [
    {
     "name": "stdout",
     "output_type": "stream",
     "text": [
      "[]\n"
     ]
    }
   ],
   "source": [
    "#  clear() — удаляет все элементы списка:\n",
    "my_list = [1, 2, 3]\n",
    "my_list.clear()\n",
    "print(my_list) # []"
   ]
  },
  {
   "cell_type": "code",
   "execution_count": 62,
   "metadata": {},
   "outputs": [
    {
     "name": "stdout",
     "output_type": "stream",
     "text": [
      "[1, 2, 3]\n"
     ]
    }
   ],
   "source": [
    "# copy() — возвращает копию списка:\n",
    "my_list = [1, 2, 3]\n",
    "new_list = my_list.copy()\n",
    "print(new_list) # [1, 2, 3]"
   ]
  },
  {
   "cell_type": "code",
   "execution_count": 63,
   "metadata": {},
   "outputs": [
    {
     "name": "stdout",
     "output_type": "stream",
     "text": [
      "3\n"
     ]
    }
   ],
   "source": [
    "# count(item)  — возвращает количество элементов item в списке:\n",
    "my_list = [1, 2, 2, 3, 2]\n",
    "count = my_list.count(2)\n",
    "print(count) # 3"
   ]
  },
  {
   "cell_type": "code",
   "execution_count": 64,
   "metadata": {},
   "outputs": [
    {
     "name": "stdout",
     "output_type": "stream",
     "text": [
      "[1, 2, 3, 4, 5]\n"
     ]
    }
   ],
   "source": [
    "# extend(iterable) — добавляет элементы из другого списка в конец списка:\n",
    "my_list = [1, 2, 3]\n",
    "my_list.extend([4, 5])\n",
    "print(my_list) # [1, 2, 3, 4, 5]"
   ]
  },
  {
   "cell_type": "code",
   "execution_count": 65,
   "metadata": {},
   "outputs": [
    {
     "name": "stdout",
     "output_type": "stream",
     "text": [
      "2\n"
     ]
    }
   ],
   "source": [
    "# index(item, start, end)  — возвращает индекс первого элемента, равного item, в диапазоне от start до end:\n",
    "my_list = [1, 2, 2, 3, 2]\n",
    "index = my_list.index(2, 2, 5)\n",
    "print(index) # 2"
   ]
  },
  {
   "cell_type": "code",
   "execution_count": 66,
   "metadata": {},
   "outputs": [
    {
     "name": "stdout",
     "output_type": "stream",
     "text": [
      "[1, 4, 2, 3]\n"
     ]
    }
   ],
   "source": [
    "# insert(index, item)  — добавляет элемент item на позицию index в списке:\n",
    "my_list = [1, 2, 3]\n",
    "my_list.insert(1, 4)\n",
    "print(my_list) # [1, 4, 2, 3]"
   ]
  },
  {
   "cell_type": "code",
   "execution_count": 67,
   "metadata": {},
   "outputs": [
    {
     "name": "stdout",
     "output_type": "stream",
     "text": [
      "[1, 3]\n",
      "2\n"
     ]
    }
   ],
   "source": [
    "# pop(index) — удаляет и возвращает элемент на позиции index в списке:\n",
    "my_list = [1, 2, 3]\n",
    "removed_item = my_list.pop(1)\n",
    "print(my_list) # [1, 3]\n",
    "print(removed_item) # 2"
   ]
  },
  {
   "cell_type": "code",
   "execution_count": 68,
   "metadata": {},
   "outputs": [
    {
     "name": "stdout",
     "output_type": "stream",
     "text": [
      "[1, 3, 2]\n"
     ]
    }
   ],
   "source": [
    "# remove(item) — удаляет первый элемент, равный item, из списка:\n",
    "my_list = [1, 2, 3, 2]\n",
    "my_list.remove(2)\n",
    "print(my_list) # [1, 3, 2]"
   ]
  },
  {
   "cell_type": "code",
   "execution_count": 69,
   "metadata": {},
   "outputs": [
    {
     "name": "stdout",
     "output_type": "stream",
     "text": [
      "[3, 2, 1]\n"
     ]
    }
   ],
   "source": [
    "# reverse()  — переворачивает порядок следования элементов в списке:\n",
    "my_list = [1, 2, 3]\n",
    "my_list.reverse()\n",
    "print(my_list) # [3, 2, 1]"
   ]
  },
  {
   "cell_type": "code",
   "execution_count": 70,
   "metadata": {},
   "outputs": [
    {
     "name": "stdout",
     "output_type": "stream",
     "text": [
      "[1, 2, 3]\n",
      "[3, 2, 1]\n"
     ]
    }
   ],
   "source": [
    "# sort(key, reverse) — сортирует элементы в списке:\n",
    "my_list = [3, 1, 2]\n",
    "my_list.sort()\n",
    "print(my_list) # [1, 2, 3]\n",
    "my_list.sort(reverse=True)\n",
    "print(my_list) # [3, 2, 1]"
   ]
  },
  {
   "cell_type": "markdown",
   "metadata": {},
   "source": [
    "## Полезные функции"
   ]
  },
  {
   "cell_type": "code",
   "execution_count": 71,
   "metadata": {},
   "outputs": [
    {
     "name": "stdout",
     "output_type": "stream",
     "text": [
      "5\n",
      "2\n"
     ]
    }
   ],
   "source": [
    "# len — функция, которая возвращает количество элементов в последовательности:\n",
    "my_list = [1, 2, 3, 4, 5]\n",
    "print(len(my_list))  # выведет 5\n",
    "\n",
    "my_set = {1, 1, 2, 2}\n",
    "print(len(my_set))  # выведет 2"
   ]
  },
  {
   "cell_type": "code",
   "execution_count": 72,
   "metadata": {},
   "outputs": [
    {
     "name": "stdout",
     "output_type": "stream",
     "text": [
      "9\n",
      "9\n"
     ]
    }
   ],
   "source": [
    "# max — функция, которая возвращает максимальное значение из последовательности. Например:\n",
    "my_list = [5, 2, 8, 1, 9]\n",
    "print(max(my_list))  # выведет 9\n",
    "\n",
    "my_set = {5, 2, 8, 1, 9}\n",
    "print(max(my_set))  # тоже выведет 9"
   ]
  },
  {
   "cell_type": "code",
   "execution_count": 73,
   "metadata": {},
   "outputs": [
    {
     "name": "stdout",
     "output_type": "stream",
     "text": [
      "1\n",
      "1\n"
     ]
    }
   ],
   "source": [
    "# min — функция, которая возвращает минимальное значение из последовательности. Например:\n",
    "my_list = [5, 2, 8, 1, 9]\n",
    "print(min(my_list))  # выведет 1\n",
    "\n",
    "my_set = {5, 2, 8, 1, 9}\n",
    "print(min(my_set))  # тоже выведет 1"
   ]
  },
  {
   "cell_type": "code",
   "execution_count": 74,
   "metadata": {},
   "outputs": [
    {
     "name": "stdout",
     "output_type": "stream",
     "text": [
      "[1, 2, 5, 8, 9]\n",
      "[9, 8, 5, 2, 1]\n",
      "[1, 2]\n"
     ]
    }
   ],
   "source": [
    "# sorted — функция, которая сортирует последовательность. Она может принимать параметр reverse=True, чтобы отсортировать последовательность в обратном порядке (по убыванию). Например:\n",
    "my_list = [5, 2, 8, 1, 9]\n",
    "sorted_list = sorted(my_list)\n",
    "print(sorted_list)  # выведет [1, 2, 5, 8, 9]\n",
    "sorted_list_descending = sorted(my_list, reverse=True)\n",
    "print(sorted_list_descending)  # выведет [9, 8, 5, 2, 1]\n",
    "\n",
    "# А вот если отсортировать множество, то получится список!\n",
    "\n",
    "my_set = {1, 1, 2, 2}\n",
    "print(sorted(my_set)) # выведет [1, 2]"
   ]
  },
  {
   "cell_type": "markdown",
   "metadata": {},
   "source": [
    "#### Изменяемые и неизменяемые объекты\n",
    "Пришло время разобраться с довольно сложной для начинающих концепцией изменяемых и неизменяемых объектов в Python. Мы уже знаем, что можем изменять созданные списки, например, заменить или удалить один из элементов в списке. Однако эта особенность списка, его изменяемость, приводит к неожиданным на первый взгляд последствиям:"
   ]
  },
  {
   "cell_type": "code",
   "execution_count": 75,
   "metadata": {},
   "outputs": [
    {
     "name": "stdout",
     "output_type": "stream",
     "text": [
      "[100, 2, 3, 4]\n",
      "[100, 2, 3, 4]\n"
     ]
    }
   ],
   "source": [
    "# сохраним список в переменную my_list_1\n",
    "my_list_1 = [3, 1, 2]\n",
    "\n",
    "# в переменную my_list_2 сохраним список my_list_1\n",
    "my_list_2 = my_list_1\n",
    "\n",
    "# изменим список my_list_1\n",
    "my_list_1.append(4)\n",
    "my_list_1.sort()\n",
    "my_list_1[0] = 100\n",
    "\n",
    "# посмотрим на оба списка\n",
    "print(my_list_1) # => [100, 2, 3, 4]\n",
    "print(my_list_2) # => [100, 2, 3, 4]"
   ]
  },
  {
   "cell_type": "markdown",
   "metadata": {},
   "source": [
    "##### Удивительно, ведь мы отсортировали только первый список, но второй тоже изменился! Все дело в том, что списки, массивы и словари — это изменяемые объекты. Вместо того, чтобы создать еще одну коробочку в памяти с именем my_list_2 и положить в нее список из коробочки my_list_1, Python просто запомнил, что теперь на исходную коробочку ссылаются две переменные. Когда мы изменяем список my_list_1, изменяется и my_list_2. И наоборот, при изменении my_list_2, изменится и my_list_1."
   ]
  },
  {
   "cell_type": "markdown",
   "metadata": {},
   "source": [
    "##### Именно поэтому у списка есть метод copy(). Он позволяет создать копию первого списка в новой переменной. В таком случае изменения первого списка уже никак не повлияют на копию этого списка."
   ]
  },
  {
   "cell_type": "code",
   "execution_count": 76,
   "metadata": {},
   "outputs": [
    {
     "name": "stdout",
     "output_type": "stream",
     "text": [
      "[100, 2, 3, 4]\n",
      "[3, 1, 2]\n"
     ]
    }
   ],
   "source": [
    "# сохраним список в переменную my_list_1\n",
    "my_list_1 = [3, 1, 2]\n",
    "\n",
    "# в переменную my_list_2 сохраним список my_list_1 с методом copy()\n",
    "my_list_2 = my_list_1.copy()\n",
    "\n",
    "# изменим список my_list_1\n",
    "my_list_1.append(4)\n",
    "my_list_1.sort()\n",
    "my_list_1[0] = 100\n",
    "\n",
    "# посмотрим на оба списка\n",
    "print(my_list_1) # => [100, 2, 3, 4]\n",
    "print(my_list_2) # => [3, 2, 1]"
   ]
  },
  {
   "cell_type": "markdown",
   "metadata": {},
   "source": [
    "##### Поэтому при работу с объектами в питоне важно понимать, изменяем мы исходный объект или создаем новый. Внимательно читайте документацию функций и методов. Предположим, у нас есть список my_list, мы хотим завести новый список my_list_ordered с отсортированными элементами из списка my_list."
   ]
  },
  {
   "cell_type": "code",
   "execution_count": 77,
   "metadata": {},
   "outputs": [
    {
     "name": "stdout",
     "output_type": "stream",
     "text": [
      "[-2, 1, 2, 3]\n",
      "[1, 2, 3, -2]\n",
      "None\n",
      "[-2, 1, 2, 3]\n"
     ]
    }
   ],
   "source": [
    "my_list = [1, 2, 3, -2]\n",
    "\n",
    "# так правильно\n",
    "my_list_ordered = sorted(my_list) # функция sorted возвращает новый список, не изменяет список my_list\n",
    "print(my_list_ordered) # получим [-2, 1, 2, 3]\n",
    "print(my_list) # получим [1, 2, 3, -2]\n",
    "\n",
    "# так неправильно\n",
    "my_list_ordered = my_list.sort() # метод sort ничего не возвращает, а только изменяет список my_list\n",
    "print(my_list_ordered) # получим None\n",
    "print(my_list) # получим [-2, 1, 2, 3]"
   ]
  },
  {
   "cell_type": "markdown",
   "metadata": {},
   "source": [
    "##### А вот уже знакомые нам числа int и float, строки и логические значения — это неизменяемые объекты. То есть после создания объекта нельзя изменить его значение, только создать новый объект с измененным значением. Мы еще вернемся к этой теме в более подробном уроке про строки."
   ]
  },
  {
   "cell_type": "markdown",
   "metadata": {},
   "source": [
    "##### Несмотря на некоторые подводные камни, возможность изменять списки и множества делает их весьма удобными структурами для работы. В процессе выполнения программы мы можем добавлять, изменять или удалять элементы.\n",
    "\n",
    "##### Иногда могут возникнуть ситуации, когда мы хотим хранить набор элементов без возможности изменять его. Поэтому у списков существует их неизменяемый аналог — кортежи (tuple). Кортежи создаются с помощью круглых скобок (), а элементы разделены запятыми. Кортежи нельзя изменять после их создания, т.е. нельзя добавлять, удалять или изменять элементы в кортеже. Поэтому кортежи лучше использовать, когда надо хранить значения, которые не будут меняться. Например, названия месяцев:"
   ]
  },
  {
   "cell_type": "code",
   "execution_count": 78,
   "metadata": {},
   "outputs": [],
   "source": [
    "# создадим кортеж\n",
    "months = ('January', 'February', 'March', 'April', 'May',\n",
    "          'June', 'July', 'August', 'September', 'October', 'November', 'December')\n",
    "\n",
    "# попытаемся добавить тринадцатый месяц\n",
    "# months[12] = 'Undecimber'\n",
    "\n",
    "# или изменить второй месяц\n",
    "# months[1] = 'Февраль'"
   ]
  },
  {
   "cell_type": "markdown",
   "metadata": {},
   "source": [
    "##### При выполнении кода получим ошибку TypeError: 'tuple' object does not support item assignment. Ошибка говорит о том, что кортеж не поддерживает изменение или добавление элементов, поэтому попытка присваивания нового значения элементу вызывает ошибку TypeError.\n",
    "\n",
    "##### Кортежи в основном используются в тех местах, где нужна эффективность и производительность. Кортежи занимают меньше места, чем списки, и обрабатываются быстрее. При этом кортежи, так же как и списки, поддерживают индексацию. Например, если мы хотим получить название первого месяца, можем использовать уже привычную запись:"
   ]
  },
  {
   "cell_type": "code",
   "execution_count": 79,
   "metadata": {},
   "outputs": [
    {
     "name": "stdout",
     "output_type": "stream",
     "text": [
      "January\n"
     ]
    }
   ],
   "source": [
    "month_index = 0\n",
    "month_name = months[month_index] \n",
    "print(month_name) # => 'January'"
   ]
  },
  {
   "cell_type": "markdown",
   "metadata": {},
   "source": [
    "У множества тоже есть неизменяемый аналог. Frozenset — это неизменяемый набор объектов, он имеет ту же функциональность, что и set, но его элементы не могут быть изменены после создания."
   ]
  },
  {
   "cell_type": "code",
   "execution_count": 80,
   "metadata": {},
   "outputs": [],
   "source": [
    "my_frozenset = frozenset([1, 2, 3])"
   ]
  },
  {
   "cell_type": "markdown",
   "metadata": {},
   "source": [
    "На старте вы не так часто будете сталкиваться с frozenset, но чем глубже вы будете погружаться в разработку, тем выше вероятность, что вы встретитесь с frozenset при работе с множествами.\n",
    "\n",
    "Сейчас нам просто полезно знать, что существует неизменяемый аналог множеств, в дальнейшем мы еще вернемся к frozenset и продемонстрируем несколько примеров его использования. "
   ]
  },
  {
   "cell_type": "markdown",
   "metadata": {},
   "source": [
    "### Lesson 4\n",
    "##### Словари (dict)"
   ]
  },
  {
   "cell_type": "markdown",
   "metadata": {},
   "source": [
    "Создание словарей\n",
    "В Python есть несколько способов создания словарей. Вот некоторые из них:\n",
    "\n",
    "1. Литералы словаря\n",
    "\n",
    "Литералы словаря представляют собой список ключей и значений, заключенных в фигурные скобки. Ключ и значение разделяются двоеточием, а пары ключ-значение разделяются запятой. Например:"
   ]
  },
  {
   "cell_type": "code",
   "execution_count": 81,
   "metadata": {},
   "outputs": [],
   "source": [
    "my_dict = {'имя': 'Алиса', 'возраст': 25, 'город': 'Москва'}"
   ]
  },
  {
   "cell_type": "markdown",
   "metadata": {},
   "source": [
    "2. Функция dict()\n",
    "\n",
    "Функцию dict() можно использовать для создания словарей из других последовательностей или для создания пустого словаря. Например:"
   ]
  },
  {
   "cell_type": "code",
   "execution_count": 82,
   "metadata": {},
   "outputs": [
    {
     "name": "stdout",
     "output_type": "stream",
     "text": [
      "{}\n",
      "{'яблоко': 5, 'банан': 3, 'апельсин': 2}\n"
     ]
    }
   ],
   "source": [
    "empty_dict = dict()\n",
    "print(empty_dict)  # {}\n",
    "fruit_dict = dict([('яблоко', 5), ('банан', 3), ('апельсин', 2)])\n",
    "print(fruit_dict)  # {'яблоко': 5, 'банан': 3, 'апельсин': 2}"
   ]
  },
  {
   "cell_type": "markdown",
   "metadata": {},
   "source": [
    "3. Использование метода fromkeys()\n",
    "\n",
    "Метод fromkeys() позволяет создать словарь с указанными ключами и одним и тем же значением для всех ключей. Например:"
   ]
  },
  {
   "cell_type": "code",
   "execution_count": 83,
   "metadata": {},
   "outputs": [
    {
     "name": "stdout",
     "output_type": "stream",
     "text": [
      "{'a': 0, 'b': 0, 'c': 0}\n"
     ]
    }
   ],
   "source": [
    "keys = ['a', 'b', 'c']\n",
    "values = 0\n",
    "my_dict = dict.fromkeys(keys, values)\n",
    "print(my_dict)  # {'a': 0, 'b': 0, 'c': 0}"
   ]
  },
  {
   "cell_type": "markdown",
   "metadata": {},
   "source": [
    "Это только некоторые из способов создания словарей в Python. Каждый из них имеет свои особенности и может использоваться в зависимости от конкретной задачи."
   ]
  },
  {
   "cell_type": "markdown",
   "metadata": {},
   "source": [
    "#### Методы словарей"
   ]
  },
  {
   "cell_type": "markdown",
   "metadata": {},
   "source": [
    "1. get() — позволяет получить значение по ключу, но в отличие от обращения через [], не возбуждает исключение KeyError, если ключ отсутствует в словаре. Пример:"
   ]
  },
  {
   "cell_type": "code",
   "execution_count": 84,
   "metadata": {},
   "outputs": [
    {
     "name": "stdout",
     "output_type": "stream",
     "text": [
      "2\n",
      "Key not found\n"
     ]
    }
   ],
   "source": [
    "my_dict = {\"one\": 1, \"two\": 2, \"three\": 3}\n",
    "print(my_dict.get(\"two\")) # Вывод: 2\n",
    "print(my_dict.get(\"four\", \"Key not found\")) # Вывод: Key not found"
   ]
  },
  {
   "cell_type": "markdown",
   "metadata": {},
   "source": [
    "keys() — возвращает представление в виде списка всех ключей словаря. Пример:"
   ]
  },
  {
   "cell_type": "code",
   "execution_count": 85,
   "metadata": {},
   "outputs": [
    {
     "name": "stdout",
     "output_type": "stream",
     "text": [
      "dict_keys(['one', 'two', 'three'])\n"
     ]
    }
   ],
   "source": [
    "my_dict = {\"one\": 1, \"two\": 2, \"three\": 3}\n",
    "print(my_dict.keys()) # Вывод: ['one', 'two', 'three']"
   ]
  },
  {
   "cell_type": "markdown",
   "metadata": {},
   "source": [
    "values() — возвращает представление в виде списка всех значений словаря. Пример:"
   ]
  },
  {
   "cell_type": "code",
   "execution_count": 86,
   "metadata": {},
   "outputs": [
    {
     "name": "stdout",
     "output_type": "stream",
     "text": [
      "dict_values([1, 2, 3])\n"
     ]
    }
   ],
   "source": [
    "my_dict = {\"one\": 1, \"two\": 2, \"three\": 3}\n",
    "print(my_dict.values()) # Вывод: [1, 2, 3]"
   ]
  },
  {
   "cell_type": "markdown",
   "metadata": {},
   "source": [
    "4. items() — возвращает представление в виде списка кортежей (ключ, значение) всех элементов словаря. Пример:"
   ]
  },
  {
   "cell_type": "code",
   "execution_count": 87,
   "metadata": {},
   "outputs": [
    {
     "name": "stdout",
     "output_type": "stream",
     "text": [
      "dict_items([('one', 1), ('two', 2), ('three', 3)])\n"
     ]
    }
   ],
   "source": [
    "my_dict = {\"one\": 1, \"two\": 2, \"three\": 3}\n",
    "print(my_dict.items()) # Вывод: [('one', 1), ('two', 2), ('three', 3)]"
   ]
  },
  {
   "cell_type": "markdown",
   "metadata": {},
   "source": [
    "5. pop() — удаляет элемент по ключу и возвращает его значение. Если ключ отсутствует, возбуждает исключение KeyError или возвращает второй аргумент, если он передан. Пример:"
   ]
  },
  {
   "cell_type": "code",
   "execution_count": 88,
   "metadata": {},
   "outputs": [
    {
     "name": "stdout",
     "output_type": "stream",
     "text": [
      "2\n",
      "Key not found\n"
     ]
    }
   ],
   "source": [
    "my_dict = {\"one\": 1, \"two\": 2, \"three\": 3}\n",
    "print(my_dict.pop(\"two\")) # Вывод: 2\n",
    "print(my_dict.pop(\"four\", \"Key not found\")) # Вывод: Key not found"
   ]
  },
  {
   "cell_type": "markdown",
   "metadata": {},
   "source": [
    "6. clear() — удаляет все элементы словаря. Пример:"
   ]
  },
  {
   "cell_type": "code",
   "execution_count": 89,
   "metadata": {},
   "outputs": [
    {
     "name": "stdout",
     "output_type": "stream",
     "text": [
      "{}\n"
     ]
    }
   ],
   "source": [
    "my_dict = {\"one\": 1, \"two\": 2, \"three\": 3}\n",
    "my_dict.clear()\n",
    "print(my_dict) # Вывод: {}"
   ]
  },
  {
   "cell_type": "markdown",
   "metadata": {},
   "source": [
    "7. update() — объединяет словарь с другими словарями или ключ-значение парами. Если ключ уже существует, то его значение будет обновлено. Пример:"
   ]
  },
  {
   "cell_type": "code",
   "execution_count": 90,
   "metadata": {},
   "outputs": [
    {
     "name": "stdout",
     "output_type": "stream",
     "text": [
      "{'one': 1, 'two': 22, 'three': 3, 'four': 4}\n"
     ]
    }
   ],
   "source": [
    "my_dict = {\"one\": 1, \"two\": 2, \"three\": 3}\n",
    "new_dict = {\"two\": 22, \"four\": 4}\n",
    "my_dict.update(new_dict)\n",
    "print(my_dict) # Вывод: {'one': 1, 'two': 22, 'three': 3, 'four': 4}"
   ]
  },
  {
   "cell_type": "markdown",
   "metadata": {},
   "source": [
    "8. copy() — создает копию словаря. Пример:"
   ]
  },
  {
   "cell_type": "code",
   "execution_count": 91,
   "metadata": {},
   "outputs": [
    {
     "name": "stdout",
     "output_type": "stream",
     "text": [
      "{'one': 1, 'two': 2, 'three': 3}\n"
     ]
    }
   ],
   "source": [
    "my_dict = {\"one\": 1, \"two\": 2, \"three\": 3}\n",
    "new_dict = my_dict.copy()\n",
    "print(new_dict) # Вывод: {'one': 1, 'two': 2, 'three': 3}"
   ]
  },
  {
   "cell_type": "markdown",
   "metadata": {},
   "source": [
    "9. setdefault() — возвращает значение по ключу. Если ключ отсутствует, то он будет вставлен в словарь с указанным значением (или None, если значение не указано). Пример:"
   ]
  },
  {
   "cell_type": "code",
   "execution_count": 92,
   "metadata": {},
   "outputs": [
    {
     "name": "stdout",
     "output_type": "stream",
     "text": [
      "2\n",
      "None\n",
      "{'one': 1, 'two': 2, 'three': 3, 'four': None}\n"
     ]
    }
   ],
   "source": [
    "my_dict = {\"one\": 1, \"two\": 2, \"three\": 3}\n",
    "print(my_dict.setdefault(\"two\", 22)) # Вывод: 2\n",
    "print(my_dict.setdefault(\"four\")) # Вывод: None\n",
    "print(my_dict) # Вывод: {'one': 1, 'two': 2, 'three': 3, 'four': None}"
   ]
  },
  {
   "cell_type": "code",
   "execution_count": 93,
   "metadata": {},
   "outputs": [],
   "source": [
    "course_info = {'course_name': 'python_intro',\n",
    "               'teacher': 'Anatoly Karpov',\n",
    "               'n_lessons': 10,\n",
    "               'n_students': 10399,\n",
    "               'school_name': 'KarpovCourses'                              \n",
    "              }"
   ]
  },
  {
   "cell_type": "code",
   "execution_count": 94,
   "metadata": {},
   "outputs": [
    {
     "data": {
      "text/plain": [
       "{'course_name': 'python_intro',\n",
       " 'teacher': 'Anatoly Karpov',\n",
       " 'n_lessons': 10,\n",
       " 'n_students': 10399,\n",
       " 'school_name': 'KarpovCourses'}"
      ]
     },
     "execution_count": 94,
     "metadata": {},
     "output_type": "execute_result"
    }
   ],
   "source": [
    "course_info"
   ]
  },
  {
   "cell_type": "code",
   "execution_count": 95,
   "metadata": {},
   "outputs": [
    {
     "data": {
      "text/plain": [
       "dict_keys(['course_name', 'teacher', 'n_lessons', 'n_students', 'school_name'])"
      ]
     },
     "execution_count": 95,
     "metadata": {},
     "output_type": "execute_result"
    }
   ],
   "source": [
    "# Так мы вызывая метод keys обращаемся ко всем ключам словаря\n",
    "course_info.keys()"
   ]
  },
  {
   "cell_type": "code",
   "execution_count": 96,
   "metadata": {},
   "outputs": [
    {
     "data": {
      "text/plain": [
       "10"
      ]
     },
     "execution_count": 96,
     "metadata": {},
     "output_type": "execute_result"
    }
   ],
   "source": [
    "course_info['n_lessons']"
   ]
  },
  {
   "cell_type": "code",
   "execution_count": 97,
   "metadata": {},
   "outputs": [],
   "source": [
    "# Такой конструкцией мы берем нужный нам ключ и перезаписываем его значение\n",
    "# course_info['course_name'] = 'python'"
   ]
  },
  {
   "cell_type": "code",
   "execution_count": 98,
   "metadata": {},
   "outputs": [],
   "source": [
    "# Такой конструкцией мы добавляем новую пару ключ-значение в конец нашего словаря\n",
    "course_info['start_date'] = '2023-06-26'"
   ]
  },
  {
   "cell_type": "code",
   "execution_count": 99,
   "metadata": {},
   "outputs": [
    {
     "data": {
      "text/plain": [
       "{'course_name': 'python_intro',\n",
       " 'teacher': 'Anatoly Karpov',\n",
       " 'n_lessons': 10,\n",
       " 'n_students': 10399,\n",
       " 'school_name': 'KarpovCourses',\n",
       " 'start_date': '2023-06-26'}"
      ]
     },
     "execution_count": 99,
     "metadata": {},
     "output_type": "execute_result"
    }
   ],
   "source": [
    "course_info"
   ]
  },
  {
   "cell_type": "code",
   "execution_count": 100,
   "metadata": {},
   "outputs": [],
   "source": [
    "# переводим ключи в список, что позволит нам работать далее с ними методами списка\n",
    "my_keys = list(course_info.keys())"
   ]
  },
  {
   "cell_type": "code",
   "execution_count": 101,
   "metadata": {},
   "outputs": [
    {
     "data": {
      "text/plain": [
       "['course_name',\n",
       " 'teacher',\n",
       " 'n_lessons',\n",
       " 'n_students',\n",
       " 'school_name',\n",
       " 'start_date']"
      ]
     },
     "execution_count": 101,
     "metadata": {},
     "output_type": "execute_result"
    }
   ],
   "source": [
    "my_keys"
   ]
  },
  {
   "cell_type": "code",
   "execution_count": 102,
   "metadata": {},
   "outputs": [
    {
     "data": {
      "text/plain": [
       "dict_values(['python_intro', 'Anatoly Karpov', 10, 10399, 'KarpovCourses', '2023-06-26'])"
      ]
     },
     "execution_count": 102,
     "metadata": {},
     "output_type": "execute_result"
    }
   ],
   "source": [
    "#  Так мы вызывая метод values обращаемся ко всем значениям словаря\n",
    "course_info.values()"
   ]
  },
  {
   "cell_type": "code",
   "execution_count": 103,
   "metadata": {},
   "outputs": [],
   "source": [
    "my_values = list(course_info.values())"
   ]
  },
  {
   "cell_type": "code",
   "execution_count": 104,
   "metadata": {},
   "outputs": [
    {
     "data": {
      "text/plain": [
       "['python_intro', 'Anatoly Karpov', 10, 10399, 'KarpovCourses', '2023-06-26']"
      ]
     },
     "execution_count": 104,
     "metadata": {},
     "output_type": "execute_result"
    }
   ],
   "source": [
    "my_values"
   ]
  },
  {
   "cell_type": "code",
   "execution_count": 105,
   "metadata": {},
   "outputs": [
    {
     "data": {
      "text/plain": [
       "dict_items([('course_name', 'python_intro'), ('teacher', 'Anatoly Karpov'), ('n_lessons', 10), ('n_students', 10399), ('school_name', 'KarpovCourses'), ('start_date', '2023-06-26')])"
      ]
     },
     "execution_count": 105,
     "metadata": {},
     "output_type": "execute_result"
    }
   ],
   "source": [
    "# Данным методом мы обращаемся к всем парам в нашем словаре\n",
    "course_info.items()"
   ]
  },
  {
   "cell_type": "code",
   "execution_count": 106,
   "metadata": {},
   "outputs": [
    {
     "data": {
      "text/plain": [
       "[('course_name', 'python_intro'),\n",
       " ('teacher', 'Anatoly Karpov'),\n",
       " ('n_lessons', 10),\n",
       " ('n_students', 10399),\n",
       " ('school_name', 'KarpovCourses'),\n",
       " ('start_date', '2023-06-26')]"
      ]
     },
     "execution_count": 106,
     "metadata": {},
     "output_type": "execute_result"
    }
   ],
   "source": [
    "# Обернув данную конструкцию в список, мы получим такую интересную форму записи, где в списке будут пары ключ-значение\n",
    "list(course_info.items())"
   ]
  },
  {
   "cell_type": "code",
   "execution_count": 107,
   "metadata": {},
   "outputs": [
    {
     "data": {
      "text/plain": [
       "('course_name', 'python_intro')"
      ]
     },
     "execution_count": 107,
     "metadata": {},
     "output_type": "execute_result"
    }
   ],
   "source": [
    "# Здесь мы уже можем использовать индексацию и получать требуему пару\n",
    "list(course_info.items())[0]"
   ]
  },
  {
   "cell_type": "code",
   "execution_count": 108,
   "metadata": {},
   "outputs": [
    {
     "data": {
      "text/plain": [
       "'python_intro'"
      ]
     },
     "execution_count": 108,
     "metadata": {},
     "output_type": "execute_result"
    }
   ],
   "source": [
    "course_info['course_name']"
   ]
  },
  {
   "cell_type": "code",
   "execution_count": 109,
   "metadata": {},
   "outputs": [
    {
     "data": {
      "text/plain": [
       "'python_intro'"
      ]
     },
     "execution_count": 109,
     "metadata": {},
     "output_type": "execute_result"
    }
   ],
   "source": [
    "# Если запрашиваемое значение есть, то нам оно возвращается\n",
    "course_info.get('course_name')"
   ]
  },
  {
   "cell_type": "code",
   "execution_count": 110,
   "metadata": {},
   "outputs": [],
   "source": [
    "# Если запрашиваемого значения нет, то ничего не происходит\n",
    "course_info.get('name')"
   ]
  },
  {
   "cell_type": "code",
   "execution_count": 111,
   "metadata": {},
   "outputs": [],
   "source": [
    "course_info = {'course_names': ['python_intro', 'Введение в Питон'],\n",
    "               'teacher': 'Anatoly Karpov',\n",
    "               'n_lessons': 10,\n",
    "               'n_students': 10399,\n",
    "               'school_name': 'KarpovCourses'                              \n",
    "              }"
   ]
  },
  {
   "cell_type": "code",
   "execution_count": 112,
   "metadata": {},
   "outputs": [
    {
     "data": {
      "text/plain": [
       "{'course_names': ['python_intro', 'Введение в Питон'],\n",
       " 'teacher': 'Anatoly Karpov',\n",
       " 'n_lessons': 10,\n",
       " 'n_students': 10399,\n",
       " 'school_name': 'KarpovCourses'}"
      ]
     },
     "execution_count": 112,
     "metadata": {},
     "output_type": "execute_result"
    }
   ],
   "source": [
    "course_info"
   ]
  },
  {
   "cell_type": "code",
   "execution_count": 113,
   "metadata": {},
   "outputs": [
    {
     "data": {
      "text/plain": [
       "['python_intro', 'Введение в Питон']"
      ]
     },
     "execution_count": 113,
     "metadata": {},
     "output_type": "execute_result"
    }
   ],
   "source": [
    "course_info['course_names']"
   ]
  },
  {
   "cell_type": "code",
   "execution_count": 114,
   "metadata": {},
   "outputs": [
    {
     "data": {
      "text/plain": [
       "'python_intro'"
      ]
     },
     "execution_count": 114,
     "metadata": {},
     "output_type": "execute_result"
    }
   ],
   "source": [
    "course_info['course_names'][0]"
   ]
  },
  {
   "cell_type": "code",
   "execution_count": 115,
   "metadata": {},
   "outputs": [],
   "source": [
    "course_info = {'course_names': {'eng': 'python_intro', 'ru': 'Введение в Питон'},\n",
    "               'teacher': 'Anatoly Karpov',\n",
    "               'n_lessons': 10,\n",
    "               'n_students': 10399,\n",
    "               'school_name': 'KarpovCourses'                              \n",
    "              }"
   ]
  },
  {
   "cell_type": "code",
   "execution_count": 116,
   "metadata": {},
   "outputs": [
    {
     "data": {
      "text/plain": [
       "{'course_names': {'eng': 'python_intro', 'ru': 'Введение в Питон'},\n",
       " 'teacher': 'Anatoly Karpov',\n",
       " 'n_lessons': 10,\n",
       " 'n_students': 10399,\n",
       " 'school_name': 'KarpovCourses'}"
      ]
     },
     "execution_count": 116,
     "metadata": {},
     "output_type": "execute_result"
    }
   ],
   "source": [
    "course_info"
   ]
  },
  {
   "cell_type": "code",
   "execution_count": 117,
   "metadata": {},
   "outputs": [
    {
     "data": {
      "text/plain": [
       "{'eng': 'python_intro', 'ru': 'Введение в Питон'}"
      ]
     },
     "execution_count": 117,
     "metadata": {},
     "output_type": "execute_result"
    }
   ],
   "source": [
    "course_info['course_names']"
   ]
  },
  {
   "cell_type": "code",
   "execution_count": 118,
   "metadata": {},
   "outputs": [
    {
     "data": {
      "text/plain": [
       "'Введение в Питон'"
      ]
     },
     "execution_count": 118,
     "metadata": {},
     "output_type": "execute_result"
    }
   ],
   "source": [
    "course_info['course_names']['ru']"
   ]
  },
  {
   "cell_type": "code",
   "execution_count": 119,
   "metadata": {},
   "outputs": [],
   "source": [
    "lang_course_name = 'ru'"
   ]
  },
  {
   "cell_type": "code",
   "execution_count": 120,
   "metadata": {},
   "outputs": [
    {
     "data": {
      "text/plain": [
       "'ru'"
      ]
     },
     "execution_count": 120,
     "metadata": {},
     "output_type": "execute_result"
    }
   ],
   "source": [
    "lang_course_name"
   ]
  },
  {
   "cell_type": "code",
   "execution_count": 121,
   "metadata": {},
   "outputs": [
    {
     "data": {
      "text/plain": [
       "'Введение в Питон'"
      ]
     },
     "execution_count": 121,
     "metadata": {},
     "output_type": "execute_result"
    }
   ],
   "source": [
    "course_info['course_names'][lang_course_name]"
   ]
  },
  {
   "cell_type": "markdown",
   "metadata": {},
   "source": [
    "### Lesson 5\n",
    "#### Работа со строками"
   ]
  },
  {
   "cell_type": "markdown",
   "metadata": {},
   "source": [
    "##### Методы строк"
   ]
  },
  {
   "cell_type": "markdown",
   "metadata": {},
   "source": [
    "Как и у списков, множеств и словарей, у строк также имеются различные методы, которые помогают нам работать с ними. Не имеет смысла заучивать наизусть все методы. Но если вы столкнулись с задачей, в которой необходимо поработать со строками, сначала обязательно проверьте, возможно, уже есть метод, который вам поможет:"
   ]
  },
  {
   "cell_type": "markdown",
   "metadata": {},
   "source": [
    "1. capitalize() — делает первую букву строки заглавной, а все остальные — строчными:"
   ]
  },
  {
   "cell_type": "code",
   "execution_count": 122,
   "metadata": {},
   "outputs": [
    {
     "name": "stdout",
     "output_type": "stream",
     "text": [
      "Hello, world!\n"
     ]
    }
   ],
   "source": [
    "string = \"hello, world!\"\n",
    "capitalized_string = string.capitalize()\n",
    "print(capitalized_string) # \"Hello, world!\""
   ]
  },
  {
   "cell_type": "markdown",
   "metadata": {},
   "source": [
    "2. count(substring[, start[, end]]) — возвращает количество вхождений подстроки в строку. Необязательные параметры start и end задают диапазон поиска:"
   ]
  },
  {
   "cell_type": "code",
   "execution_count": 123,
   "metadata": {},
   "outputs": [
    {
     "name": "stdout",
     "output_type": "stream",
     "text": [
      "4\n"
     ]
    }
   ],
   "source": [
    "string = \"brown fox jumps over a lazy dog\"\n",
    "count = string.count(\"o\")\n",
    "print(count) # 4"
   ]
  },
  {
   "cell_type": "markdown",
   "metadata": {},
   "source": [
    "3. replace(old, new[, count]) — заменяет все вхождения одной подстроки на другую. Необязательный параметр count задает максимальное количество замен:"
   ]
  },
  {
   "cell_type": "code",
   "execution_count": 124,
   "metadata": {},
   "outputs": [
    {
     "name": "stdout",
     "output_type": "stream",
     "text": [
      "hello, there!\n"
     ]
    }
   ],
   "source": [
    "string = \"hello, world!\"\n",
    "new_string = string.replace(\"world\", \"there\")\n",
    "print(new_string) # \"hello, there!\""
   ]
  },
  {
   "cell_type": "markdown",
   "metadata": {},
   "source": [
    "4. split([separator[, maxsplit]]) — разбивает строку на список подстрок, разделенных разделителем separator. Необязательный параметр maxsplit задает максимальное количество разбиений:"
   ]
  },
  {
   "cell_type": "code",
   "execution_count": 125,
   "metadata": {},
   "outputs": [
    {
     "name": "stdout",
     "output_type": "stream",
     "text": [
      "['a', 'b', 'c', 'd']\n"
     ]
    }
   ],
   "source": [
    "string = \"a, b, c, d\"\n",
    "list_of_strings = string.split(\", \")\n",
    "print(list_of_strings) # [\"a\", \"b\", \"c\", \"d\"]"
   ]
  },
  {
   "cell_type": "markdown",
   "metadata": {},
   "source": [
    "5. strip([chars]) — удаляет из начала и конца строки указанные символы. Если символы не указаны, удаляются все пробельные символы:"
   ]
  },
  {
   "cell_type": "code",
   "execution_count": 126,
   "metadata": {},
   "outputs": [
    {
     "name": "stdout",
     "output_type": "stream",
     "text": [
      "hello, world!\n"
     ]
    }
   ],
   "source": [
    "string = \"   hello, world!   \"\n",
    "new_string = string.strip()\n",
    "print(new_string) # \"hello, world!\""
   ]
  },
  {
   "cell_type": "markdown",
   "metadata": {},
   "source": [
    "6. join(iterable) — объединяет список строк в одну строку, разделяя их указанным разделителем:"
   ]
  },
  {
   "cell_type": "code",
   "execution_count": 127,
   "metadata": {},
   "outputs": [
    {
     "name": "stdout",
     "output_type": "stream",
     "text": [
      "a, b, c, d\n"
     ]
    }
   ],
   "source": [
    "list_of_strings = [\"a\", \"b\", \"c\", \"d\"]\n",
    "string = \", \".join(list_of_strings)\n",
    "print(string) # \"a, b, c, d\""
   ]
  },
  {
   "cell_type": "code",
   "execution_count": 128,
   "metadata": {},
   "outputs": [],
   "source": [
    "name = 'Ignat Potapov'"
   ]
  },
  {
   "cell_type": "code",
   "execution_count": 129,
   "metadata": {},
   "outputs": [
    {
     "data": {
      "text/plain": [
       "'Ignat Potapov likes Python'"
      ]
     },
     "execution_count": 129,
     "metadata": {},
     "output_type": "execute_result"
    }
   ],
   "source": [
    "name + ' ' + 'likes Python'"
   ]
  },
  {
   "cell_type": "code",
   "execution_count": 130,
   "metadata": {},
   "outputs": [
    {
     "data": {
      "text/plain": [
       "'I'"
      ]
     },
     "execution_count": 130,
     "metadata": {},
     "output_type": "execute_result"
    }
   ],
   "source": [
    "name[0]"
   ]
  },
  {
   "cell_type": "code",
   "execution_count": 131,
   "metadata": {},
   "outputs": [
    {
     "data": {
      "text/plain": [
       "'vopatoP tangI'"
      ]
     },
     "execution_count": 131,
     "metadata": {},
     "output_type": "execute_result"
    }
   ],
   "source": [
    "name[::-1]"
   ]
  },
  {
   "cell_type": "code",
   "execution_count": 132,
   "metadata": {},
   "outputs": [
    {
     "data": {
      "text/plain": [
       "'nat'"
      ]
     },
     "execution_count": 132,
     "metadata": {},
     "output_type": "execute_result"
    }
   ],
   "source": [
    "name[2:5]"
   ]
  },
  {
   "cell_type": "code",
   "execution_count": 133,
   "metadata": {},
   "outputs": [
    {
     "data": {
      "text/plain": [
       "['I', 'g', 'n', 'a', 't', ' ', 'P', 'o', 't', 'a', 'p', 'o', 'v']"
      ]
     },
     "execution_count": 133,
     "metadata": {},
     "output_type": "execute_result"
    }
   ],
   "source": [
    "list(name)"
   ]
  },
  {
   "cell_type": "code",
   "execution_count": 134,
   "metadata": {},
   "outputs": [
    {
     "data": {
      "text/plain": [
       "{' ', 'I', 'P', 'a', 'g', 'n', 'o', 'p', 't', 'v'}"
      ]
     },
     "execution_count": 134,
     "metadata": {},
     "output_type": "execute_result"
    }
   ],
   "source": [
    "set(name)"
   ]
  },
  {
   "cell_type": "code",
   "execution_count": 135,
   "metadata": {},
   "outputs": [
    {
     "data": {
      "text/plain": [
       "'ignat potapov'"
      ]
     },
     "execution_count": 135,
     "metadata": {},
     "output_type": "execute_result"
    }
   ],
   "source": [
    "name.lower()"
   ]
  },
  {
   "cell_type": "code",
   "execution_count": 136,
   "metadata": {},
   "outputs": [
    {
     "data": {
      "text/plain": [
       "'IGNAT POTAPOV'"
      ]
     },
     "execution_count": 136,
     "metadata": {},
     "output_type": "execute_result"
    }
   ],
   "source": [
    "name.upper()"
   ]
  },
  {
   "cell_type": "code",
   "execution_count": 137,
   "metadata": {},
   "outputs": [
    {
     "data": {
      "text/plain": [
       "['Ignat', 'Potapov']"
      ]
     },
     "execution_count": 137,
     "metadata": {},
     "output_type": "execute_result"
    }
   ],
   "source": [
    "name.split(' ')"
   ]
  },
  {
   "cell_type": "code",
   "execution_count": 138,
   "metadata": {},
   "outputs": [
    {
     "data": {
      "text/plain": [
       "['Ign', 't Pot', 'pov']"
      ]
     },
     "execution_count": 138,
     "metadata": {},
     "output_type": "execute_result"
    }
   ],
   "source": [
    "name.split('a')"
   ]
  },
  {
   "cell_type": "code",
   "execution_count": 139,
   "metadata": {},
   "outputs": [],
   "source": [
    "course_info = {'course_names': {'eng': 'Python_Intro', 'ru': 'Введение в Питон'},\n",
    "               'teacher': 'Anatoly Karpov',\n",
    "               'n_lessons': 10,\n",
    "               'n_students': 10399,\n",
    "               'school_name': 'KarpovCourses',\n",
    "               'start_date': '2023-06-21'                              \n",
    "              }"
   ]
  },
  {
   "cell_type": "code",
   "execution_count": 140,
   "metadata": {},
   "outputs": [],
   "source": [
    "user_name = 'Ignat Potapov'\n",
    "course_names = course_info['course_names']['eng']\n",
    "start_date = course_info['start_date']\n",
    "n_lesson = course_info['n_lessons']\n"
   ]
  },
  {
   "cell_type": "code",
   "execution_count": 141,
   "metadata": {},
   "outputs": [],
   "source": [
    "greetings_text = f'''Hi, {user_name}!\n",
    "Welcome to the course {course_names}!\n",
    "Course contains {n_lesson} lessons.\n",
    "The course will stats on {start_date}.\n",
    "'''"
   ]
  },
  {
   "cell_type": "code",
   "execution_count": 142,
   "metadata": {},
   "outputs": [
    {
     "name": "stdout",
     "output_type": "stream",
     "text": [
      "Hi, Ignat Potapov!\n",
      "Welcome to the course Python_Intro!\n",
      "Course contains 10 lessons.\n",
      "The course will stats on 2023-06-21.\n",
      "\n"
     ]
    }
   ],
   "source": [
    "print(greetings_text)"
   ]
  },
  {
   "cell_type": "markdown",
   "metadata": {},
   "source": [
    "Мы уже познакомились с идеей изменяемых и неизменяемых объектов в Python. Какие практические последствия возникают из того факта, что строки, в отличие от списков, являются неизменяемыми объектами?\n",
    "\n",
    "Чтобы показать, что строки являются неизменяемыми объектами, мы можем использовать следующий пример кода:"
   ]
  },
  {
   "cell_type": "code",
   "execution_count": 143,
   "metadata": {},
   "outputs": [],
   "source": [
    "my_string = \"abcde\"\n",
    "# my_string[0] = \"f\""
   ]
  },
  {
   "cell_type": "markdown",
   "metadata": {},
   "source": [
    "Когда мы запустим этот код, мы получим сообщение об ошибке TypeError, говорящее о том, что строковый объект не поддерживает присваивание элементу. Это происходит потому, что в Python строки — это неизменяемые объекты, их нельзя изменять после создания. Если мы хотим создать новую строку на основе существующей, то мы должны создать новый объект строки. Например, мы можем создать новую строку, которая заменяет первый символ строки \"a\" на символ \"f\", используя следующий код:"
   ]
  },
  {
   "cell_type": "code",
   "execution_count": 144,
   "metadata": {},
   "outputs": [
    {
     "name": "stdout",
     "output_type": "stream",
     "text": [
      "fbcde\n"
     ]
    }
   ],
   "source": [
    "my_string = \"abcde\"\n",
    "new_string = \"f\" + my_string[1:]\n",
    "print(new_string)"
   ]
  },
  {
   "cell_type": "markdown",
   "metadata": {},
   "source": [
    "Это создаст новую строку через использование строки \"f\" и всех символов из оригинальной строки, начиная с индекса 1. Результатом будет строка \"fbcde\" — новая строка, которую мы можем использовать дальше в нашей программе.\n",
    "\n",
    "Чтобы окончательно закрепить различия в работе с изменяемыми и неизменяемыми объектами, давайте сравним списки и строки:"
   ]
  },
  {
   "cell_type": "code",
   "execution_count": 145,
   "metadata": {},
   "outputs": [
    {
     "data": {
      "text/plain": [
       "'hello, world!'"
      ]
     },
     "execution_count": 145,
     "metadata": {},
     "output_type": "execute_result"
    }
   ],
   "source": [
    "my_str = \"Hello, world!\"\n",
    "my_str.lower() # вернет нам новую строку, никак не изменит str1"
   ]
  },
  {
   "cell_type": "code",
   "execution_count": 146,
   "metadata": {},
   "outputs": [],
   "source": [
    "my_list = [3, 2, 1]\n",
    "my_list.append(4) # ничего не вернет, изменит my_list"
   ]
  },
  {
   "cell_type": "markdown",
   "metadata": {},
   "source": [
    "Никакой метод не изменит исходную переменную my_str, а вот различные методы списков могут изменить структуру исходного списка my_list.\n"
   ]
  },
  {
   "cell_type": "markdown",
   "metadata": {},
   "source": [
    "### Форматирование строк"
   ]
  },
  {
   "cell_type": "markdown",
   "metadata": {},
   "source": [
    "F-строки в Python — это способ форматирования строк, появившийся в версии Python 3.6. Используя f-строки, вы можете вставлять значения переменных или выражений прямо в строку. Для этого необходимо задавать переменные внутри фигурных скобок {} внутри строки, перед которыми нужно поставить приставку \"f\". Вот пример:"
   ]
  },
  {
   "cell_type": "code",
   "execution_count": 147,
   "metadata": {},
   "outputs": [
    {
     "name": "stdout",
     "output_type": "stream",
     "text": [
      "My name is Alice and I am 25 years old\n"
     ]
    }
   ],
   "source": [
    "name = \"Alice\"\n",
    "age = 25\n",
    "print(f\"My name is {name} and I am {age} years old\")\n",
    "\n",
    "\n",
    "# Результат этого кода будет:\n",
    "# My name is Alice and I am 25 years old"
   ]
  },
  {
   "cell_type": "markdown",
   "metadata": {},
   "source": [
    "\n",
    "Как видите, переменные name и age были вставлены в строку прямо внутри фигурных скобок. Вы также можете использовать выражения внутри f-строк, например, так:\n"
   ]
  },
  {
   "cell_type": "code",
   "execution_count": 148,
   "metadata": {},
   "outputs": [
    {
     "name": "stdout",
     "output_type": "stream",
     "text": [
      "The value of x squared is 25\n"
     ]
    }
   ],
   "source": [
    "x = 5\n",
    "print(f\"The value of x squared is {x**2}\")\n",
    "\n",
    "\n",
    "# Результат:\n",
    "# The value of x squared is 25"
   ]
  },
  {
   "cell_type": "markdown",
   "metadata": {},
   "source": [
    "### F-строки делают код более читабельным и удобным, особенно когда вы работаете со многими переменными и значениями. Если вы работаете с более ранней версией Python, то полезно знать и про другие методы форматирования.\n",
    "\n"
   ]
  },
  {
   "cell_type": "markdown",
   "metadata": {},
   "source": [
    "1. С помощью оператора %\n",
    "\n",
    "Этот способ форматирования строк уже устарел, но все еще используется в некоторых старых проектах. Синтаксис похож на форматирование строк в языке C, где %s используется для вставки строки, а %d для вставки числа:"
   ]
  },
  {
   "cell_type": "code",
   "execution_count": 149,
   "metadata": {},
   "outputs": [
    {
     "name": "stdout",
     "output_type": "stream",
     "text": [
      "My name is Alice and I am 25 years old\n"
     ]
    }
   ],
   "source": [
    "name = \"Alice\"\n",
    "age = 25\n",
    "print(\"My name is %s and I am %d years old\" % (name, age))\n",
    "\n",
    "\n",
    "# Результат выполнения:\n",
    "# My name is Alice and I am 25 years old"
   ]
  },
  {
   "cell_type": "markdown",
   "metadata": {},
   "source": [
    "2. С помощью метода format()\n",
    "\n",
    "Это метод строки, который позволяет форматировать текст, заменяя входные аргументы внутри фигурных скобок {}. Вот пример использования метода format():\n",
    "\n",
    "\n"
   ]
  },
  {
   "cell_type": "code",
   "execution_count": 150,
   "metadata": {},
   "outputs": [
    {
     "name": "stdout",
     "output_type": "stream",
     "text": [
      "Меня зовут Алексей. Мне 30 лет.\n"
     ]
    }
   ],
   "source": [
    "name = \"Алексей\"\n",
    "age = 30\n",
    "print(\"Меня зовут {}. Мне {} лет.\".format(name, age))"
   ]
  },
  {
   "cell_type": "markdown",
   "metadata": {},
   "source": [
    "Результат выполнения данного кода будет следующим:\n",
    "\n",
    "Меня зовут Алексей. Мне 30 лет.\n",
    "\n",
    "\n",
    "Знаки {} в строке были заменены на переменные, которые были переданы в метод format(). Это позволяет создавать динамические строки, которые меняются в зависимости от переменных, переданных в метод format(). Можно использовать индексы для замены переменных:"
   ]
  },
  {
   "cell_type": "code",
   "execution_count": 151,
   "metadata": {},
   "outputs": [
    {
     "name": "stdout",
     "output_type": "stream",
     "text": [
      "Мне 30 лет. Меня зовут Алексей.\n"
     ]
    }
   ],
   "source": [
    "name = \"Алексей\"\n",
    "age = 30\n",
    "print(\"Мне {1} лет. Меня зовут {0}.\".format(name, age))"
   ]
  },
  {
   "cell_type": "markdown",
   "metadata": {},
   "source": [
    "Здесь мы использовали индекс 1 для замены переменной age, индекс 0 — для переменной name. Это может быть полезно, если нужно менять порядок вывода переменных в строке. Кроме того, можно использовать именованные аргументы для замены:\n"
   ]
  },
  {
   "cell_type": "code",
   "execution_count": 152,
   "metadata": {},
   "outputs": [
    {
     "name": "stdout",
     "output_type": "stream",
     "text": [
      "Меня зовут Алексей. Мне 30 лет.\n"
     ]
    }
   ],
   "source": [
    "print(\"Меня зовут {name}. Мне {age} лет.\".format(name='Алексей', age=30))"
   ]
  },
  {
   "cell_type": "markdown",
   "metadata": {},
   "source": [
    "## Lesson 7"
   ]
  },
  {
   "cell_type": "markdown",
   "metadata": {},
   "source": [
    "## Условие IF"
   ]
  },
  {
   "cell_type": "code",
   "execution_count": 170,
   "metadata": {},
   "outputs": [
    {
     "name": "stdout",
     "output_type": "stream",
     "text": [
      "Студент Федор поступил на курс психологии!\n",
      "Студент Федор набрал 99 баллов!\n",
      "Другие студенты ожидают результатов\n"
     ]
    }
   ],
   "source": [
    "score_1 = 92\n",
    "score_2 = 99\n",
    "student_name = 'Федор'\n",
    "\n",
    "threshold = 90\n",
    "\n",
    "if score_1 > threshold or score_2 > threshold:\n",
    "    print(f'Студент {student_name} поступил на курс психологии!')\n",
    "    print(f'Студент {student_name} набрал {max(score_1, score_2)} баллов!')\n",
    "\n",
    "print('Другие студенты ожидают результатов')"
   ]
  },
  {
   "cell_type": "markdown",
   "metadata": {},
   "source": [
    "### Вложенные операторы IF\n",
    "### Мы можем использовать IF внутри IF. Обратите внимание, что в таком случае мы добавляем еще один уровень отступов. "
   ]
  },
  {
   "cell_type": "code",
   "execution_count": 173,
   "metadata": {},
   "outputs": [
    {
     "name": "stdout",
     "output_type": "stream",
     "text": [
      "The number is positive and even\n"
     ]
    }
   ],
   "source": [
    "# Пример 1: Проверка, что число является положительным и четным:\n",
    "number = 8\n",
    "if number > 0:\n",
    "    if number % 2 == 0:\n",
    "        print(\"The number is positive and even\")"
   ]
  },
  {
   "cell_type": "code",
   "execution_count": 174,
   "metadata": {},
   "outputs": [
    {
     "name": "stdout",
     "output_type": "stream",
     "text": [
      "The string starts with 'H'\n"
     ]
    }
   ],
   "source": [
    "# Пример 2: Проверка длины строки и ее первого символа:\n",
    "string = \"Hello, world!\"\n",
    "if len(string) > 0:\n",
    "    if string[0] == \"H\":\n",
    "        print(\"The string starts with 'H'\")"
   ]
  },
  {
   "cell_type": "markdown",
   "metadata": {},
   "source": [
    "#### В обоих примерах мы могли бы воспользоваться одним IF и поместить в него оба условия через and. Например, вот так:"
   ]
  },
  {
   "cell_type": "code",
   "execution_count": 176,
   "metadata": {},
   "outputs": [
    {
     "name": "stdout",
     "output_type": "stream",
     "text": [
      "The number is positive and even\n"
     ]
    }
   ],
   "source": [
    "if number > 0 and number % 2 == 0:\n",
    "    print(\"The number is positive and even\")"
   ]
  },
  {
   "cell_type": "markdown",
   "metadata": {},
   "source": [
    "Но у вложенных IF есть свои преимущества:\n",
    "\n",
    "1. Каскадная проверка условий:\n",
    "\n",
    "Если существует несколько вариантов выполнения кода, вложенные if позволяют проверить каждое условие последовательно. Например, если есть несколько возможных вариантов решения задачи в зависимости от разных условий, можно использовать вложенные if для проверки каждого варианта.\n",
    "\n",
    "2. Уточнение условий:\n",
    "\n",
    "Если для выполнения задачи нужно проверить несколько условий одновременно, вложенные if могут помочь уточнить их. Например, если нужно проверить, является ли число положительным и четным, можно использовать вложенные if для проверки обоих условий.\n",
    "\n",
    "3. Выполнение дополнительных действий:\n",
    "\n",
    "Вложенные if также могут использоваться для выполнения дополнительных действий в зависимости от условий. Например, если нужно выполнить определенные действия только в определенных ситуациях, можно использовать вложенные if для проверки условий и выполнения соответствующих действий.\n",
    "\n",
    "Важно помнить, что при использовании вложенных if следует обращать внимание на правильное форматирование кода и оптимизацию логики. Слишком глубокое вложение if-условий может сделать код сложным для чтения и понимания."
   ]
  },
  {
   "cell_type": "markdown",
   "metadata": {},
   "source": [
    "### Из лекции вы знаете, что после IF ожидается выражение, которое возвращает TRUE или FALSE, но также было уточнение, что на практике все чуть сложнее. Давайте рассмотрим такой пример: мы будем проверять длину списка, если он не пустой, печатать элементы списка:"
   ]
  },
  {
   "cell_type": "code",
   "execution_count": 178,
   "metadata": {},
   "outputs": [
    {
     "name": "stdout",
     "output_type": "stream",
     "text": [
      "['чай', 'кофе', 'сок']\n"
     ]
    }
   ],
   "source": [
    "available_products = ['чай', 'кофе', 'сок']\n",
    "\n",
    "if len(available_products) > 0:\n",
    "    print(available_products)"
   ]
  },
  {
   "cell_type": "markdown",
   "metadata": {},
   "source": [
    "#### Такой код выведет нам список на печать, так как len(available_products) > 0 действительно вернет нам True. Мы могли бы записать ту же самую проверку следующим образом:"
   ]
  },
  {
   "cell_type": "code",
   "execution_count": 179,
   "metadata": {},
   "outputs": [
    {
     "name": "stdout",
     "output_type": "stream",
     "text": [
      "['чай', 'кофе', 'сок']\n"
     ]
    }
   ],
   "source": [
    "available_products = ['чай', 'кофе', 'сок']\n",
    "\n",
    "if available_products:\n",
    "    print(available_products)"
   ]
  },
  {
   "cell_type": "markdown",
   "metadata": {},
   "source": [
    "#### И такой код тоже выведет нам список на печать, хотя после IF находится не TRUE или FALSE, а просто наш список! Все дело в том, что непустой список интерпретируется как TRUE. Помните, мы уже говорили про приведение типов? Таким образом, если после IF написано что-то, что не является TRUE или FALSE, программа попытается перевести это в логический тип и результат приведения использовать для выполнения условия. \n",
    "\n",
    "#### Рассмотрим еще несколько примеров, выполните эти условия, чтобы увидеть, где мы получим TRUE, а где FALSE:"
   ]
  },
  {
   "cell_type": "code",
   "execution_count": 182,
   "metadata": {},
   "outputs": [
    {
     "name": "stdout",
     "output_type": "stream",
     "text": [
      "Условие выполнено\n",
      "Условие выполнено\n",
      "Условие выполнено\n"
     ]
    }
   ],
   "source": [
    "n = 0\n",
    "if n:\n",
    "   print('Условие выполнено')\n",
    "   \n",
    "n = 10\n",
    "if n:\n",
    "   print('Условие выполнено')\n",
    "\n",
    "n = -5\n",
    "if n:\n",
    "   print('Условие выполнено')\n",
    "\n",
    "s = 'Oksana'\n",
    "if s:\n",
    "   print('Условие выполнено')\n",
    "\n",
    "s = ''\n",
    "if s:\n",
    "   print('Условие выполнено')\n",
    "\n",
    "d = {}\n",
    "if d:\n",
    "   print('Условие выполнено')\n"
   ]
  },
  {
   "cell_type": "markdown",
   "metadata": {},
   "source": [
    "#### Таким образом, ноль, пустая строка, пустой массив интерпретируются как FALSE. И если мы хотим вывести на печать список, но только при условии, что он не пустой, мы действительно можем написать условие таким образом — if available_products:\n",
    "\n",
    "#### Для опытного программиста это будет довольно естественная запись. Но на старте мы рекомендуем прописывать условия максимально явно, чем более понятно, что именно мы проверяем, тем проще читать код как вам самим, так и вашим коллегам — if len(available_products) > 0:\n",
    "\n",
    "#### Так сразу понятно, что available_products — это какой-то массив, мы проверяем, что он не пустой. В первом же варианте придется уточнить тип переменной available_products, чтобы понять логику кода."
   ]
  },
  {
   "cell_type": "markdown",
   "metadata": {},
   "source": [
    "###  Условия ELIF и ELSE"
   ]
  },
  {
   "cell_type": "code",
   "execution_count": 193,
   "metadata": {},
   "outputs": [
    {
     "name": "stdout",
     "output_type": "stream",
     "text": [
      "Студент Федор ожидает третьего тура!\n",
      "Другие студенты ожидают результатов!\n"
     ]
    }
   ],
   "source": [
    "score_1 = 62\n",
    "score_2 = 60\n",
    "\n",
    "threshold = 80\n",
    "threshold_last_chance = 70\n",
    "threshold_last_chance_2 = 60\n",
    "\n",
    "student_name = 'Федор'\n",
    "\n",
    "if score_1 > threshold or score_2 > threshold:\n",
    "    print(f'Студент {student_name} поступил на факультет психологии!')\n",
    "    print(f'Студент {student_name} набрал {max(score_1, score_2)} баллов!')\n",
    "\n",
    "elif score_1 > threshold_last_chance or score_2 > threshold_last_chance:\n",
    "    print(f'Студент {student_name} ожидает второго тура!')\n",
    "\n",
    "elif score_1 > threshold_last_chance_2 or score_2 > threshold_last_chance_2:\n",
    "    print(f'Студент {student_name} ожидает третьего тура!')\n",
    "\n",
    "else:\n",
    "    print(f'Студент {student_name} не поступил на курс психологии!')\n",
    "    print('Баллов не хватило!')\n",
    "\n",
    "print('Другие студенты ожидают результатов!')"
   ]
  },
  {
   "cell_type": "markdown",
   "metadata": {},
   "source": [
    "## Lesson 8"
   ]
  },
  {
   "cell_type": "code",
   "execution_count": null,
   "metadata": {},
   "outputs": [],
   "source": []
  },
  {
   "cell_type": "code",
   "execution_count": null,
   "metadata": {},
   "outputs": [],
   "source": []
  }
 ],
 "metadata": {
  "kernelspec": {
   "display_name": "base",
   "language": "python",
   "name": "python3"
  },
  "language_info": {
   "codemirror_mode": {
    "name": "ipython",
    "version": 3
   },
   "file_extension": ".py",
   "mimetype": "text/x-python",
   "name": "python",
   "nbconvert_exporter": "python",
   "pygments_lexer": "ipython3",
   "version": "3.11.3"
  }
 },
 "nbformat": 4,
 "nbformat_minor": 2
}
