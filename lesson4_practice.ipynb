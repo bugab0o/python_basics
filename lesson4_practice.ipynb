{
 "cells": [
  {
   "cell_type": "markdown",
   "metadata": {},
   "source": [
    "#### Задача 1\n",
    "Словарь в Python — это структура данных, которая хранит объекты в виде ключей и значений. Ключи могут быть любого неизменяемого типа данных — числа, строки, кортежи, а значения могут быть любого типа данных — числа, строки, списки, словари и т.д. Словарь в Python является очень эффективным способом хранения данных, потому что он позволяет быстро находить значения по ключу. Рассмотрим небольшой пример: \n",
    "### - создаем словарь, который хранит информацию о студентах\n",
    "students = {\n",
    "    'Василий': {'возраст': 23, 'курс': 3},\n",
    "    'Мария': {'возраст': 20, 'курс': 2},\n",
    "    'Петр': {'возраст': 22, 'курс': 2},\n",
    "    'Ольга': {'возраст': 21, 'курс': 3}\n",
    "}\n",
    "### - выводим информацию о студенте с именем \"Василий\"\n",
    "print(students['Василий'])\n",
    "### - выводим возраст студента \"Мария\"\n",
    "print(students['Мария']['возраст'])\n",
    "\n",
    "# Задание:\n",
    "\n",
    "В переменную cities_population  сохраните словарь с тремя ключами: 'Москва', 'Париж', 'Токио'. В качестве значений сохраните населедение этих городов в млн. человек: 11.98, 2.16, 13.96. Ключами нашего словаря будут строки, значениями — числа в формате float."
   ]
  },
  {
   "cell_type": "code",
   "execution_count": 7,
   "metadata": {},
   "outputs": [],
   "source": [
    "cities_population = {'Москва': 11.98, \n",
    "                    'Париж': 2.16, \n",
    "                    'Токио': 13.96\n",
    "                    }"
   ]
  },
  {
   "cell_type": "code",
   "execution_count": 8,
   "metadata": {},
   "outputs": [
    {
     "data": {
      "text/plain": [
       "{'Москва': 11.98, 'Париж': 2.16, 'Токио': 13.96}"
      ]
     },
     "execution_count": 8,
     "metadata": {},
     "output_type": "execute_result"
    }
   ],
   "source": [
    "cities_population"
   ]
  },
  {
   "cell_type": "markdown",
   "metadata": {},
   "source": [
    "## Задача 2\n",
    "Очень часто нам приходится работать сразу с двумя наборами данных, например, с двумя списками или множествами. Оператор zip() в Python объединяет элементы из нескольких последовательностей. Давайте рассмотрим пример:\n",
    "\n",
    "x = [1, 2, 3]\n",
    "y = ['a', 'b', 'c']\n",
    "\n",
    "### Используем оператор zip() для объединения элементов из двух списков\n",
    "result = zip(x, y)\n",
    "\n",
    "### Преобразуем результат в список\n",
    "result_list = list(result)\n",
    "\n",
    "print(result_list) # [(1, 'a'), (2, 'b'), (3, 'c')]\n",
    "\n",
    "\n",
    "В этом примере мы создаем два списка x и y, содержащих числа и буквы соответственно. Затем мы используем оператор zip() для объединения элементов из этих двух списков. Результатом является более сложный тип данных, но мы без труда можем перейти к уже знакомому нам формату при помощи функции list(). \n",
    "\n",
    "Сейчас важно запомнить, что при помощи связки list(zip(x, y)) мы можем быстро и эффективно объяединять несколько списков.\n",
    "\n",
    "Важно отметить, что результат zip() будет иметь длину, равную длине самой короткой из исходных последовательностей. Если длины последовательностей отличаются, то лишние элементы будут проигнорированы. Оператор zip() может использоваться в таких ситуациях, как итерация по нескольким последовательностям одновременно или совмещение элементов из нескольких списках.\n",
    "\n",
    "### Задание:\n",
    "\n",
    "Дан словарь dict_input. Поменяйте ключи и значения местами. Результат сохраните в result. \n"
   ]
  },
  {
   "cell_type": "code",
   "execution_count": 28,
   "metadata": {},
   "outputs": [],
   "source": [
    "dict_input = {\"1\": 11, \"2\": 22, \"3\": 33}\n",
    "# result = {11: \"1\", 22:\"2\", 33:\"3\"}\n",
    "\n",
    "keys = list(dict_input.keys())\n",
    "values = list(dict_input.values())\n",
    "result = dict(zip(values, keys))"
   ]
  },
  {
   "cell_type": "code",
   "execution_count": 29,
   "metadata": {},
   "outputs": [
    {
     "data": {
      "text/plain": [
       "{11: '1', 22: '2', 33: '3'}"
      ]
     },
     "execution_count": 29,
     "metadata": {},
     "output_type": "execute_result"
    }
   ],
   "source": [
    "result"
   ]
  },
  {
   "cell_type": "markdown",
   "metadata": {},
   "source": [
    "### Задача 3\n",
    "Катя — владелец небольшого кондитерского производства, на котором изготавливаются эклеры. \n",
    "У нас  есть словарь data, в котором содержится информация о себестоимости единицы товара cost_price, продажную цену sell_price и количество товара eclairs. \n",
    "Нужно посчитать, какую прибыль Катя получает после продажи своей продукции. Результат сохраните в переменную result, округлив сумму до целого числа."
   ]
  },
  {
   "cell_type": "code",
   "execution_count": 44,
   "metadata": {},
   "outputs": [],
   "source": [
    "data = {\n",
    "  \"cost_price\": 225.89,\n",
    "  \"sell_price\": 550.00,\n",
    "  \"eclairs\": 100\n",
    "}\n",
    "# result = 32411\n",
    "\n",
    "olo = list(data.values())\n",
    "result = round(olo[1] * olo[2] - olo[0] * olo[2])\n",
    "\n",
    "# result = round((data[\"eclairs\"]) * (data[\"sell_price\"] - data[\"cost_price\"]))"
   ]
  },
  {
   "cell_type": "code",
   "execution_count": 46,
   "metadata": {},
   "outputs": [
    {
     "data": {
      "text/plain": [
       "32411"
      ]
     },
     "execution_count": 46,
     "metadata": {},
     "output_type": "execute_result"
    }
   ],
   "source": [
    "result\n"
   ]
  },
  {
   "cell_type": "markdown",
   "metadata": {},
   "source": [
    "### Задача 4\n",
    "Есть словарь student, в котором хранятся имя студента и список его оценок. В result  сохраните словарь с именем студента и самой высокой его оценкой. "
   ]
  },
  {
   "cell_type": "code",
   "execution_count": 156,
   "metadata": {},
   "outputs": [],
   "source": [
    "student = {\"name\": \"Igor\", \"notes\": [4, 5, 4]}\n",
    "# result = {\"name\": \"Igor\", \"max_note\": 5}\n",
    "result = {\n",
    "    \"name\": student[\"name\"],\n",
    "    \"max_note\": max(student[\"notes\"])\n",
    "         }"
   ]
  },
  {
   "cell_type": "code",
   "execution_count": 157,
   "metadata": {},
   "outputs": [
    {
     "data": {
      "text/plain": [
       "{'name': 'Igor', 'max_note': 5}"
      ]
     },
     "execution_count": 157,
     "metadata": {},
     "output_type": "execute_result"
    }
   ],
   "source": [
    "result"
   ]
  },
  {
   "cell_type": "markdown",
   "metadata": {},
   "source": [
    "### Задача 5\n",
    "Антон учится в karpov.courses. В словаре anton_courses хранится информация о завершенных им курсах и количестве набранных баллов. Данные в словаре хранятся в формате ключ — название курса, значение — количество баллов в числовом формате. \n",
    "Антон завершил обучение на курсе HardML и набрал 120 баллов. Добавьте в словарь anton_courses эту информацию. \n",
    "В переменную courses сохраните список пройденных курсов. \n",
    "В переменную StartML сохраните количество баллов, набранное Антоном на одноименном курсе, эта информация есть в словаре. "
   ]
  },
  {
   "cell_type": "code",
   "execution_count": 118,
   "metadata": {},
   "outputs": [],
   "source": [
    "anton_courses = {'SimulatorAnalyst': 56, \n",
    "                 'StartML': 87, \n",
    "                 'DataAnalyst': 140}\n",
    "# -> \n",
    "# anton_courses = {'SimulatorAnalyst': 56, \n",
    "#                  'StartML': 87, \n",
    "#                  'DataAnalyst': 140, \n",
    "#                  'HardML': 120}\n",
    "# courses = ['SimulatorAnalyst', 'StartML', 'DataAnalyst', 'HardML']\n",
    "# StartML = 87\n",
    "\n",
    "anton_courses['HardML'] = 120\n",
    "courses = list(anton_courses.keys())\n",
    "StartML = (anton_courses.setdefault(\"StartML\"))\n"
   ]
  },
  {
   "cell_type": "code",
   "execution_count": 119,
   "metadata": {},
   "outputs": [
    {
     "data": {
      "text/plain": [
       "{'SimulatorAnalyst': 56, 'StartML': 87, 'DataAnalyst': 140, 'HardML': 120}"
      ]
     },
     "execution_count": 119,
     "metadata": {},
     "output_type": "execute_result"
    }
   ],
   "source": [
    "anton_courses"
   ]
  },
  {
   "cell_type": "code",
   "execution_count": 120,
   "metadata": {},
   "outputs": [
    {
     "data": {
      "text/plain": [
       "['SimulatorAnalyst', 'StartML', 'DataAnalyst', 'HardML']"
      ]
     },
     "execution_count": 120,
     "metadata": {},
     "output_type": "execute_result"
    }
   ],
   "source": [
    "courses"
   ]
  },
  {
   "cell_type": "code",
   "execution_count": 116,
   "metadata": {},
   "outputs": [],
   "source": [
    "StartML = (anton_courses.setdefault(\"StartML\"))"
   ]
  },
  {
   "cell_type": "code",
   "execution_count": 121,
   "metadata": {},
   "outputs": [
    {
     "data": {
      "text/plain": [
       "87"
      ]
     },
     "execution_count": 121,
     "metadata": {},
     "output_type": "execute_result"
    }
   ],
   "source": [
    "StartML"
   ]
  },
  {
   "cell_type": "markdown",
   "metadata": {},
   "source": [
    "### Задача 6\n",
    "У нас есть магазин одежды LARA. В словаре shop_stock хранится информация о товарах, имеющихся в наличии на складе магазина. Информация указана в формате ключ — артикул товара, значение — количество единиц. \n",
    "В магазин поставили новую партию товаров, в словаре shop_new_goods записана информация о поставленых товарах и их количестве. \n",
    "Создайте словарь result, который будет содержать информацию и о товарах на складе, и о товарах из новой поставки. Известно, что если на складе оставалась хотя бы одна единица какого-то типа товара, то товара этого типа не было в поставке. "
   ]
  },
  {
   "cell_type": "code",
   "execution_count": 128,
   "metadata": {},
   "outputs": [],
   "source": [
    "shop_stock = {\"2358241350-50\": 1, \"2358000350-30\": 24, \"2358241350-00\": 3}\n",
    "shop_new_goods = {\"2358241350-60\": 10}\n",
    "\n",
    "# result = {\"2358241350-50\": 1, \"2358000350-30\": 24, \"2358241350-00\": 3, \"2358241350-60\": 10}\n",
    "\n",
    "shop_stock.update(shop_new_goods)\n",
    "result = shop_stock"
   ]
  },
  {
   "cell_type": "code",
   "execution_count": 129,
   "metadata": {},
   "outputs": [
    {
     "data": {
      "text/plain": [
       "{'2358241350-50': 1,\n",
       " '2358000350-30': 24,\n",
       " '2358241350-00': 3,\n",
       " '2358241350-60': 10}"
      ]
     },
     "execution_count": 129,
     "metadata": {},
     "output_type": "execute_result"
    }
   ],
   "source": [
    "result"
   ]
  },
  {
   "cell_type": "markdown",
   "metadata": {},
   "source": [
    "### Задача 7\n",
    "Магазин ВкуссЧилл хранит информацию о имеющихся в наличии фруктах и овощах в словаре input_dict в формате ключ — название фрукта или овоща, значение — количество килограмм в наличии. Посчитайте, сколько всего килограммов фруктов и овощей имеется в магазине. Результат сохраните в переменную result."
   ]
  },
  {
   "cell_type": "code",
   "execution_count": 137,
   "metadata": {},
   "outputs": [],
   "source": [
    "input_dict = {\"морковь\": 10.44, \"капуста\": 5.06, \"клубника\": 3}\n",
    "\n",
    "# result = 18.5\n",
    "\n",
    "result = sum(list(input_dict.values()))"
   ]
  },
  {
   "cell_type": "code",
   "execution_count": 138,
   "metadata": {},
   "outputs": [
    {
     "data": {
      "text/plain": [
       "18.5"
      ]
     },
     "execution_count": 138,
     "metadata": {},
     "output_type": "execute_result"
    }
   ],
   "source": [
    "result"
   ]
  },
  {
   "cell_type": "markdown",
   "metadata": {},
   "source": [
    "### Задача 8\n",
    "Имеется словарь courses, содержащий информацию о стоимости обучения в karpov.courses в формате:\n",
    "ключ — название курса\n",
    "значение — стоимость обучения\n",
    "\n",
    "Найдите цену самого дорогого курса. Результат сохраните в  result.\n"
   ]
  },
  {
   "cell_type": "code",
   "execution_count": 139,
   "metadata": {},
   "outputs": [],
   "source": [
    "courses = {\"Python\": 80000, \"SQL\": 300000}\n",
    "# result = 300000\n",
    "\n",
    "result = max(list(courses.values()))"
   ]
  },
  {
   "cell_type": "code",
   "execution_count": 140,
   "metadata": {},
   "outputs": [
    {
     "data": {
      "text/plain": [
       "300000"
      ]
     },
     "execution_count": 140,
     "metadata": {},
     "output_type": "execute_result"
    }
   ],
   "source": [
    "result"
   ]
  },
  {
   "cell_type": "markdown",
   "metadata": {},
   "source": [
    "### Задача 9\n",
    "В базе данных МАИ информация о студентах и кафедрах, к которым они прикреплены, хранится в словаре kaf_sudents в формате: \n",
    "ключ — ФИО студента,\n",
    "значение — код кафедры. \n",
    "\n",
    "#### После второго курса по итогам последних двух сессий был составлен рейтинг студентов, на основе которого произошло перераспределение студентов по кафедрам. Часть студентов продолжила обучение на своей кафедре, а некоторые студенты перешли с одной кафедры на другую. Информация о студентах, перешедших на новую кафедру, хранится в словаре new_kaf_students. \n",
    "\n",
    "Обновите информацию в словаре kaf_sudents, добавив в словарь данные из new_kaf_students.\n",
    "\n"
   ]
  },
  {
   "cell_type": "code",
   "execution_count": 143,
   "metadata": {},
   "outputs": [],
   "source": [
    "kaf_sudents  = {'Карпов Анатолий Дмитриевич': 100}\n",
    "new_kaf_students =  {'Иванчей Иван Иванович': 200}\n",
    "\n",
    "# kaf_sudents = {'Карпов Анатолий Дмитриевич': 100, 'Иванчей Иван Иванович': 200}\n",
    "\n",
    "kaf_sudents.update(new_kaf_students)"
   ]
  },
  {
   "cell_type": "code",
   "execution_count": 145,
   "metadata": {},
   "outputs": [
    {
     "data": {
      "text/plain": [
       "{'Карпов Анатолий Дмитриевич': 100, 'Иванчей Иван Иванович': 200}"
      ]
     },
     "execution_count": 145,
     "metadata": {},
     "output_type": "execute_result"
    }
   ],
   "source": [
    "kaf_sudents"
   ]
  },
  {
   "cell_type": "markdown",
   "metadata": {},
   "source": [
    "#### Немного о ключах\n",
    "Помните, мы с вами говорили про frozenset? Одна из его полезных особенностей — frozenset можно использовать в качестве ключа словаря. Предположим, мы хотим в качестве ключа, хранить сразу пару значений — имя пользователя и его возраст.\n",
    "\n",
    "students_courses = {}\n",
    "name_age = frozenset(['Anatoly', 32])\n",
    "students_courses.update({name_age: ['Python', 'C++']})\n",
    "print(students_courses) # => {frozenset({32, 'Anatoly'}): ['Python', 'C++']}\n",
    "\n",
    "\n",
    "Это один из примеров практического применения frozenset, если мы хотим создать словарь, где сам ключ — это массив из нескольких элементов, то frozenset сможет нам помочь. Список или обычный set использовать в качестве ключа для словаря не получится."
   ]
  }
 ],
 "metadata": {
  "kernelspec": {
   "display_name": "base",
   "language": "python",
   "name": "python3"
  },
  "language_info": {
   "codemirror_mode": {
    "name": "ipython",
    "version": 3
   },
   "file_extension": ".py",
   "mimetype": "text/x-python",
   "name": "python",
   "nbconvert_exporter": "python",
   "pygments_lexer": "ipython3",
   "version": "3.11.3"
  }
 },
 "nbformat": 4,
 "nbformat_minor": 2
}
